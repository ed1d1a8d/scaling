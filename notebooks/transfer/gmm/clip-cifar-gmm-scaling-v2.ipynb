{
 "cells": [
  {
   "cell_type": "markdown",
   "metadata": {},
   "source": [
    "### Load libraries"
   ]
  },
  {
   "cell_type": "code",
   "execution_count": 1,
   "metadata": {},
   "outputs": [],
   "source": [
    "import copy\n",
    "import pathlib\n",
    "import sys\n",
    "\n",
    "import git.repo\n",
    "import matplotlib.pyplot as plt\n",
    "import numpy as np\n",
    "import pandas as pd\n",
    "from sklearn.mixture import GaussianMixture\n",
    "from sklearn.preprocessing import StandardScaler\n",
    "from tqdm.auto import tqdm\n",
    "\n",
    "GIT_ROOT = pathlib.Path(\n",
    "    str(git.repo.Repo(\".\", search_parent_directories=True).working_tree_dir)\n",
    ")\n",
    "sys.path.append(str(GIT_ROOT))\n",
    "\n",
    "from src.pretrain import linear_probe\n",
    "from src.utils import runs_to_df"
   ]
  },
  {
   "cell_type": "markdown",
   "metadata": {},
   "source": [
    "### Load data"
   ]
  },
  {
   "cell_type": "code",
   "execution_count": 2,
   "metadata": {},
   "outputs": [],
   "source": [
    "CIFAR_CLS_NAMES = (\n",
    "    \"plane\",\n",
    "    \"car\",  # \"automobile\",\n",
    "    \"bird\",\n",
    "    \"cat\",\n",
    "    \"deer\",\n",
    "    \"dog\",\n",
    "    \"frog\",\n",
    "    \"horse\",\n",
    "    \"ship\",\n",
    "    \"truck\",\n",
    ")"
   ]
  },
  {
   "cell_type": "code",
   "execution_count": 3,
   "metadata": {},
   "outputs": [
    {
     "name": "stdout",
     "output_type": "stream",
     "text": [
      "(50000, 768) (50000,) (10000, 768) (10000,)\n"
     ]
    }
   ],
   "source": [
    "def get_cifar_ds(normalize: bool = True) -> linear_probe.Dataset:\n",
    "    d = np.load(\n",
    "        \"/home/gridsan/groups/ccg/data/scaling/clip-embeddings/cifar10_clip.npz\"\n",
    "    )\n",
    "\n",
    "    xs_train: np.ndarray = d[\"xs_train\"]\n",
    "    ys_train: np.ndarray = d[\"ys_train\"]\n",
    "    xs_test: np.ndarray = d[\"xs_test\"]\n",
    "    ys_test: np.ndarray = d[\"ys_test\"]\n",
    "\n",
    "    if normalize:\n",
    "        ss = StandardScaler()\n",
    "        ss.fit(xs_train)\n",
    "        xs_train = ss.transform(xs_train)  # type: ignore\n",
    "        xs_test = ss.transform(xs_test)  # type: ignore\n",
    "\n",
    "    return linear_probe.Dataset(xs_train, ys_train, xs_test, ys_test, name=\"cifar\")\n",
    "\n",
    "\n",
    "DS = get_cifar_ds(normalize=True)\n",
    "print(DS.xs_train.shape, DS.ys_train.shape, DS.xs_test.shape, DS.ys_test.shape)"
   ]
  },
  {
   "cell_type": "markdown",
   "metadata": {},
   "source": [
    "### Compute Gaussian proxies of data"
   ]
  },
  {
   "cell_type": "code",
   "execution_count": 4,
   "metadata": {},
   "outputs": [],
   "source": [
    "DS_G = copy.deepcopy(DS)\n",
    "DS_G.name = \"gaussian\"\n",
    "for c in range(10):\n",
    "    mask_train = DS_G.ys_train == c\n",
    "    mask_test = DS_G.ys_test == c\n",
    "\n",
    "    xs = np.concatenate([DS_G.xs_train[mask_train], DS_G.xs_test[mask_test]])\n",
    "\n",
    "    # Fit a gaussian to xs\n",
    "    mu = np.mean(xs, axis=0)\n",
    "    sigma = np.cov(xs, rowvar=False)\n",
    "\n",
    "    # Sample from the gaussian\n",
    "    n_train = np.sum(mask_train)\n",
    "    n_test = np.sum(mask_test)\n",
    "    xs_train_g = np.random.multivariate_normal(mu, sigma, size=n_train)\n",
    "    xs_test_g = np.random.multivariate_normal(mu, sigma, size=n_test)\n",
    "\n",
    "    # Replace the original data with the gaussian samples\n",
    "    DS_G.xs_train[mask_train] = xs_train_g\n",
    "    DS_G.xs_test[mask_test] = xs_test_g"
   ]
  },
  {
   "cell_type": "code",
   "execution_count": 5,
   "metadata": {},
   "outputs": [],
   "source": [
    "n_components = 6\n",
    "DS_GMM = copy.deepcopy(DS)\n",
    "DS_GMM.name = f\"DS_GMM_{n_components}\"\n",
    "for c in range(10):\n",
    "    mask_train = DS_GMM.ys_train == c\n",
    "    mask_test = DS_GMM.ys_test == c\n",
    "\n",
    "    xs = np.concatenate([DS_GMM.xs_train[mask_train], DS_GMM.xs_test[mask_test]])\n",
    "\n",
    "    # Fit a gaussian mixture model to the data\n",
    "    gmm = GaussianMixture(n_components=n_components, covariance_type=\"full\")\n",
    "    gmm.fit(xs)\n",
    "\n",
    "    # Sample from the gaussian mixture model\n",
    "    n_train = np.sum(mask_train)\n",
    "    n_test = np.sum(mask_test)\n",
    "    xs_train_gmm = gmm.sample(n_train)[0]\n",
    "    xs_test_gmm = gmm.sample(n_test)[0]\n",
    "\n",
    "    # Replace the original data with the gaussian samples\n",
    "    DS_GMM.xs_train[mask_train] = xs_train_gmm\n",
    "    DS_GMM.xs_test[mask_test] = xs_test_gmm"
   ]
  },
  {
   "cell_type": "code",
   "execution_count": 6,
   "metadata": {},
   "outputs": [],
   "source": [
    "NOISE_LEVEL = 8e-3\n",
    "DS_G_noisy = copy.deepcopy(DS)\n",
    "DS_G_noisy.name = \"noisy\"\n",
    "\n",
    "mask_train = np.random.uniform(size=DS_G.ys_train.shape) < NOISE_LEVEL\n",
    "mask_test = np.random.uniform(size=DS_G.ys_test.shape) < NOISE_LEVEL\n",
    "\n",
    "DS_G_noisy.ys_train[mask_train] = np.random.randint(0, 10, size=np.sum(mask_train))\n",
    "DS_G_noisy.ys_test[mask_test] = np.random.randint(0, 10, size=np.sum(mask_test))"
   ]
  },
  {
   "cell_type": "markdown",
   "metadata": {},
   "source": [
    "### Collect scaling data"
   ]
  },
  {
   "cell_type": "code",
   "execution_count": 7,
   "metadata": {},
   "outputs": [],
   "source": [
    "DATA = []"
   ]
  },
  {
   "cell_type": "code",
   "execution_count": 8,
   "metadata": {},
   "outputs": [
    {
     "data": {
      "application/vnd.jupyter.widget-view+json": {
       "model_id": "6905eb283a6f44668a6169eb9dbaadbe",
       "version_major": 2,
       "version_minor": 0
      },
      "text/plain": [
       "  0%|          | 0/20 [00:00<?, ?it/s]"
      ]
     },
     "metadata": {},
     "output_type": "display_data"
    }
   ],
   "source": [
    "for n_train in tqdm(list(range(1, 16)) + [32, 64, 100, 500, 1000]):\n",
    "    for C in [0.01]:\n",
    "        for seed in range(1):\n",
    "            for n_classes in [10]:\n",
    "                for ds in (DS, DS_G, DS_G_noisy, DS_GMM):\n",
    "                    DATA.append(\n",
    "                        linear_probe.run_experiment(\n",
    "                            ds=ds,\n",
    "                            n_train=n_train,\n",
    "                            n_classes=n_classes,\n",
    "                            C=C,\n",
    "                            max_iter=10000,\n",
    "                            seed=seed,\n",
    "                        )\n",
    "                        | {\"name\": ds.name}\n",
    "                    )"
   ]
  },
  {
   "cell_type": "code",
   "execution_count": 9,
   "metadata": {},
   "outputs": [
    {
     "data": {
      "application/vnd.jupyter.widget-view+json": {
       "model_id": "b6e7818110d143acab02da986b36e0a3",
       "version_major": 2,
       "version_minor": 0
      },
      "text/plain": [
       "  0%|          | 0/3 [00:00<?, ?it/s]"
      ]
     },
     "metadata": {},
     "output_type": "display_data"
    },
    {
     "name": "stderr",
     "output_type": "stream",
     "text": [
      "/home/gridsan/twang/code/scaling/src/pretrain/linear_probe.py:36: RuntimeWarning: divide by zero encountered in log\n",
      "  return -np.log(aprobs[np.arange(len(aprobs)), labs_test]).mean()\n"
     ]
    }
   ],
   "source": [
    "for n_train in tqdm([5000, 10000, 50000]):\n",
    "    for C in [0.01]:\n",
    "        for seed in range(1):\n",
    "            for n_classes in [10]:\n",
    "                for ds in (DS, DS_G, DS_G_noisy, DS_GMM):\n",
    "                    DATA.append(\n",
    "                        linear_probe.run_experiment(\n",
    "                            ds=ds,\n",
    "                            n_train=n_train,\n",
    "                            n_classes=n_classes,\n",
    "                            C=C,\n",
    "                            max_iter=10000,\n",
    "                            seed=seed,\n",
    "                        )\n",
    "                        | {\"name\": ds.name}\n",
    "                    )"
   ]
  },
  {
   "cell_type": "markdown",
   "metadata": {},
   "source": [
    "The above cell takes ~40 seconds to run.\n",
    "If it is running for more than a minute,\n",
    "something has gone horribly wrong and you should figure out what that is."
   ]
  },
  {
   "cell_type": "markdown",
   "metadata": {},
   "source": [
    "# Analyze data"
   ]
  },
  {
   "cell_type": "code",
   "execution_count": 10,
   "metadata": {},
   "outputs": [
    {
     "data": {
      "text/html": [
       "<div>\n",
       "<style scoped>\n",
       "    .dataframe tbody tr th:only-of-type {\n",
       "        vertical-align: middle;\n",
       "    }\n",
       "\n",
       "    .dataframe tbody tr th {\n",
       "        vertical-align: top;\n",
       "    }\n",
       "\n",
       "    .dataframe thead th {\n",
       "        text-align: right;\n",
       "    }\n",
       "</style>\n",
       "<table border=\"1\" class=\"dataframe\">\n",
       "  <thead>\n",
       "    <tr style=\"text-align: right;\">\n",
       "      <th></th>\n",
       "      <th>n_classes</th>\n",
       "      <th>C</th>\n",
       "      <th>max_iter</th>\n",
       "      <th>seed</th>\n",
       "      <th>n_train</th>\n",
       "      <th>acc</th>\n",
       "      <th>xent</th>\n",
       "      <th>name</th>\n",
       "      <th>err</th>\n",
       "    </tr>\n",
       "  </thead>\n",
       "  <tbody>\n",
       "    <tr>\n",
       "      <th>0</th>\n",
       "      <td>10</td>\n",
       "      <td>0.01</td>\n",
       "      <td>10000</td>\n",
       "      <td>0</td>\n",
       "      <td>1</td>\n",
       "      <td>0.1000</td>\n",
       "      <td>inf</td>\n",
       "      <td>cifar</td>\n",
       "      <td>0.9000</td>\n",
       "    </tr>\n",
       "    <tr>\n",
       "      <th>1</th>\n",
       "      <td>10</td>\n",
       "      <td>0.01</td>\n",
       "      <td>10000</td>\n",
       "      <td>0</td>\n",
       "      <td>1</td>\n",
       "      <td>0.1000</td>\n",
       "      <td>inf</td>\n",
       "      <td>gaussian</td>\n",
       "      <td>0.9000</td>\n",
       "    </tr>\n",
       "    <tr>\n",
       "      <th>2</th>\n",
       "      <td>10</td>\n",
       "      <td>0.01</td>\n",
       "      <td>10000</td>\n",
       "      <td>0</td>\n",
       "      <td>1</td>\n",
       "      <td>0.1005</td>\n",
       "      <td>inf</td>\n",
       "      <td>noisy</td>\n",
       "      <td>0.8995</td>\n",
       "    </tr>\n",
       "    <tr>\n",
       "      <th>3</th>\n",
       "      <td>10</td>\n",
       "      <td>0.01</td>\n",
       "      <td>10000</td>\n",
       "      <td>0</td>\n",
       "      <td>1</td>\n",
       "      <td>0.1000</td>\n",
       "      <td>inf</td>\n",
       "      <td>DS_GMM_6</td>\n",
       "      <td>0.9000</td>\n",
       "    </tr>\n",
       "    <tr>\n",
       "      <th>4</th>\n",
       "      <td>10</td>\n",
       "      <td>0.01</td>\n",
       "      <td>10000</td>\n",
       "      <td>0</td>\n",
       "      <td>2</td>\n",
       "      <td>0.1000</td>\n",
       "      <td>inf</td>\n",
       "      <td>cifar</td>\n",
       "      <td>0.9000</td>\n",
       "    </tr>\n",
       "  </tbody>\n",
       "</table>\n",
       "</div>"
      ],
      "text/plain": [
       "   n_classes     C  max_iter  seed  n_train     acc  xent      name     err\n",
       "0         10  0.01     10000     0        1  0.1000   inf     cifar  0.9000\n",
       "1         10  0.01     10000     0        1  0.1000   inf  gaussian  0.9000\n",
       "2         10  0.01     10000     0        1  0.1005   inf     noisy  0.8995\n",
       "3         10  0.01     10000     0        1  0.1000   inf  DS_GMM_6  0.9000\n",
       "4         10  0.01     10000     0        2  0.1000   inf     cifar  0.9000"
      ]
     },
     "execution_count": 10,
     "metadata": {},
     "output_type": "execute_result"
    }
   ],
   "source": [
    "df = pd.DataFrame(DATA)\n",
    "df[\"err\"] = 1 - df.acc\n",
    "df.head()"
   ]
  },
  {
   "cell_type": "code",
   "execution_count": 11,
   "metadata": {},
   "outputs": [],
   "source": [
    "# df.to_csv(\"clip-cifar-gmm-scaling-v2.csv\", index=False)"
   ]
  },
  {
   "cell_type": "markdown",
   "metadata": {},
   "source": [
    "### CLIP scaling"
   ]
  },
  {
   "cell_type": "code",
   "execution_count": 12,
   "metadata": {},
   "outputs": [
    {
     "data": {
      "image/png": "[encoded data removed]",
      "text/plain": [
       "<Figure size 432x288 with 1 Axes>"
      ]
     },
     "metadata": {
      "needs_background": "light"
     },
     "output_type": "display_data"
    },
    {
     "data": {
      "image/png": "[encoded data removed]",
      "text/plain": [
       "<Figure size 432x288 with 1 Axes>"
      ]
     },
     "metadata": {
      "needs_background": "light"
     },
     "output_type": "display_data"
    }
   ],
   "source": [
    "for metric in [\"err\", \"xent\"]:\n",
    "    for name in df.name.unique():\n",
    "        gb = df.query(f\"name == '{name}'\").groupby(\"n_train\")[metric]\n",
    "        lo = gb.min()\n",
    "        mid = gb.median()\n",
    "        hi = gb.max()\n",
    "\n",
    "        plt.plot(\n",
    "            mid.index,\n",
    "            mid,\n",
    "            **({\"linestyle\": \"--\"} if name == \"noisy\" else {}),\n",
    "        )\n",
    "        plt.fill_between(\n",
    "            mid.index,\n",
    "            lo,\n",
    "            hi,\n",
    "            alpha=0.2,\n",
    "            label=name,\n",
    "        )\n",
    "\n",
    "    plt.title(f\"n_classes=10 C=0.01 noise={NOISE_LEVEL}\")\n",
    "    plt.legend()\n",
    "    plt.xscale(\"log\")\n",
    "    plt.yscale(\"log\")\n",
    "    plt.xlabel(\"Number of training examples\")\n",
    "    plt.ylabel(f\"Test {metric}\")\n",
    "    plt.show()"
   ]
  }
 ],
 "metadata": {
  "kernelspec": {
   "display_name": "Python 3.9.13 ('scaling-v2-tmp')",
   "language": "python",
   "name": "python3"
  },
  "language_info": {
   "codemirror_mode": {
    "name": "ipython",
    "version": 3
   },
   "file_extension": ".py",
   "mimetype": "text/x-python",
   "name": "python",
   "nbconvert_exporter": "python",
   "pygments_lexer": "ipython3",
   "version": "3.9.13"
  },
  "orig_nbformat": 4,
  "vscode": {
   "interpreter": {
    "hash": "47ef31053d8b728266120e9d84fd013ec3b97028489e5d749b36c7d18b82d09d"
   }
  }
 },
 "nbformat": 4,
 "nbformat_minor": 2
}
