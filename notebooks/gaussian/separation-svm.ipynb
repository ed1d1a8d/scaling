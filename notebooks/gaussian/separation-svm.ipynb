{
 "cells": [
  {
   "cell_type": "markdown",
   "metadata": {},
   "source": [
    "### Load libraries"
   ]
  },
  {
   "cell_type": "code",
   "execution_count": 36,
   "metadata": {},
   "outputs": [],
   "source": [
    "import dataclasses\n",
    "from typing import Collection, Optional\n",
    "\n",
    "import matplotlib.pyplot as plt\n",
    "import numpy as np\n",
    "import scipy.special\n",
    "import scipy.stats\n",
    "from thundersvm import SVC\n",
    "from tqdm.auto import tqdm\n",
    "\n",
    "plt.style.use('ggplot')"
   ]
  },
  {
   "cell_type": "markdown",
   "metadata": {},
   "source": [
    "### Helper functions"
   ]
  },
  {
   "cell_type": "code",
   "execution_count": 2,
   "metadata": {},
   "outputs": [
    {
     "data": {
      "text/plain": [
       "BinaryDataset(mu=array([0.95194312, 0.0120887 , 0.30603621]), sep=0, xs=array([[ 0.76785728, -0.72741892, -0.94277653],\n",
       "       [ 0.18154998,  1.48557577, -0.14738455],\n",
       "       [-2.28397899, -1.56795765,  0.25164486]]), ys=array([1, 1, 0]))"
      ]
     },
     "execution_count": 2,
     "metadata": {},
     "output_type": "execute_result"
    }
   ],
   "source": [
    "def normalized(x: np.ndarray) -> np.ndarray:\n",
    "    return x / np.linalg.norm(x)\n",
    "\n",
    "\n",
    "@dataclasses.dataclass\n",
    "class BinaryDataset:\n",
    "    mu: np.ndarray\n",
    "    sep: float\n",
    "\n",
    "    xs: np.ndarray\n",
    "    ys: np.ndarray\n",
    "\n",
    "    @classmethod\n",
    "    def _gen_data(\n",
    "        cls,\n",
    "        n_train: int,\n",
    "        d: int,\n",
    "        sep: float,\n",
    "        mu: Optional[np.ndarray] = None,\n",
    "    ):\n",
    "        # TODO(Tony): Pass seed in for rng\n",
    "        if mu is None:\n",
    "            mu = np.random.normal(size=d)\n",
    "        mu = normalized(mu)\n",
    "\n",
    "        xs = sep * mu.reshape(1, -1) + np.random.normal(size=(n_train, d))\n",
    "\n",
    "        mask = np.random.randint(low=0, high=2, size=(n_train), dtype=bool)\n",
    "        xs[mask, :] *= -1\n",
    "\n",
    "        ys = ((xs @ mu) > 0).astype(np.int64)\n",
    "\n",
    "        # NOTE: We need to make the first class 1 to make SVC work.\n",
    "        if ys[0] == 0:\n",
    "            ys = 1 - ys\n",
    "            xs *= -1\n",
    "\n",
    "        return cls(mu=mu, sep=sep, xs=xs, ys=ys)\n",
    "\n",
    "    @classmethod\n",
    "    def gen_data(\n",
    "        cls,\n",
    "        n_train: int,\n",
    "        d: int,\n",
    "        sep: float,\n",
    "        mu: Optional[np.ndarray] = None,\n",
    "    ):\n",
    "        \"\"\"Gaurantees both classes will be present\"\"\"\n",
    "        assert n_train >= 2\n",
    "        ds = cls._gen_data(n_train=n_train, d=d, sep=sep, mu=mu)\n",
    "        while ds.ys.sum() in (0, n_train):\n",
    "            ds = cls._gen_data(n_train=n_train, d=d, sep=sep, mu=mu)\n",
    "        return ds\n",
    "\n",
    "\n",
    "BinaryDataset.gen_data(n_train=3, d=3, sep=0)\n"
   ]
  },
  {
   "cell_type": "code",
   "execution_count": 3,
   "metadata": {},
   "outputs": [
    {
     "name": "stdout",
     "output_type": "stream",
     "text": [
      "Empirical err: 0.001118\n",
      "Analytic err: 0.0012221970168625443\n"
     ]
    }
   ],
   "source": [
    "@dataclasses.dataclass\n",
    "class LinClf:\n",
    "    raw_w: np.ndarray\n",
    "    raw_b: np.ndarray\n",
    "\n",
    "    def __post_init__(self):\n",
    "        self.w = normalized(self.raw_w)\n",
    "        self.b = self.raw_b / np.linalg.norm(self.raw_w)\n",
    "\n",
    "    @classmethod\n",
    "    def from_svc(cls, svc: SVC):\n",
    "        return cls(\n",
    "            raw_w=(svc.dual_coef_[0] @ svc.support_vectors_)[1:],\n",
    "            raw_b=-svc.intercept_[0],\n",
    "        )\n",
    "\n",
    "    @classmethod\n",
    "    def from_svm(cls, ds: BinaryDataset, c: float = 1):\n",
    "        assert ds.ys[0] == 1\n",
    "        svc = SVC(C=c, kernel=\"linear\")\n",
    "        svc.fit(ds.xs, ds.ys)\n",
    "        return cls.from_svc(svc)\n",
    "\n",
    "    def raw_decision_function(self, xs: np.ndarray):\n",
    "        return xs @ self.raw_w + self.raw_b\n",
    "\n",
    "    def pred(self, xs: np.ndarray) -> np.ndarray:\n",
    "        return ((xs @ self.w + self.b) > 0).astype(np.int64)\n",
    "\n",
    "    def empirical_err(self, ds: BinaryDataset) -> float:\n",
    "        return (self.pred(xs=ds.xs) != ds.ys).mean()\n",
    "\n",
    "    def analytic_err(self, mu: np.ndarray, sep: float) -> float:\n",
    "        \"\"\"\n",
    "        We want to calculate\n",
    "        res = P(x @ mu >  0 and x @ w + b <= 0)\n",
    "            + P(x @ mu <= 0 and x @ w + b >  0)\n",
    "\n",
    "        Case: x ~ N(mu * sep, I)\n",
    "        Then:\n",
    "              x @ mu ~ N(sep, 1)\n",
    "              x @ w + b ~ N(sep * mu @ w + b, 1)\n",
    "\n",
    "              Cov(x @ mu, x @ w + b)\n",
    "            = Cov(x @ mu, x @ w)\n",
    "            = Cov(z @ mu, z @ w) (where z ~ N(0, I))\n",
    "            = E [(z^t mu)^t (z^t w)]\n",
    "            = mu^t E [(z z^t)] w\n",
    "            = mu @ w\n",
    "\n",
    "        Case: x ~ N(-mu * sep, I)\n",
    "        Then:\n",
    "              x @ mu ~ N(-sep, 1)\n",
    "              x @ w + b ~ N(-sep * mu @ w + b, 1)\n",
    "\n",
    "              Cov(x @ mu, x @ w + b)\n",
    "            = mu @ w\n",
    "\n",
    "        Thus:\n",
    "                res = P(A > 0 and B <= 0) + P(A <= 0 and B > 0)\n",
    "            where [A, B] ~ N([sep, sep * mu @ w + b], [[1, mu@w], [mu@w, 1]])\n",
    "        \"\"\"\n",
    "\n",
    "        def get_prob(m1: float, m2: float, c12: float) -> float:\n",
    "            \"\"\"\n",
    "            Returns P(A > 0 and B <= 0) + P(A <= 0 and B > 0)\n",
    "            assuming [A, B] ~ N([m1, m2], [[1, c12], [c12, 1]])\n",
    "            \"\"\"\n",
    "            prob0: float = scipy.stats.multivariate_normal(\n",
    "                mean=(-m1, m2),\n",
    "                cov=((1, -c12), (-c12, 1)),  # type: ignore\n",
    "            ).cdf(np.zeros(2))\n",
    "\n",
    "            prob1: float = scipy.stats.multivariate_normal(\n",
    "                mean=(m1, -m2),\n",
    "                cov=((1, -c12), (-c12, 1)),  # type: ignore\n",
    "            ).cdf(np.zeros(2))\n",
    "\n",
    "            return prob0 + prob1\n",
    "\n",
    "        return (\n",
    "            get_prob(sep, sep * mu @ self.w + self.b, mu @ self.w)  # type: ignore\n",
    "            + get_prob(-sep, -sep * mu @ self.w + self.b, mu @ self.w)  # type: ignore\n",
    "        ) / 2\n",
    "\n",
    "# np.random.seed(0)\n",
    "ds_train = BinaryDataset.gen_data(n_train=100, d=10, sep=3)\n",
    "ds_test = BinaryDataset.gen_data(\n",
    "    n_train=1_000_000, d=10, sep=ds_train.sep, mu=ds_train.mu\n",
    ")\n",
    "\n",
    "clf = LinClf.from_svm(ds_train, c=10)\n",
    "print(\"Empirical err:\", clf.empirical_err(ds_test))\n",
    "print(\"Analytic err:\", clf.analytic_err(sep=ds_test.sep, mu=ds_test.mu))"
   ]
  },
  {
   "cell_type": "code",
   "execution_count": 4,
   "metadata": {},
   "outputs": [],
   "source": [
    "# Small test\n",
    "\n",
    "ds = BinaryDataset.gen_data(n_train=1000, d=4, sep=0)\n",
    "clf = LinClf.from_svm(ds, c=10)\n",
    "svc = SVC(C=10, kernel=\"linear\")\n",
    "svc.fit(ds.xs, ds.ys)\n",
    "\n",
    "assert np.allclose(\n",
    "    clf.raw_decision_function(ds.xs),\n",
    "    svc.decision_function(ds.xs).flatten(),\n",
    "    rtol=1e-4,\n",
    "    atol=1e-4,\n",
    ")\n"
   ]
  },
  {
   "cell_type": "markdown",
   "metadata": {},
   "source": [
    "### Scaling experiments"
   ]
  },
  {
   "cell_type": "code",
   "execution_count": 17,
   "metadata": {},
   "outputs": [],
   "source": [
    "@dataclasses.dataclass\n",
    "class ScalingResult:\n",
    "    d: int\n",
    "    sep: float\n",
    "    n_trains: np.ndarray\n",
    "\n",
    "    empirical_errs: np.ndarray\n",
    "    analytic_errs: np.ndarray\n",
    "\n",
    "    def __post_init__(self):\n",
    "        assert (\n",
    "            self.n_trains.shape\n",
    "            == self.empirical_errs.shape\n",
    "            == self.analytic_errs.shape\n",
    "        )\n",
    "\n",
    "\n",
    "def run_svm_experiment(\n",
    "    n_trains_raw: Collection[int],\n",
    "    sep: float,\n",
    "    d: int,\n",
    "    c: float,\n",
    "    n_test: int = 10_000,\n",
    "    use_pbar: bool = True,\n",
    ") -> ScalingResult:\n",
    "    n_trains: np.ndarray = np.array(sorted(list(set(n_trains_raw))))\n",
    "\n",
    "    ds_test = BinaryDataset.gen_data(n_train=n_test, d=d, sep=sep)\n",
    "\n",
    "    empirical_errs: list[float] = []\n",
    "    analytic_errs: list[float] = []\n",
    "    pbar = tqdm(n_trains, leave=False) if use_pbar else n_trains\n",
    "    for n in pbar:\n",
    "        ds = BinaryDataset.gen_data(n_train=n, d=d, sep=sep, mu=ds_test.mu)\n",
    "        clf = LinClf.from_svm(ds, c=c)\n",
    "\n",
    "        empirical_errs.append(clf.empirical_err(ds_test))\n",
    "        analytic_errs.append(clf.analytic_err(sep=ds.sep, mu=ds.mu))\n",
    "\n",
    "        if use_pbar:\n",
    "            pbar.set_description(f\"err={analytic_errs[-1]}\")\n",
    "\n",
    "    return ScalingResult(\n",
    "        d=d,\n",
    "        sep=sep,\n",
    "        n_trains=n_trains,\n",
    "        empirical_errs=np.array(empirical_errs),\n",
    "        analytic_errs=np.array(analytic_errs),\n",
    "    )\n"
   ]
  },
  {
   "cell_type": "code",
   "execution_count": 6,
   "metadata": {},
   "outputs": [
    {
     "data": {
      "application/vnd.jupyter.widget-view+json": {
       "model_id": "8b2d98ceee8141a99fca4a1f164e3a4e",
       "version_major": 2,
       "version_minor": 0
      },
      "text/plain": [
       "  0%|          | 0/19 [00:00<?, ?it/s]"
      ]
     },
     "metadata": {},
     "output_type": "display_data"
    }
   ],
   "source": [
    "sep0_res = run_svm_experiment(\n",
    "    n_trains_raw=[2**i for i in range(1, 20)],\n",
    "    d=100,\n",
    "    sep=0,\n",
    "    c=1,\n",
    ")"
   ]
  },
  {
   "cell_type": "code",
   "execution_count": 43,
   "metadata": {},
   "outputs": [
    {
     "data": {
      "application/vnd.jupyter.widget-view+json": {
       "model_id": "35abf1a215b6444e8b0f5d5c786b7648",
       "version_major": 2,
       "version_minor": 0
      },
      "text/plain": [
       "  0%|          | 0/50 [00:00<?, ?it/s]"
      ]
     },
     "metadata": {},
     "output_type": "display_data"
    }
   ],
   "source": [
    "sep6_res = [\n",
    "    run_svm_experiment(\n",
    "        n_trains_raw=list(range(2, 128)) + [200, 400, 1000, 10000],\n",
    "        d=100,\n",
    "        sep=6,\n",
    "        c=1,\n",
    "        use_pbar=False\n",
    "    )\n",
    "    for _ in tqdm(range(50))\n",
    "]\n"
   ]
  },
  {
   "cell_type": "code",
   "execution_count": 44,
   "metadata": {},
   "outputs": [
    {
     "data": {
      "image/png": "[encoded data removed]",
      "text/plain": [
       "<Figure size 432x288 with 1 Axes>"
      ]
     },
     "metadata": {},
     "output_type": "display_data"
    }
   ],
   "source": [
    "plt.plot(sep0_res.n_trains, sep0_res.analytic_errs, label=\"analytic (sep0)\")\n",
    "# plt.plot(sep0_res.n_trains, sep0_res.empirical_errs, label=\"empirical (sep0)\")\n",
    "\n",
    "sep6_errs = np.stack([r.analytic_errs for r in sep6_res])\n",
    "sep6_lo = np.quantile(sep6_errs, q=0.05, axis=0)\n",
    "sep6_mid = np.quantile(sep6_errs, q=0.5, axis=0)\n",
    "sep6_hi = np.quantile(sep6_errs, q=0.95, axis=0)\n",
    "plt.plot(sep6_res[0].n_trains, sep6_mid, label=\"analytic (sep6)\")\n",
    "plt.fill_between(\n",
    "    x=sep6_res[0].n_trains,\n",
    "    y1=sep6_lo,\n",
    "    y2=sep6_hi,\n",
    "    alpha=0.25,\n",
    "    color=\"tab:blue\",\n",
    ")\n",
    "# plt.plot(\n",
    "#     sep6_res[0].n_trains,\n",
    "#     np.median(spe6_errs, axis=0),\n",
    "#     label=\"analytic (sep6)\",\n",
    "# )\n",
    "\n",
    "# plt.plot(sep2_res.n_trains, sep2_res.analytic_errs, label=\"analytic (sep2)\")\n",
    "# plt.plot(sep2_res.n_trains, sep2_res.empirical_errs, label=\"empirical (sep2)\")\n",
    "plt.yscale(\"log\")\n",
    "plt.xscale(\"log\")\n",
    "plt.legend();"
   ]
  },
  {
   "cell_type": "code",
   "execution_count": null,
   "metadata": {},
   "outputs": [],
   "source": []
  }
 ],
 "metadata": {
  "kernelspec": {
   "display_name": "Python 3.9.13 ('scaling-v2-tmp')",
   "language": "python",
   "name": "python3"
  },
  "language_info": {
   "codemirror_mode": {
    "name": "ipython",
    "version": 3
   },
   "file_extension": ".py",
   "mimetype": "text/x-python",
   "name": "python",
   "nbconvert_exporter": "python",
   "pygments_lexer": "ipython3",
   "version": "3.9.13"
  },
  "orig_nbformat": 4,
  "vscode": {
   "interpreter": {
    "hash": "47ef31053d8b728266120e9d84fd013ec3b97028489e5d749b36c7d18b82d09d"
   }
  }
 },
 "nbformat": 4,
 "nbformat_minor": 2
}
