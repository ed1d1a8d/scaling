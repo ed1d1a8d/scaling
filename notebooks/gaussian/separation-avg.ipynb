{
 "cells": [
  {
   "cell_type": "markdown",
   "metadata": {},
   "source": [
    "### Load libraries"
   ]
  },
  {
   "cell_type": "code",
   "execution_count": 1,
   "metadata": {},
   "outputs": [],
   "source": [
    "import dataclasses\n",
    "from typing import Collection\n",
    "\n",
    "import matplotlib.pyplot as plt\n",
    "import numpy as np\n",
    "import scipy.special\n",
    "import scipy.stats\n",
    "from tqdm.auto import tqdm\n",
    "\n",
    "plt.style.use('ggplot')"
   ]
  },
  {
   "cell_type": "markdown",
   "metadata": {},
   "source": [
    "### Helper functions"
   ]
  },
  {
   "cell_type": "code",
   "execution_count": 53,
   "metadata": {},
   "outputs": [],
   "source": [
    "def get_err(n_train: int, d: int, sep: float) -> float:\n",
    "    w0 = np.abs(sep + np.random.normal(size=n_train)).mean()\n",
    "    w1 = np.sqrt(scipy.stats.chi2.rvs(d - 1) / n_train)\n",
    "    # TODO(tony): sample w1 faster\n",
    "\n",
    "    norm = np.linalg.norm([w0, w1])\n",
    "    w0 /= norm\n",
    "    w1 /= norm\n",
    "\n",
    "    def get_prob(m1: float, m2: float, c12: float) -> float:\n",
    "        \"\"\"\n",
    "        Returns P(A > 0 and B <= 0) + P(A <= 0 and B > 0)\n",
    "        assuming [A, B] ~ N([m1, m2], [[1, c12], [c12, 1]])\n",
    "        \"\"\"\n",
    "        prob0: float = scipy.stats.multivariate_normal(\n",
    "            mean=(-m1, m2),\n",
    "            cov=((1, -c12), (-c12, 1)),  # type: ignore\n",
    "        ).cdf(np.zeros(2))\n",
    "\n",
    "        prob1: float = scipy.stats.multivariate_normal(\n",
    "            mean=(m1, -m2),\n",
    "            cov=((1, -c12), (-c12, 1)),  # type: ignore\n",
    "        ).cdf(np.zeros(2))\n",
    "\n",
    "        return prob0 + prob1\n",
    "\n",
    "    return (get_prob(sep, sep * w0, w0) + get_prob(-sep, -sep * w0, w0)) / 2"
   ]
  },
  {
   "cell_type": "markdown",
   "metadata": {},
   "source": [
    "### Scaling experiments"
   ]
  },
  {
   "cell_type": "code",
   "execution_count": 54,
   "metadata": {},
   "outputs": [],
   "source": [
    "@dataclasses.dataclass\n",
    "class ScalingResult:\n",
    "    d: int\n",
    "    sep: float\n",
    "    n_trains: np.ndarray\n",
    "    \n",
    "    err_stack: np.ndarray\n",
    "\n",
    "    def __post_init__(self):\n",
    "        n, = self.n_trains.shape\n",
    "        assert self.err_stack.shape[1] == n\n",
    "\n",
    "    def plot(self, **kwargs):\n",
    "        lo = np.quantile(self.err_stack, q=0.05, axis=0)\n",
    "        mid = np.quantile(self.err_stack, q=0.5, axis=0)\n",
    "        hi = np.quantile(self.err_stack, q=0.95, axis=0)\n",
    "        \n",
    "        p = plt.plot(self.n_trains, mid, label=f\"sep={self.sep}\")\n",
    "        plt.fill_between(\n",
    "            x=self.n_trains,\n",
    "            y1=lo,\n",
    "            y2=hi,\n",
    "            alpha=0.25,\n",
    "            color=p[0].get_color(),\n",
    "        )\n",
    "\n",
    "\n",
    "\n",
    "def run_exp(\n",
    "    n_trains_raw: Collection[int],\n",
    "    d: int,\n",
    "    sep: float,\n",
    "    n_trials: int = 100,\n",
    ") -> ScalingResult:\n",
    "    n_trains: np.ndarray = np.array(sorted(list(set(n_trains_raw))))\n",
    "\n",
    "    err_stack = np.zeros((n_trials, len(n_trains)))\n",
    "\n",
    "    for i in tqdm(range(n_trials)):\n",
    "        for j, n in enumerate(n_trains):\n",
    "            err_stack[i, j] = get_err(\n",
    "                n_train=n, d=d, sep=sep\n",
    "            )\n",
    "\n",
    "    return ScalingResult(\n",
    "        d=d,\n",
    "        sep=sep,\n",
    "        n_trains=n_trains,\n",
    "        err_stack=err_stack\n",
    "    )"
   ]
  },
  {
   "cell_type": "code",
   "execution_count": 55,
   "metadata": {},
   "outputs": [],
   "source": [
    "RES = {}"
   ]
  },
  {
   "cell_type": "code",
   "execution_count": 56,
   "metadata": {},
   "outputs": [
    {
     "data": {
      "application/vnd.jupyter.widget-view+json": {
       "model_id": "598d0bf2bd834d458f5ea2d0c8fa84c9",
       "version_major": 2,
       "version_minor": 0
      },
      "text/plain": [
       "  0%|          | 0/50 [00:00<?, ?it/s]"
      ]
     },
     "metadata": {},
     "output_type": "display_data"
    },
    {
     "data": {
      "application/vnd.jupyter.widget-view+json": {
       "model_id": "8564d1fc47f5427098b561d33aaf6464",
       "version_major": 2,
       "version_minor": 0
      },
      "text/plain": [
       "  0%|          | 0/50 [00:00<?, ?it/s]"
      ]
     },
     "metadata": {},
     "output_type": "display_data"
    },
    {
     "data": {
      "application/vnd.jupyter.widget-view+json": {
       "model_id": "f2360495edf8400e9bfbc2525109e74b",
       "version_major": 2,
       "version_minor": 0
      },
      "text/plain": [
       "  0%|          | 0/50 [00:00<?, ?it/s]"
      ]
     },
     "metadata": {},
     "output_type": "display_data"
    },
    {
     "data": {
      "application/vnd.jupyter.widget-view+json": {
       "model_id": "5dea4c480b76459db1109b71f8323cbe",
       "version_major": 2,
       "version_minor": 0
      },
      "text/plain": [
       "  0%|          | 0/50 [00:00<?, ?it/s]"
      ]
     },
     "metadata": {},
     "output_type": "display_data"
    },
    {
     "data": {
      "application/vnd.jupyter.widget-view+json": {
       "model_id": "2cd3221118244dd5b768a9c6ed482411",
       "version_major": 2,
       "version_minor": 0
      },
      "text/plain": [
       "  0%|          | 0/50 [00:00<?, ?it/s]"
      ]
     },
     "metadata": {},
     "output_type": "display_data"
    },
    {
     "data": {
      "application/vnd.jupyter.widget-view+json": {
       "model_id": "56a2202083794604942f682391cc61ad",
       "version_major": 2,
       "version_minor": 0
      },
      "text/plain": [
       "  0%|          | 0/50 [00:00<?, ?it/s]"
      ]
     },
     "metadata": {},
     "output_type": "display_data"
    }
   ],
   "source": [
    "for sep in [0, 1, 2, 3, 5, 6]:\n",
    "    if sep not in RES:\n",
    "        RES[sep] = run_exp(\n",
    "            n_trains_raw=list(range(2, 100)) + [2**i for i in range(1, 20)],\n",
    "            d=1000,\n",
    "            sep=sep,\n",
    "            n_trials=50,\n",
    "        )"
   ]
  },
  {
   "cell_type": "code",
   "execution_count": 51,
   "metadata": {},
   "outputs": [
    {
     "data": {
      "image/png": "[encoded data removed]",
      "text/plain": [
       "<Figure size 432x288 with 1 Axes>"
      ]
     },
     "metadata": {
      "needs_background": "light"
     },
     "output_type": "display_data"
    }
   ],
   "source": [
    "for sep in [0, 1, 2, 3, 5, 6]:\n",
    "    RES[sep].plot()\n",
    "\n",
    "plt.xscale(\"log\")\n",
    "plt.yscale(\"log\")\n",
    "plt.legend();"
   ]
  }
 ],
 "metadata": {
  "kernelspec": {
   "display_name": "Python 3.9.13 ('scaling-v2-tmp')",
   "language": "python",
   "name": "python3"
  },
  "language_info": {
   "codemirror_mode": {
    "name": "ipython",
    "version": 3
   },
   "file_extension": ".py",
   "mimetype": "text/x-python",
   "name": "python",
   "nbconvert_exporter": "python",
   "pygments_lexer": "ipython3",
   "version": "3.9.13"
  },
  "orig_nbformat": 4,
  "vscode": {
   "interpreter": {
    "hash": "47ef31053d8b728266120e9d84fd013ec3b97028489e5d749b36c7d18b82d09d"
   }
  }
 },
 "nbformat": 4,
 "nbformat_minor": 2
}
