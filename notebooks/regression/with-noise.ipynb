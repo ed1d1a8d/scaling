{
 "cells": [
  {
   "attachments": {},
   "cell_type": "markdown",
   "metadata": {},
   "source": [
    "Based off of\n",
    "https://colab.research.google.com/drive/1njyOjtWLvh1zB6yvftcntD-qhwszTOW3."
   ]
  },
  {
   "attachments": {},
   "cell_type": "markdown",
   "metadata": {},
   "source": [
    "### Load libraries"
   ]
  },
  {
   "cell_type": "code",
   "execution_count": 2,
   "metadata": {},
   "outputs": [],
   "source": [
    "import dataclasses\n",
    "from typing import Any\n",
    "\n",
    "import matplotlib.pyplot as plt\n",
    "import numpy as np\n",
    "import pandas as pd\n",
    "from tqdm.auto import tqdm"
   ]
  },
  {
   "attachments": {},
   "cell_type": "markdown",
   "metadata": {},
   "source": [
    "### Helper functions"
   ]
  },
  {
   "cell_type": "code",
   "execution_count": 3,
   "metadata": {},
   "outputs": [],
   "source": [
    "@dataclasses.dataclass\n",
    "class Dataset:\n",
    "    xs: np.ndarray\n",
    "    ys: np.ndarray\n",
    "\n",
    "    def __post_init__(self):\n",
    "        assert self.xs.shape[0] == self.ys.shape[0]\n",
    "        assert self.xs.ndim == 2\n",
    "        assert self.ys.ndim == 1\n",
    "\n",
    "\n",
    "@dataclasses.dataclass\n",
    "class DataParams:\n",
    "    w_true: np.ndarray\n",
    "    sigma: float\n",
    "\n",
    "    def __post_init__(self):\n",
    "        assert self.w_true.ndim == 1\n",
    "        assert self.sigma >= 0\n",
    "\n",
    "    @property\n",
    "    def d(self) -> int:\n",
    "        return self.w_true.shape[0]\n",
    "\n",
    "    def gen_data(self, n: int) -> Dataset:\n",
    "        \"\"\"y = w_true @ x + N(0, sigma^2)\"\"\"\n",
    "        (d,) = self.w_true.shape\n",
    "        xs = np.random.normal(size=(n, d))\n",
    "        ys = xs @ self.w_true + np.random.normal(size=(n,), scale=self.sigma)\n",
    "        return Dataset(xs=xs, ys=ys)\n",
    "\n",
    "    def get_opt_lam(self) -> float:\n",
    "        \"\"\"\n",
    "        Returns the optimal lambda for ridge regression.\n",
    "        See https://arxiv.org/pdf/2003.01897.pdf#lemma.2.\n",
    "        \"\"\"\n",
    "        return self.d * (self.sigma**2) / (np.linalg.norm(self.w_true) ** 2)  # type: ignore\n",
    "\n",
    "\n",
    "def est_w(\n",
    "    ds: Dataset,\n",
    "    lam: float,\n",
    ") -> np.ndarray:\n",
    "    \"\"\"\n",
    "    Returns argmin_w ||y - Xw||^2 + lam ||w||^2\n",
    "\n",
    "    Adapted from https://arxiv.org/pdf/2003.01897.pdf.\n",
    "    \"\"\"\n",
    "    (n, d) = ds.xs.shape\n",
    "    assert ds.ys.shape == (n,)\n",
    "    assert lam >= 0\n",
    "\n",
    "    X, y = ds.xs, ds.ys\n",
    "\n",
    "    # Compute the matrix A = X^T X + lam I\n",
    "    A = X.T @ X + lam * np.eye(d)\n",
    "\n",
    "    # Compute the vector b = X^T y\n",
    "    b = X.T @ y\n",
    "\n",
    "    # Solve the linear system A w = b\n",
    "    w = np.linalg.lstsq(A, b, rcond=None)[0]\n",
    "    return w"
   ]
  },
  {
   "attachments": {},
   "cell_type": "markdown",
   "metadata": {},
   "source": [
    "### Generate data"
   ]
  },
  {
   "cell_type": "code",
   "execution_count": 4,
   "metadata": {},
   "outputs": [
    {
     "data": {
      "application/vnd.jupyter.widget-view+json": {
       "model_id": "ace4b9ef94484eb0b4321dbbe21d9c1e",
       "version_major": 2,
       "version_minor": 0
      },
      "text/plain": [
       "  0%|          | 0/41 [00:00<?, ?it/s]"
      ]
     },
     "metadata": {},
     "output_type": "display_data"
    }
   ],
   "source": [
    "# Reproducing plot in https://arxiv.org/pdf/2003.01897.pdf#figure.caption.1\n",
    "\n",
    "SEED = 0\n",
    "DIMS = 500\n",
    "N_TRIALS = 50\n",
    "dp = DataParams(\n",
    "    w_true=np.array([1] + [0 for _ in range(DIMS - 1)], dtype=np.float32),\n",
    "    sigma=0.5,\n",
    ")\n",
    "\n",
    "\n",
    "def gen_n_trains(max: int):\n",
    "    base = 1\n",
    "    while True:\n",
    "        for i in range(1, 10):\n",
    "            ret = base * i\n",
    "            if ret >= max:\n",
    "                yield max\n",
    "                return\n",
    "            else:\n",
    "                yield ret\n",
    "        base *= 10\n",
    "\n",
    "\n",
    "np.random.seed(SEED)\n",
    "results: list[dict[str, Any]] = []\n",
    "n_trains = list(gen_n_trains(max=100 * DIMS))\n",
    "for n in tqdm(n_trains):\n",
    "    for i in range(N_TRIALS):\n",
    "        ds = dp.gen_data(n=n)\n",
    "        lam = dp.get_opt_lam()\n",
    "\n",
    "        w_map = est_w(ds=ds, lam=lam)\n",
    "        w_mle = est_w(ds=ds, lam=0)\n",
    "\n",
    "        results.append(\n",
    "            dict(\n",
    "                map_mse=np.linalg.norm(w_map - dp.w_true) ** 2,  # type: ignore\n",
    "                mle_mse=np.linalg.norm(w_mle - dp.w_true) ** 2,  # type: ignore\n",
    "                n_train=n,\n",
    "                trial=i,\n",
    "            )\n",
    "        )\n",
    "\n",
    "df = pd.DataFrame(results)"
   ]
  },
  {
   "attachments": {},
   "cell_type": "markdown",
   "metadata": {},
   "source": [
    "### Make plots"
   ]
  },
  {
   "cell_type": "code",
   "execution_count": 12,
   "metadata": {},
   "outputs": [],
   "source": [
    "def fancy_plot(\n",
    "    df: pd.DataFrame,\n",
    "    target: str = \"err\",\n",
    "    ci: float = 0.99,\n",
    "    gb_target: str = \"n_train\",\n",
    "    err_irreducible: float = 0.0,\n",
    "    **kwargs,\n",
    "):\n",
    "    gb = df.groupby(gb_target)\n",
    "\n",
    "    ax = (gb[target].median() + err_irreducible).plot(**kwargs)\n",
    "    prev_color = ax.lines[-1].get_color()\n",
    "    plt.fill_between(\n",
    "        gb[target].median().index,\n",
    "        gb[target].quantile(0.5 - ci / 2) + err_irreducible, \n",
    "        gb[target].quantile(0.5 + ci / 2) + err_irreducible,\n",
    "        alpha=0.2,\n",
    "        color=prev_color,\n",
    "        edgecolor=\"none\",\n",
    "        zorder=ax.lines[-1].get_zorder() - 1,\n",
    "    )\n",
    "    return dict(ax=ax, gb=gb)"
   ]
  },
  {
   "cell_type": "code",
   "execution_count": 17,
   "metadata": {},
   "outputs": [
    {
     "data": {
      "image/png": "[encoded data removed]",
      "text/plain": [
       "<Figure size 864x288 with 2 Axes>"
      ]
     },
     "metadata": {
      "needs_background": "light"
     },
     "output_type": "display_data"
    }
   ],
   "source": [
    "plt.figure(figsize=(12, 4))\n",
    "\n",
    "plt.subplot(1, 2, 1)\n",
    "fancy_plot(df=df, target=\"map_mse\", label=\"MAP\", err_irreducible=dp.sigma ** 2)\n",
    "fancy_plot(df=df, target=\"mle_mse\", label=\"MLE\", err_irreducible=dp.sigma ** 2)\n",
    "plt.xscale(\"log\")\n",
    "plt.yscale(\"log\")\n",
    "plt.ylabel(\"Test error\")\n",
    "plt.legend()\n",
    "\n",
    "plt.subplot(1, 2, 2)\n",
    "fancy_plot(df=df, target=\"map_mse\", label=\"MAP\")\n",
    "fancy_plot(df=df, target=\"mle_mse\", label=\"MLE\")\n",
    "plt.xscale(\"log\")\n",
    "plt.yscale(\"log\")\n",
    "plt.ylabel(\"Residual test error\")\n",
    "plt.legend()\n",
    "\n",
    "plt.show()"
   ]
  },
  {
   "cell_type": "code",
   "execution_count": null,
   "metadata": {},
   "outputs": [],
   "source": []
  }
 ],
 "metadata": {
  "kernelspec": {
   "display_name": "scaling-v2",
   "language": "python",
   "name": "python3"
  },
  "language_info": {
   "codemirror_mode": {
    "name": "ipython",
    "version": 3
   },
   "file_extension": ".py",
   "mimetype": "text/x-python",
   "name": "python",
   "nbconvert_exporter": "python",
   "pygments_lexer": "ipython3",
   "version": "3.9.13"
  },
  "orig_nbformat": 4,
  "vscode": {
   "interpreter": {
    "hash": "c4d11743395684b28769a98b4ddabeeff0307a7a759e49eaefc6ee1943ee50fa"
   }
  }
 },
 "nbformat": 4,
 "nbformat_minor": 2
}
