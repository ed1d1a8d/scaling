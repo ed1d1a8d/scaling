{
 "cells": [
  {
   "attachments": {},
   "cell_type": "markdown",
   "metadata": {},
   "source": [
    "Cleans up storage for https://wandb.ai/usage/data-frugal-learning/student-teacher-v2/runs."
   ]
  },
  {
   "attachments": {},
   "cell_type": "markdown",
   "metadata": {},
   "source": [
    "### Load libraries"
   ]
  },
  {
   "cell_type": "code",
   "execution_count": 1,
   "metadata": {},
   "outputs": [],
   "source": [
    "import os\n",
    "import pathlib\n",
    "import sys\n",
    "from typing import Any, Optional, Type\n",
    "\n",
    "import git.repo\n",
    "import matplotlib.pyplot as plt\n",
    "import numpy as np\n",
    "import pandas as pd\n",
    "import wandb\n",
    "import wandb.apis.public\n",
    "from tqdm import tqdm\n",
    "from tqdm.contrib.concurrent import process_map\n",
    "\n",
    "GIT_ROOT = pathlib.Path(\n",
    "    str(git.repo.Repo(\".\", search_parent_directories=True).working_tree_dir)\n",
    ")\n",
    "sys.path.append(str(GIT_ROOT))\n",
    "\n",
    "from src import utils"
   ]
  },
  {
   "attachments": {},
   "cell_type": "markdown",
   "metadata": {},
   "source": [
    "### Load runs"
   ]
  },
  {
   "cell_type": "code",
   "execution_count": 2,
   "metadata": {},
   "outputs": [
    {
     "data": {
      "text/plain": [
       "3133"
      ]
     },
     "execution_count": 2,
     "metadata": {},
     "output_type": "execute_result"
    }
   ],
   "source": [
    "api = wandb.Api(timeout=30)\n",
    "runs: list[wandb.apis.public.Run] = api.runs(\n",
    "    f\"data-frugal-learning/student-teacher-v2\",\n",
    ")\n",
    "len(runs)"
   ]
  },
  {
   "cell_type": "code",
   "execution_count": 134,
   "metadata": {},
   "outputs": [],
   "source": [
    "# r = api.run(\"data-frugal-learning/student-teacher-v2/3vldh38w\")\n",
    "r = api.run(\"data-frugal-learning/student-teacher-v2/1symq63k\")"
   ]
  },
  {
   "cell_type": "code",
   "execution_count": 136,
   "metadata": {},
   "outputs": [
    {
     "ename": "AttributeError",
     "evalue": "'<Run data-frugal-learning/student-teacher-v2/1symq63k (finished)>' object has no attribute 'metrics'",
     "output_type": "error",
     "traceback": [
      "\u001b[0;31m---------------------------------------------------------------------------\u001b[0m",
      "\u001b[0;31mAttributeError\u001b[0m                            Traceback (most recent call last)",
      "Cell \u001b[0;32mIn[136], line 1\u001b[0m\n\u001b[0;32m----> 1\u001b[0m r\u001b[39m.\u001b[39;49mmetrics\n",
      "File \u001b[0;32m/run/user/61805/conda-envs/scaling-v3/lib/python3.9/site-packages/wandb/apis/public.py:996\u001b[0m, in \u001b[0;36mAttrs.__getattr__\u001b[0;34m(self, name)\u001b[0m\n\u001b[1;32m    994\u001b[0m     \u001b[39mreturn\u001b[39;00m \u001b[39mself\u001b[39m\u001b[39m.\u001b[39m_attrs[name]\n\u001b[1;32m    995\u001b[0m \u001b[39melse\u001b[39;00m:\n\u001b[0;32m--> 996\u001b[0m     \u001b[39mraise\u001b[39;00m \u001b[39mAttributeError\u001b[39;00m(\u001b[39mf\u001b[39m\u001b[39m\"\u001b[39m\u001b[39m'\u001b[39m\u001b[39m{\u001b[39;00m\u001b[39mrepr\u001b[39m(\u001b[39mself\u001b[39m)\u001b[39m}\u001b[39;00m\u001b[39m'\u001b[39m\u001b[39m object has no attribute \u001b[39m\u001b[39m'\u001b[39m\u001b[39m{\u001b[39;00mname\u001b[39m}\u001b[39;00m\u001b[39m'\u001b[39m\u001b[39m\"\u001b[39m)\n",
      "\u001b[0;31mAttributeError\u001b[0m: '<Run data-frugal-learning/student-teacher-v2/1symq63k (finished)>' object has no attribute 'metrics'"
     ]
    }
   ],
   "source": [
    "r"
   ]
  },
  {
   "cell_type": "code",
   "execution_count": 133,
   "metadata": {},
   "outputs": [
    {
     "data": {
      "text/plain": [
       "['conda-environment.yaml',\n",
       " 'config.yaml',\n",
       " 'diff.patch',\n",
       " 'media/images/test_imgs_17987_32ee0a4eff9e4ca3c9d4.png',\n",
       " 'media/images/test_imgs_17987_71ce42c17277cad562ce.png',\n",
       " 'media/images/test_imgs_17987_771884f396934185309c.png',\n",
       " 'media/images/test_imgs_17987_e468dc44aa480083c37c.png',\n",
       " 'media/images/test_imgs_17987_ecc5484075d8df9fa7fb.png',\n",
       " 'media/images/test_imgs_17987_fbbb0eb41ea88b51196c.png',\n",
       " 'media/images/val_imgs_0_18d59b161af1fb98c4d9.png',\n",
       " 'media/images/val_imgs_0_3fbec8c581d27706631f.png',\n",
       " 'media/images/val_imgs_0_a66300011ed28c3198e2.png',\n",
       " 'media/images/val_imgs_0_b09c86dd95a330767910.png',\n",
       " 'media/images/val_imgs_0_e258a33e1154ed874843.png',\n",
       " 'media/images/val_imgs_0_f5b1abbe16661e283467.png',\n",
       " 'media/images/val_imgs_17986_192998ff95d7f58d4d15.png',\n",
       " 'media/images/val_imgs_17986_58c7015286be78899487.png',\n",
       " 'media/images/val_imgs_17986_8907c9a61668212592c4.png',\n",
       " 'media/images/val_imgs_17986_8f3d6b4426080903063b.png',\n",
       " 'media/images/val_imgs_17986_90308f31366b341ee1fd.png',\n",
       " 'media/images/val_imgs_17986_d1055013998b9c0c8875.png',\n",
       " 'output.log',\n",
       " 'requirements.txt',\n",
       " 'student.ckpt',\n",
       " 'teacher.ckpt',\n",
       " 'wandb-metadata.json',\n",
       " 'wandb-summary.json']"
      ]
     },
     "execution_count": 133,
     "metadata": {},
     "output_type": "execute_result"
    }
   ],
   "source": [
    "[f.name for f in r.files()]"
   ]
  },
  {
   "cell_type": "code",
   "execution_count": 121,
   "metadata": {},
   "outputs": [
    {
     "data": {
      "text/plain": [
       "27"
      ]
     },
     "execution_count": 121,
     "metadata": {},
     "output_type": "execute_result"
    }
   ],
   "source": [
    "len(r.files())"
   ]
  },
  {
   "cell_type": "code",
   "execution_count": 122,
   "metadata": {},
   "outputs": [
    {
     "data": {
      "text/plain": [
       "17986"
      ]
     },
     "execution_count": 122,
     "metadata": {},
     "output_type": "execute_result"
    }
   ],
   "source": [
    "max_steps = -1\n",
    "for f in r.files():\n",
    "    if f.name.startswith(\"media/images/val_imgs_\"):\n",
    "        name = f.name\n",
    "        steps = int(name.split(\"_\")[2])\n",
    "        max_steps = max(max_steps, steps)\n",
    "\n",
    "assert max_steps != -1\n",
    "max_steps"
   ]
  },
  {
   "cell_type": "code",
   "execution_count": 124,
   "metadata": {},
   "outputs": [
    {
     "data": {
      "text/plain": [
       "0"
      ]
     },
     "execution_count": 124,
     "metadata": {},
     "output_type": "execute_result"
    }
   ],
   "source": [
    "ids_to_delete = []\n",
    "for f in r.files():\n",
    "    if f.name.startswith(\"media/images\"):\n",
    "        if f.name.startswith(\"media/images/val_imgs_0\"):\n",
    "            continue\n",
    "        if f.name.startswith(\"media/images/test_imgs_\"):\n",
    "            continue\n",
    "        if f.name.startswith(f\"media/images/val_imgs_{max_steps}\"):\n",
    "            continue\n",
    "        ids_to_delete.append(f.id)\n",
    "len(ids_to_delete)"
   ]
  },
  {
   "cell_type": "code",
   "execution_count": 116,
   "metadata": {},
   "outputs": [
    {
     "data": {
      "text/plain": [
       "{'deleteFiles': {'success': True}}"
      ]
     },
     "execution_count": 116,
     "metadata": {},
     "output_type": "execute_result"
    }
   ],
   "source": [
    "# mutation = wandb.apis.public.gql(\n",
    "#     \"\"\"\n",
    "#     mutation deleteFiles($files: [ID!]!) {\n",
    "#         deleteFiles(input: {\n",
    "#             files: $files\n",
    "#         }) {\n",
    "#             success\n",
    "#         }\n",
    "#     }\n",
    "#     \"\"\"\n",
    "# )\n",
    "# api.client.execute(\n",
    "#     mutation,\n",
    "#     variable_values={\"files\": ids_to_delete},\n",
    "# )"
   ]
  },
  {
   "cell_type": "code",
   "execution_count": 57,
   "metadata": {},
   "outputs": [
    {
     "data": {
      "text/plain": [
       "{'_step': 17987, 'epoch': 4, 'val_rmse': {'min': 0.0031615055046529156}, 'train_rmse': {'min': 0.002623420674353838}, 'step': 17987, '_wandb': {'runtime': 960}, 'test_mse': 1.018744126794627e-05, 'best_checkpoint_steps': 13295, 'lr': 1.0000000000000002e-06, '_runtime': 960.276479959488, 'val_loss': {'min': 9.995117055950689e-06}, 'test_loss': 1.018744126794627e-05, 'test_rmse': 0.003191777133188699, 'train_mse': {'min': 6.882335583213717e-06}, 'val_mse': {'min': 9.995117055950689e-06}, '_timestamp': 1662433421.757474, 'train_loss': {'min': 6.882335583213717e-06}}"
      ]
     },
     "execution_count": 57,
     "metadata": {},
     "output_type": "execute_result"
    }
   ],
   "source": [
    "r.summary"
   ]
  },
  {
   "cell_type": "code",
   "execution_count": 55,
   "metadata": {},
   "outputs": [
    {
     "data": {
      "text/plain": [
       "Document(definitions=[OperationDefinition(operation='query', name=Name(value='RunFiles'), variable_definitions=[VariableDefinition(variable=Variable(name=Name(value='project')), type=NonNullType(type=NamedType(name=Name(value='String'))), default_value=None), VariableDefinition(variable=Variable(name=Name(value='entity')), type=NonNullType(type=NamedType(name=Name(value='String'))), default_value=None), VariableDefinition(variable=Variable(name=Name(value='name')), type=NonNullType(type=NamedType(name=Name(value='String'))), default_value=None), VariableDefinition(variable=Variable(name=Name(value='fileCursor')), type=NamedType(name=Name(value='String')), default_value=None), VariableDefinition(variable=Variable(name=Name(value='fileLimit')), type=NamedType(name=Name(value='Int')), default_value=IntValue(value='50')), VariableDefinition(variable=Variable(name=Name(value='fileNames')), type=ListType(type=NamedType(name=Name(value='String'))), default_value=ListValue(values=[])), VariableDefinition(variable=Variable(name=Name(value='upload')), type=NamedType(name=Name(value='Boolean')), default_value=BooleanValue(value=False))], directives=[], selection_set=SelectionSet(selections=[Field(alias=None, name=Name(value='project'), arguments=[Argument(name=Name(value='name'), value=Variable(name=Name(value='project'))), Argument(name=Name(value='entityName'), value=Variable(name=Name(value='entity')))], directives=[], selection_set=SelectionSet(selections=[Field(alias=None, name=Name(value='run'), arguments=[Argument(name=Name(value='name'), value=Variable(name=Name(value='name')))], directives=[], selection_set=SelectionSet(selections=[Field(alias=None, name=Name(value='fileCount'), arguments=[], directives=[], selection_set=None), FragmentSpread(name=Name(value='RunFilesFragment'), directives=[])]))]))])), FragmentDefinition(name=Name(value='RunFilesFragment'), type_condition=NamedType(name=Name(value='Run')), directives=[], selection_set=SelectionSet(selections=[Field(alias=None, name=Name(value='files'), arguments=[Argument(name=Name(value='names'), value=Variable(name=Name(value='fileNames'))), Argument(name=Name(value='after'), value=Variable(name=Name(value='fileCursor'))), Argument(name=Name(value='first'), value=Variable(name=Name(value='fileLimit')))], directives=[], selection_set=SelectionSet(selections=[Field(alias=None, name=Name(value='edges'), arguments=[], directives=[], selection_set=SelectionSet(selections=[Field(alias=None, name=Name(value='node'), arguments=[], directives=[], selection_set=SelectionSet(selections=[Field(alias=None, name=Name(value='id'), arguments=[], directives=[], selection_set=None), Field(alias=None, name=Name(value='name'), arguments=[], directives=[], selection_set=None), Field(alias=None, name=Name(value='url'), arguments=[Argument(name=Name(value='upload'), value=Variable(name=Name(value='upload')))], directives=[], selection_set=None), Field(alias=None, name=Name(value='directUrl'), arguments=[], directives=[], selection_set=None), Field(alias=None, name=Name(value='sizeBytes'), arguments=[], directives=[], selection_set=None), Field(alias=None, name=Name(value='mimetype'), arguments=[], directives=[], selection_set=None), Field(alias=None, name=Name(value='updatedAt'), arguments=[], directives=[], selection_set=None), Field(alias=None, name=Name(value='md5'), arguments=[], directives=[], selection_set=None)])), Field(alias=None, name=Name(value='cursor'), arguments=[], directives=[], selection_set=None)])), Field(alias=None, name=Name(value='pageInfo'), arguments=[], directives=[], selection_set=SelectionSet(selections=[Field(alias=None, name=Name(value='endCursor'), arguments=[], directives=[], selection_set=None), Field(alias=None, name=Name(value='hasNextPage'), arguments=[], directives=[], selection_set=None)]))]))]))])"
      ]
     },
     "execution_count": 55,
     "metadata": {},
     "output_type": "execute_result"
    }
   ],
   "source": [
    "f.QUERY"
   ]
  },
  {
   "cell_type": "code",
   "execution_count": 45,
   "metadata": {},
   "outputs": [
    {
     "data": {
      "text/plain": [
       "['QUERY',\n",
       " '__class__',\n",
       " '__delattr__',\n",
       " '__dict__',\n",
       " '__dir__',\n",
       " '__doc__',\n",
       " '__eq__',\n",
       " '__format__',\n",
       " '__ge__',\n",
       " '__getattribute__',\n",
       " '__getitem__',\n",
       " '__gt__',\n",
       " '__hash__',\n",
       " '__init__',\n",
       " '__init_subclass__',\n",
       " '__iter__',\n",
       " '__le__',\n",
       " '__len__',\n",
       " '__lt__',\n",
       " '__module__',\n",
       " '__ne__',\n",
       " '__new__',\n",
       " '__next__',\n",
       " '__reduce__',\n",
       " '__reduce_ex__',\n",
       " '__repr__',\n",
       " '__setattr__',\n",
       " '__sizeof__',\n",
       " '__str__',\n",
       " '__subclasshook__',\n",
       " '__weakref__',\n",
       " '_load_page',\n",
       " 'client',\n",
       " 'convert_objects',\n",
       " 'cursor',\n",
       " 'index',\n",
       " 'last_response',\n",
       " 'length',\n",
       " 'more',\n",
       " 'next',\n",
       " 'objects',\n",
       " 'per_page',\n",
       " 'run',\n",
       " 'update_variables',\n",
       " 'variables']"
      ]
     },
     "execution_count": 45,
     "metadata": {},
     "output_type": "execute_result"
    }
   ],
   "source": [
    "dir(f)"
   ]
  },
  {
   "cell_type": "code",
   "execution_count": 32,
   "metadata": {},
   "outputs": [
    {
     "name": "stdout",
     "output_type": "stream",
     "text": [
      "<File media/images/** (None) 0.0B>\n"
     ]
    }
   ],
   "source": [
    "for x in r.files(\"media/images/**\"):\n",
    "    print(x)"
   ]
  },
  {
   "cell_type": "code",
   "execution_count": 31,
   "metadata": {},
   "outputs": [
    {
     "data": {
      "text/plain": [
       "0"
      ]
     },
     "execution_count": 31,
     "metadata": {},
     "output_type": "execute_result"
    }
   ],
   "source": [
    "len(r.logged_artifacts())"
   ]
  },
  {
   "cell_type": "code",
   "execution_count": null,
   "metadata": {},
   "outputs": [],
   "source": []
  }
 ],
 "metadata": {
  "kernelspec": {
   "display_name": "scaling-v3",
   "language": "python",
   "name": "python3"
  },
  "language_info": {
   "codemirror_mode": {
    "name": "ipython",
    "version": 3
   },
   "file_extension": ".py",
   "mimetype": "text/x-python",
   "name": "python",
   "nbconvert_exporter": "python",
   "pygments_lexer": "ipython3",
   "version": "3.9.15"
  },
  "orig_nbformat": 4,
  "vscode": {
   "interpreter": {
    "hash": "5883dc9b52c0607acbaf60735ab064fedb4eca077fef8025b9dfd3c924209b4d"
   }
  }
 },
 "nbformat": 4,
 "nbformat_minor": 2
}
