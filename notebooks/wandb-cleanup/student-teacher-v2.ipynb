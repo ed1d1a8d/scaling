{
 "cells": [
  {
   "attachments": {},
   "cell_type": "markdown",
   "metadata": {},
   "source": [
    "Cleans up storage for https://wandb.ai/usage/data-frugal-learning/student-teacher-v2/runs."
   ]
  },
  {
   "attachments": {},
   "cell_type": "markdown",
   "metadata": {},
   "source": [
    "### Load libraries"
   ]
  },
  {
   "cell_type": "code",
   "execution_count": 1,
   "metadata": {},
   "outputs": [],
   "source": [
    "import os\n",
    "import pathlib\n",
    "import sys\n",
    "from typing import Any, Optional, Type\n",
    "\n",
    "import git.repo\n",
    "import matplotlib.pyplot as plt\n",
    "import numpy as np\n",
    "import pandas as pd\n",
    "import wandb\n",
    "import wandb.apis.public\n",
    "from tqdm import tqdm\n",
    "from tqdm.contrib.concurrent import process_map\n",
    "\n",
    "GIT_ROOT = pathlib.Path(\n",
    "    str(git.repo.Repo(\".\", search_parent_directories=True).working_tree_dir)\n",
    ")\n",
    "sys.path.append(str(GIT_ROOT))\n",
    "\n",
    "from src import utils"
   ]
  },
  {
   "attachments": {},
   "cell_type": "markdown",
   "metadata": {},
   "source": [
    "### Load runs"
   ]
  },
  {
   "cell_type": "code",
   "execution_count": 2,
   "metadata": {},
   "outputs": [
    {
     "data": {
      "text/plain": [
       "3133"
      ]
     },
     "execution_count": 2,
     "metadata": {},
     "output_type": "execute_result"
    }
   ],
   "source": [
    "api = wandb.Api(timeout=30)\n",
    "runs: list[wandb.apis.public.Run] = api.runs(\n",
    "    f\"data-frugal-learning/student-teacher-v2\",\n",
    ")\n",
    "len(runs)"
   ]
  },
  {
   "cell_type": "code",
   "execution_count": 134,
   "metadata": {},
   "outputs": [],
   "source": [
    "# r = api.run(\"data-frugal-learning/student-teacher-v2/3vldh38w\")\n",
    "r = api.run(\"data-frugal-learning/student-teacher-v2/1symq63k\")"
   ]
  },
  {
   "cell_type": "code",
   "execution_count": 121,
   "metadata": {},
   "outputs": [
    {
     "data": {
      "text/plain": [
       "27"
      ]
     },
     "execution_count": 121,
     "metadata": {},
     "output_type": "execute_result"
    }
   ],
   "source": [
    "len(r.files())"
   ]
  },
  {
   "cell_type": "code",
   "execution_count": 122,
   "metadata": {},
   "outputs": [
    {
     "data": {
      "text/plain": [
       "17986"
      ]
     },
     "execution_count": 122,
     "metadata": {},
     "output_type": "execute_result"
    }
   ],
   "source": [
    "max_steps = -1\n",
    "for f in r.files():\n",
    "    if f.name.startswith(\"media/images/val_imgs_\"):\n",
    "        name = f.name\n",
    "        steps = int(name.split(\"_\")[2])\n",
    "        max_steps = max(max_steps, steps)\n",
    "\n",
    "assert max_steps != -1\n",
    "max_steps"
   ]
  },
  {
   "cell_type": "code",
   "execution_count": 124,
   "metadata": {},
   "outputs": [
    {
     "data": {
      "text/plain": [
       "0"
      ]
     },
     "execution_count": 124,
     "metadata": {},
     "output_type": "execute_result"
    }
   ],
   "source": [
    "ids_to_delete = []\n",
    "for f in r.files():\n",
    "    if f.name.startswith(\"media/images\"):\n",
    "        if f.name.startswith(\"media/images/val_imgs_0\"):\n",
    "            continue\n",
    "        if f.name.startswith(\"media/images/test_imgs_\"):\n",
    "            continue\n",
    "        if f.name.startswith(f\"media/images/val_imgs_{max_steps}\"):\n",
    "            continue\n",
    "        ids_to_delete.append(f.id)\n",
    "len(ids_to_delete)"
   ]
  },
  {
   "cell_type": "code",
   "execution_count": 116,
   "metadata": {},
   "outputs": [
    {
     "data": {
      "text/plain": [
       "{'deleteFiles': {'success': True}}"
      ]
     },
     "execution_count": 116,
     "metadata": {},
     "output_type": "execute_result"
    }
   ],
   "source": [
    "# Does the actual deletion\n",
    "mutation = wandb.apis.public.gql(\n",
    "    \"\"\"\n",
    "    mutation deleteFiles($files: [ID!]!) {\n",
    "        deleteFiles(input: {\n",
    "            files: $files\n",
    "        }) {\n",
    "            success\n",
    "        }\n",
    "    }\n",
    "    \"\"\"\n",
    ")\n",
    "api.client.execute(\n",
    "    mutation,\n",
    "    variable_values={\"files\": ids_to_delete},\n",
    ")"
   ]
  }
 ],
 "metadata": {
  "kernelspec": {
   "display_name": "scaling-v3",
   "language": "python",
   "name": "python3"
  },
  "language_info": {
   "codemirror_mode": {
    "name": "ipython",
    "version": 3
   },
   "file_extension": ".py",
   "mimetype": "text/x-python",
   "name": "python",
   "nbconvert_exporter": "python",
   "pygments_lexer": "ipython3",
   "version": "3.9.15 (main, Nov 24 2022, 14:31:59) \n[GCC 11.2.0]"
  },
  "orig_nbformat": 4,
  "vscode": {
   "interpreter": {
    "hash": "5883dc9b52c0607acbaf60735ab064fedb4eca077fef8025b9dfd3c924209b4d"
   }
  }
 },
 "nbformat": 4,
 "nbformat_minor": 2
}
