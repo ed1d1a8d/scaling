{
 "cells": [
  {
   "attachments": {},
   "cell_type": "markdown",
   "metadata": {},
   "source": [
    "Cleans up storage for https://wandb.ai/usage/data-frugal-learning/student-teacher-v2/runs."
   ]
  },
  {
   "attachments": {},
   "cell_type": "markdown",
   "metadata": {},
   "source": [
    "### Load libraries"
   ]
  },
  {
   "cell_type": "code",
   "execution_count": 1,
   "metadata": {},
   "outputs": [],
   "source": [
    "import os\n",
    "import pathlib\n",
    "import sys\n",
    "\n",
    "import git.repo\n",
    "import matplotlib.pyplot as plt\n",
    "import numpy as np\n",
    "import pandas as pd\n",
    "import wandb\n",
    "import wandb.apis.public\n",
    "from tqdm.auto import tqdm\n",
    "from tqdm.contrib.concurrent import process_map\n",
    "\n",
    "GIT_ROOT = pathlib.Path(\n",
    "    str(git.repo.Repo(\".\", search_parent_directories=True).working_tree_dir)\n",
    ")\n",
    "sys.path.append(str(GIT_ROOT))\n",
    "\n",
    "from src import utils"
   ]
  },
  {
   "attachments": {},
   "cell_type": "markdown",
   "metadata": {},
   "source": [
    "### Cleanup code"
   ]
  },
  {
   "cell_type": "code",
   "execution_count": 2,
   "metadata": {},
   "outputs": [],
   "source": [
    "def cleanup(run_id: str, dry_run: bool = False) -> dict[str, int]:\n",
    "    api = wandb.Api(timeout=60)\n",
    "    run = api.run(f\"data-frugal-learning/student-teacher-v2/{run_id}\")\n",
    "\n",
    "    file_infos = [\n",
    "        dict(\n",
    "            name=f.name,\n",
    "            id=f.id,\n",
    "            size_bytes=f.size,\n",
    "        )\n",
    "        for f in run.files()\n",
    "    ]\n",
    "\n",
    "    max_steps = -1\n",
    "    for fi in file_infos:\n",
    "        name = fi[\"name\"]\n",
    "        if name.startswith(\"media/images/val_imgs_\"):\n",
    "            steps = int(name.split(\"_\")[2])\n",
    "            max_steps = max(max_steps, steps)\n",
    "\n",
    "\n",
    "    if max_steps == -1:\n",
    "        return dict(n_files_deleted=0, bytes_deleted=0)\n",
    "\n",
    "    ids_to_delete = []\n",
    "    bytes_deleted = 0\n",
    "    for fi in file_infos:\n",
    "        if fi[\"name\"].startswith(\"media/images\"):\n",
    "            if fi[\"name\"].startswith(\"media/images/val_imgs_0\"):\n",
    "                continue\n",
    "            if fi[\"name\"].startswith(\"media/images/test_imgs_\"):\n",
    "                continue\n",
    "            if fi[\"name\"].startswith(f\"media/images/val_imgs_{max_steps}\"):\n",
    "                continue\n",
    "            ids_to_delete.append(fi[\"id\"])\n",
    "            bytes_deleted += fi[\"size_bytes\"]\n",
    "\n",
    "    if not dry_run:\n",
    "        mutation = wandb.apis.public.gql(  # type: ignore\n",
    "            \"\"\"\n",
    "            mutation deleteFiles($files: [ID!]!) {\n",
    "                deleteFiles(input: {\n",
    "                    files: $files\n",
    "                }) {\n",
    "                    success\n",
    "                }\n",
    "            }\n",
    "            \"\"\"\n",
    "        )\n",
    "        api.client.execute(\n",
    "            mutation,\n",
    "            variable_values={\"files\": ids_to_delete},\n",
    "        )\n",
    "\n",
    "    return dict(n_files_deleted=len(ids_to_delete), bytes_deleted=bytes_deleted)"
   ]
  },
  {
   "attachments": {},
   "cell_type": "markdown",
   "metadata": {},
   "source": [
    "### Do large scale cleanup"
   ]
  },
  {
   "cell_type": "code",
   "execution_count": 3,
   "metadata": {},
   "outputs": [
    {
     "data": {
      "application/vnd.jupyter.widget-view+json": {
       "model_id": "2cf9495c3bc14adda9438f5f42d03c46",
       "version_major": 2,
       "version_minor": 0
      },
      "text/plain": [
       "  0%|          | 0/3133 [00:00<?, ?it/s]"
      ]
     },
     "metadata": {},
     "output_type": "display_data"
    }
   ],
   "source": [
    "api = wandb.Api(timeout=30)\n",
    "runs: list[wandb.apis.public.Run] = api.runs(\n",
    "    f\"data-frugal-learning/student-teacher-v2\",\n",
    ")\n",
    "len(runs)\n",
    "\n",
    "res_dicts = process_map(\n",
    "    cleanup,\n",
    "    [r.id for r in runs],\n",
    "    max_workers=10,  # https://docs.wandb.ai/guides/track/limits\n",
    "    tqdm_class=tqdm,\n",
    "    chunksize=1,\n",
    ")\n",
    "df = pd.DataFrame(res_dicts)"
   ]
  },
  {
   "cell_type": "code",
   "execution_count": 4,
   "metadata": {},
   "outputs": [
    {
     "name": "stdout",
     "output_type": "stream",
     "text": [
      "1452894\n",
      "15418.50354 MB\n"
     ]
    },
    {
     "data": {
      "image/png": "[encoded data removed]",
      "text/plain": [
       "<Figure size 400x300 with 1 Axes>"
      ]
     },
     "metadata": {},
     "output_type": "display_data"
    }
   ],
   "source": [
    "print(df.n_files_deleted.sum())\n",
    "print(df.bytes_deleted.sum() / 1e6, \"MB\")\n",
    "(df.bytes_deleted / 1e6).hist(bins=30, figsize=(4,3));"
   ]
  }
 ],
 "metadata": {
  "kernelspec": {
   "display_name": "scaling-v3",
   "language": "python",
   "name": "python3"
  },
  "language_info": {
   "codemirror_mode": {
    "name": "ipython",
    "version": 3
   },
   "file_extension": ".py",
   "mimetype": "text/x-python",
   "name": "python",
   "nbconvert_exporter": "python",
   "pygments_lexer": "ipython3",
   "version": "3.9.15"
  },
  "orig_nbformat": 4,
  "vscode": {
   "interpreter": {
    "hash": "5883dc9b52c0607acbaf60735ab064fedb4eca077fef8025b9dfd3c924209b4d"
   }
  }
 },
 "nbformat": 4,
 "nbformat_minor": 2
}
