{
 "cells": [
  {
   "cell_type": "markdown",
   "metadata": {},
   "source": [
    "### Load libraries"
   ]
  },
  {
   "cell_type": "code",
   "execution_count": null,
   "metadata": {},
   "outputs": [],
   "source": [
    "import sys\n",
    "\n",
    "import matplotlib.pyplot as plt\n",
    "import numpy as np\n",
    "import pandas as pd\n",
    "import wandb\n",
    "import wandb.sdk"
   ]
  },
  {
   "cell_type": "code",
   "execution_count": null,
   "metadata": {},
   "outputs": [],
   "source": [
    "sys.path.append(\"../..\")\n",
    "from src.utils import runs_to_df"
   ]
  },
  {
   "cell_type": "markdown",
   "metadata": {},
   "source": [
    "### Load data"
   ]
  },
  {
   "cell_type": "code",
   "execution_count": null,
   "metadata": {},
   "outputs": [],
   "source": [
    "api = wandb.Api()\n",
    "runs: list[wandb.sdk.wandb_run.Run] = api.runs(\n",
    "    f\"data-frugal-learning/adv-train\",\n",
    "    filters={\"tags\": {\"$in\": [\"student-teacher-v1\"]}},\n",
    ")\n",
    "\n",
    "df_all = runs_to_df(runs)\n",
    "df = df_all[df_all.state == \"finished\"]"
   ]
  },
  {
   "cell_type": "code",
   "execution_count": null,
   "metadata": {},
   "outputs": [],
   "source": [
    "print(sorted(df.n_train.unique()))"
   ]
  },
  {
   "cell_type": "markdown",
   "metadata": {},
   "source": [
    "### Plots"
   ]
  },
  {
   "cell_type": "code",
   "execution_count": null,
   "metadata": {},
   "outputs": [],
   "source": [
    "plt.figure(figsize=(8, 12))\n",
    "plt.suptitle(\"student-teacher-v1 (wrn-28-10) (soft labels)\", fontsize=16, y=0.92)\n",
    "\n",
    "for adv_train, color in zip([False, True], [\"tab:blue\", \"tab:orange\"]):\n",
    "    cdf = df[(df.do_adv_training == adv_train) & df.teacher_use_softmax].sort_values(\n",
    "        \"n_train\"\n",
    "    )\n",
    "\n",
    "    lab = \"adv\" if adv_train else \"nat\"\n",
    "\n",
    "    plt.subplot(2, 1, 1)\n",
    "    plt.plot(\n",
    "        cdf.n_train,\n",
    "        1 - cdf.test_acc_nat,\n",
    "        label=f\"algo: {lab}; err: nat\",\n",
    "        color=color,\n",
    "    )\n",
    "    plt.plot(\n",
    "        cdf.n_train,\n",
    "        1 - cdf.test_acc_adv,\n",
    "        label=f\"algo: {lab}; err: adv\",\n",
    "        linestyle=\"--\",\n",
    "        color=color,\n",
    "    )\n",
    "\n",
    "    plt.xscale(\"log\")\n",
    "    plt.yscale(\"log\")\n",
    "    plt.xlabel(\"# of train datapoints\")\n",
    "    plt.ylabel(\"Test error\")\n",
    "    plt.legend(loc=\"upper left\", bbox_to_anchor=(1, 1))\n",
    "\n",
    "    plt.subplot(2, 1, 2)\n",
    "    plt.plot(\n",
    "        cdf.n_train,\n",
    "        cdf.test_loss_nat,\n",
    "        label=f\"algo: {lab}; loss: nat\",\n",
    "        color=color,\n",
    "    )\n",
    "    plt.plot(\n",
    "        cdf.n_train,\n",
    "        cdf.test_loss_adv,\n",
    "        label=f\"algo: {lab}; loss: adv\",\n",
    "        linestyle=\"--\",\n",
    "        color=color,\n",
    "    )\n",
    "\n",
    "    plt.xscale(\"log\")\n",
    "    plt.yscale(\"log\")\n",
    "    plt.xlabel(\"# of train datapoints\")\n",
    "    plt.ylabel(\"Test loss\")\n",
    "    plt.legend(loc=\"upper left\", bbox_to_anchor=(1, 1))\n"
   ]
  },
  {
   "cell_type": "code",
   "execution_count": null,
   "metadata": {},
   "outputs": [],
   "source": [
    "plt.figure(figsize=(8, 12))\n",
    "plt.suptitle(\"student-teacher-v1 (wrn-28-10) (hard labels)\", fontsize=16, y=0.92)\n",
    "\n",
    "\n",
    "for adv_train, color in zip([False, True], [\"tab:blue\", \"tab:orange\"]):\n",
    "    cdf = df[(df.do_adv_training == adv_train) & ~df.teacher_use_softmax].sort_values(\n",
    "        \"n_train\"\n",
    "    )\n",
    "\n",
    "    lab = \"adv\" if adv_train else \"nat\"\n",
    "\n",
    "    plt.subplot(2, 1, 1)\n",
    "    plt.plot(\n",
    "        cdf.n_train,\n",
    "        1 - cdf.test_acc_nat,\n",
    "        label=f\"algo: {lab}; err: nat\",\n",
    "        color=color,\n",
    "    )\n",
    "    plt.plot(\n",
    "        cdf.n_train,\n",
    "        1 - cdf.test_acc_adv,\n",
    "        label=f\"algo: {lab}; err: adv\",\n",
    "        linestyle=\"--\",\n",
    "        color=color,\n",
    "    )\n",
    "\n",
    "    plt.xscale(\"log\")\n",
    "    plt.yscale(\"log\")\n",
    "    plt.xlabel(\"# of train datapoints\")\n",
    "    plt.ylabel(\"Test error\")\n",
    "    plt.legend(loc=\"upper left\", bbox_to_anchor=(1, 1))\n",
    "\n",
    "    plt.subplot(2, 1, 2)\n",
    "    plt.plot(\n",
    "        cdf.n_train,\n",
    "        cdf.test_loss_nat,\n",
    "        label=f\"algo: {lab}; loss: nat\",\n",
    "        color=color,\n",
    "    )\n",
    "    plt.plot(\n",
    "        cdf.n_train,\n",
    "        cdf.test_loss_adv,\n",
    "        label=f\"algo: {lab}; loss: adv\",\n",
    "        linestyle=\"--\",\n",
    "        color=color,\n",
    "    )\n",
    "\n",
    "    plt.xscale(\"log\")\n",
    "    plt.yscale(\"log\")\n",
    "    plt.xlabel(\"# of train datapoints\")\n",
    "    plt.ylabel(\"Test loss\")\n",
    "    plt.legend(loc=\"upper left\", bbox_to_anchor=(1, 1))\n"
   ]
  },
  {
   "cell_type": "code",
   "execution_count": null,
   "metadata": {},
   "outputs": [],
   "source": [
    "plt.figure(figsize=(8, 12))\n",
    "plt.suptitle(\"student-teacher-v1 (wrn-28-10) (hard labels)\", fontsize=16, y=0.92)\n",
    "\n",
    "colors = [\"tab:red\", \"tab:green\"]\n",
    "\n",
    "for use_softmax, color in zip((False, True), colors):\n",
    "    for adv_train in (False, True):\n",
    "        cdf = df[\n",
    "            (df.do_adv_training == adv_train) & (df.teacher_use_softmax == use_softmax)\n",
    "        ].sort_values(\"n_train\")\n",
    "\n",
    "        algo_tag = \"adv\" if adv_train else \"nat\"\n",
    "        label_tag = \"soft\" if use_softmax else \"hard\"\n",
    "        linestyle = \"--\" if adv_train else \"solid\"\n",
    "\n",
    "        plt.subplot(2, 1, 1)\n",
    "        plt.plot(\n",
    "            cdf.n_train,\n",
    "            1 - cdf.test_acc_nat,\n",
    "            label=f\"algo: {algo_tag}; label: {label_tag}\",\n",
    "            color=color,\n",
    "            linestyle=linestyle,\n",
    "        )\n",
    "\n",
    "        plt.xscale(\"log\")\n",
    "        plt.yscale(\"log\")\n",
    "        plt.xlabel(\"# of train datapoints\")\n",
    "        plt.ylabel(\"Nat. test error\")\n",
    "        plt.legend(loc=\"upper left\", bbox_to_anchor=(1, 1))\n",
    "\n",
    "        plt.subplot(2, 1, 2)\n",
    "        plt.plot(\n",
    "            cdf.n_train,\n",
    "            1 - cdf.test_acc_adv,\n",
    "            label=f\"algo: {algo_tag}; label: {label_tag}\",\n",
    "            color=color,\n",
    "            linestyle=linestyle,\n",
    "        )\n",
    "\n",
    "        plt.xscale(\"log\")\n",
    "        plt.yscale(\"log\")\n",
    "        plt.xlabel(\"# of train datapoints\")\n",
    "        plt.ylabel(\"Adv. test error\")\n",
    "        plt.legend(loc=\"upper left\", bbox_to_anchor=(1, 1))\n"
   ]
  }
 ],
 "metadata": {
  "kernelspec": {
   "display_name": "Python 3.9.13 ('scaling-v2-tmp')",
   "language": "python",
   "name": "python3"
  },
  "language_info": {
   "codemirror_mode": {
    "name": "ipython",
    "version": 3
   },
   "file_extension": ".py",
   "mimetype": "text/x-python",
   "name": "python",
   "nbconvert_exporter": "python",
   "pygments_lexer": "ipython3",
   "version": "3.9.13"
  },
  "orig_nbformat": 4,
  "vscode": {
   "interpreter": {
    "hash": "47ef31053d8b728266120e9d84fd013ec3b97028489e5d749b36c7d18b82d09d"
   }
  }
 },
 "nbformat": 4,
 "nbformat_minor": 2
}
