{
 "cells": [
  {
   "cell_type": "markdown",
   "metadata": {},
   "source": [
    "### Load libraries"
   ]
  },
  {
   "cell_type": "code",
   "execution_count": null,
   "metadata": {},
   "outputs": [],
   "source": [
    "import sys\n",
    "\n",
    "import matplotlib.pyplot as plt\n",
    "import numpy as np\n",
    "import pandas as pd\n",
    "import wandb\n",
    "import wandb.sdk"
   ]
  },
  {
   "cell_type": "code",
   "execution_count": null,
   "metadata": {},
   "outputs": [],
   "source": [
    "sys.path.append(\"../..\")\n",
    "from src.utils import runs_to_df"
   ]
  },
  {
   "cell_type": "markdown",
   "metadata": {},
   "source": [
    "### Load data"
   ]
  },
  {
   "cell_type": "code",
   "execution_count": null,
   "metadata": {},
   "outputs": [],
   "source": [
    "api = wandb.Api()\n",
    "runs: list[wandb.sdk.wandb_run.Run] = api.runs(\n",
    "    f\"data-frugal-learning/adv-train\",\n",
    "    filters={\"tags\": {\"$in\": [\"try1.2\", \"try1.2.1\", \"try1.3\", \"vit-v0\"]}},\n",
    ")\n",
    "\n",
    "df_all = runs_to_df(runs)\n",
    "df_all.loc[df_all.model.isna(), \"model\"] = \"ModelT.WideResNet\"\n",
    "(df_all.state == \"finished\").mean()"
   ]
  },
  {
   "cell_type": "code",
   "execution_count": null,
   "metadata": {},
   "outputs": [],
   "source": [
    "df_all.model.unique()"
   ]
  },
  {
   "cell_type": "code",
   "execution_count": null,
   "metadata": {},
   "outputs": [],
   "source": [
    "print(sorted(df_all.n_train.unique()))"
   ]
  },
  {
   "cell_type": "markdown",
   "metadata": {},
   "source": [
    "### CIFAR-10 and CIFAR-5m combined"
   ]
  },
  {
   "cell_type": "code",
   "execution_count": null,
   "metadata": {},
   "outputs": [],
   "source": [
    "def plot_zone(xs: pd.Series, ys1: pd.Series, ys2: pd.Series, **kwargs):\n",
    "    plt.fill_between(\n",
    "        xs.to_numpy(),\n",
    "        np.minimum(ys1.to_numpy(), ys2.to_numpy()),\n",
    "        np.maximum(ys1.to_numpy(), ys2.to_numpy()),\n",
    "        **kwargs\n",
    "    )\n",
    "\n",
    "for adv_train in [True, False]:\n",
    "    plt.figure(dpi=200, figsize=(6, 4))\n",
    "    train_type = \"adversarial\" if adv_train else \"natural\"\n",
    "    plt.title(f\"Data-scaling of {train_type} training, wrn-28-{{10,20}}\")\n",
    "\n",
    "    df = df_all[df_all.model == \"ModelT.WideResNet\"]\n",
    "    df_c5m = df[(df.do_adv_training == adv_train) & df.dataset.isna()]\n",
    "    df_c10 = df[(df.do_adv_training == adv_train) & (df.dataset == \"DatasetT.CIFAR10\")]\n",
    "\n",
    "    cdf10 = df_c5m[df_c5m.width == 10].sort_values(\"n_train\")\n",
    "    cdf20 = df_c5m[df_c5m.width == 20].sort_values(\"n_train\")\n",
    "    plot_zone(cdf10.n_train, 1 - cdf10.test_acc_adv, 1 - cdf20.test_acc_adv, label=f\"adv-err (wrn)\", alpha=0.5)\n",
    "    plot_zone(cdf10.n_train, 1 - cdf10.test_acc_nat, 1 - cdf20.test_acc_nat, label=f\"nat-err (wrn)\", alpha=0.5)\n",
    "\n",
    "    df = df_all[df_all.model == \"ModelT.VisionTransformer\"]\n",
    "    df = df[df.do_adv_training == adv_train].sort_values(\"n_train\")\n",
    "    plt.plot(df.n_train, 1 - df.test_acc_adv, label=f\"adv-err (vit)\", color=\"tab:green\", linestyle=\"--\")\n",
    "    plt.plot(df.n_train, 1 - df.test_acc_nat, label=f\"nat-err (vit)\", color=\"tab:red\", linestyle=\"--\")\n",
    "\n",
    "    plt.xscale(\"log\")\n",
    "    plt.yscale(\"log\")\n",
    "\n",
    "    plt.xlabel(\"# of train datapoints\")\n",
    "    plt.ylabel(\"Test error\")\n",
    "    plt.legend(loc=\"upper left\", bbox_to_anchor=(1, 1));\n"
   ]
  },
  {
   "cell_type": "code",
   "execution_count": null,
   "metadata": {},
   "outputs": [],
   "source": [
    "for adv_train in [True, False]:\n",
    "    plt.figure(dpi=200, figsize=(6, 4))\n",
    "    train_type = \"adversarial\" if adv_train else \"natural\"\n",
    "    plt.title(f\"Data-scaling of {train_type} training, wrn-28-{{10,20}}\")\n",
    "\n",
    "    df = df_all[df_all.model == \"ModelT.WideResNet\"]\n",
    "    df_c5m = df[(df.do_adv_training == adv_train) & df.dataset.isna()]\n",
    "    df_c10 = df[(df.do_adv_training == adv_train) & (df.dataset == \"DatasetT.CIFAR10\")]\n",
    "    \n",
    "    cdf10 = df_c5m[df_c5m.width == 10].sort_values(\"n_train\")\n",
    "    cdf20 = df_c5m[df_c5m.width == 20].sort_values(\"n_train\")\n",
    "    plot_zone(cdf10.n_train, cdf10.test_loss_adv, cdf20.test_loss_adv, label=f\"adv-loss (cifar5m)\", alpha=0.5)\n",
    "    plot_zone(cdf10.n_train, cdf10.test_loss_nat, cdf20.test_loss_nat, label=f\"nat-loss (cifar5m)\", alpha=0.5)\n",
    "\n",
    "    df = df_all[df_all.model == \"ModelT.VisionTransformer\"]\n",
    "    df = df[df.do_adv_training == adv_train].sort_values(\"n_train\")\n",
    "    plt.plot(df.n_train, df.test_loss_adv, label=f\"adv-loss (vit)\", color=\"tab:green\", linestyle=\"--\")\n",
    "    plt.plot(df.n_train, df.test_loss_nat, label=f\"nat-loss (vit)\", color=\"tab:red\", linestyle=\"--\")\n",
    "\n",
    "    plt.xscale(\"log\")\n",
    "    plt.yscale(\"log\")\n",
    "\n",
    "    plt.xlabel(\"# of train datapoints\")\n",
    "    plt.ylabel(\"Test loss\")\n",
    "    plt.legend(loc=\"upper left\", bbox_to_anchor=(1, 1));\n"
   ]
  }
 ],
 "metadata": {
  "kernelspec": {
   "display_name": "Python 3.9.13 ('scaling-v2')",
   "language": "python",
   "name": "python3"
  },
  "language_info": {
   "codemirror_mode": {
    "name": "ipython",
    "version": 3
   },
   "file_extension": ".py",
   "mimetype": "text/x-python",
   "name": "python",
   "nbconvert_exporter": "python",
   "pygments_lexer": "ipython3",
   "version": "3.9.13"
  },
  "orig_nbformat": 4,
  "vscode": {
   "interpreter": {
    "hash": "c4d11743395684b28769a98b4ddabeeff0307a7a759e49eaefc6ee1943ee50fa"
   }
  }
 },
 "nbformat": 4,
 "nbformat_minor": 2
}
