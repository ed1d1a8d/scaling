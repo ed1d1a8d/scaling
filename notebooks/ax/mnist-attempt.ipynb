{
 "cells": [
  {
   "cell_type": "code",
   "execution_count": 8,
   "metadata": {},
   "outputs": [],
   "source": [
    "import os\n",
    "import sys\n",
    "\n",
    "import git.repo\n",
    "import numpy as np\n",
    "from array import array\n",
    "import struct\n",
    "from mlxtend.data import loadlocal_mnist\n",
    "from ffcv.fields import IntField, NDArrayField\n",
    "from ffcv.writer import DatasetWriter\n",
    "\n",
    "GIT_ROOT = str(\n",
    "    git.repo.Repo(\".\", search_parent_directories=True).working_tree_dir\n",
    ")"
   ]
  },
  {
   "cell_type": "code",
   "execution_count": 7,
   "metadata": {},
   "outputs": [],
   "source": [
    "class NumpyDataset:\n",
    "    def __init__(self, xs: np.ndarray, ys: np.ndarray):\n",
    "        assert xs.shape[0] == ys.shape[0]\n",
    "\n",
    "        self.xs = xs\n",
    "        self.ys = ys\n",
    "\n",
    "    def __len__(self):\n",
    "        return self.ys.shape[0]\n",
    "\n",
    "    def __getitem__(self, idx: int):\n",
    "        return (self.xs[idx], self.ys[idx])"
   ]
  },
  {
   "cell_type": "code",
   "execution_count": 7,
   "metadata": {},
   "outputs": [],
   "source": [
    "path = os.path.join(GIT_ROOT, f\"data/mnist8m/test10k-labels\")\n",
    "# for the labels\n",
    "with open(path, \"rb\") as binary_file:\n",
    "    y_train = np.array(array(\"B\", binary_file.read()))"
   ]
  },
  {
   "cell_type": "code",
   "execution_count": 4,
   "metadata": {},
   "outputs": [],
   "source": [
    "X_test, y_test = loadlocal_mnist(\n",
    "    images_path='../../data/mnist8m/test10k-patterns', \n",
    "    labels_path='../../data/mnist8m/test10k-labels')\n",
    "\n",
    "X_train, y_train = loadlocal_mnist(\n",
    "    images_path='../../data/mnist8m/mnist8m-patterns-idx3-ubyte', \n",
    "    labels_path='../../data/mnist8m/mnist8m-labels-idx1-ubyte')"
   ]
  },
  {
   "cell_type": "code",
   "execution_count": 33,
   "metadata": {},
   "outputs": [
    {
     "name": "stdout",
     "output_type": "stream",
     "text": [
      "Dimensions: 10000 x 784\n",
      "(10000,)\n",
      "Dimensions: 8100000 x 784\n",
      "(8100000,)\n",
      "(784,)\n",
      "1\n",
      "uint8\n",
      "1\n"
     ]
    }
   ],
   "source": [
    "print('Dimensions: %s x %s' % (X_test.shape[0], X_test.shape[1]))\n",
    "print(y_test.shape)\n",
    "print('Dimensions: %s x %s' % (X_train.shape[0], X_train.shape[1]))\n",
    "print(y_train.shape)\n",
    "print(X_train[0].shape)\n",
    "dt = X_train.dtype\n",
    "print(np.dtype(np.uint8).itemsize)\n",
    "print(dt)\n",
    "print(dt.itemsize)"
   ]
  },
  {
   "cell_type": "code",
   "execution_count": 9,
   "metadata": {},
   "outputs": [],
   "source": [
    "datasets = {\n",
    "    \"train\": NumpyDataset(X_train, y_train),\n",
    "    \"test\" : NumpyDataset(X_test, y_test),\n",
    "}"
   ]
  },
  {
   "cell_type": "code",
   "execution_count": 34,
   "metadata": {},
   "outputs": [
    {
     "name": "stderr",
     "output_type": "stream",
     "text": [
      "100%|██████████| 8100000/8100000 [00:13<00:00, 604937.05it/s]  \n",
      "100%|██████████| 10000/10000 [00:00<00:00, 99720.97it/s]\n"
     ]
    }
   ],
   "source": [
    "for (name, ds) in datasets.items():\n",
    "    writer = DatasetWriter(\n",
    "        os.path.join(GIT_ROOT, f\"data/mnist8m/{name}.beton\"),\n",
    "        {\n",
    "            \"image\": NDArrayField(np.dtype(np.uint8), (784,)),\n",
    "            \"label\": IntField(),\n",
    "        },\n",
    "        num_workers=100,\n",
    "    )\n",
    "    writer.from_indexed_dataset(ds, chunksize=10000)"
   ]
  },
  {
   "cell_type": "code",
   "execution_count": 24,
   "metadata": {},
   "outputs": [
    {
     "name": "stdout",
     "output_type": "stream",
     "text": [
      "<attribute 'itemsize' of 'numpy.generic' objects>\n",
      "784\n"
     ]
    }
   ],
   "source": [
    "print(np.uint8.itemsize)\n",
    "print(np.prod((784,)))\n",
    "# np.uint8.itemsize * np.prod((784,))"
   ]
  },
  {
   "cell_type": "code",
   "execution_count": 17,
   "metadata": {},
   "outputs": [],
   "source": [
    "path = os.path.join(GIT_ROOT, f\"data/mnist8m/test10k-patterns\")\n",
    "# for the images\n",
    "with open(path, \"rb\") as binary_file:\n",
    "    images = []\n",
    "    emnistRotate = True\n",
    "    magic, size, rows, cols = struct.unpack(\">IIII\", binary_file.read(16))\n",
    "    if magic != 2051:\n",
    "        raise ValueError('Magic number mismatch, expected 2051,''got {}'.format(magic))\n",
    "    for i in range(size):\n",
    "        images.append([0] * rows * cols)\n",
    "    image_data = array(\"B\", binary_file.read())\n",
    "    for i in range(size):\n",
    "        images[i][:] = image_data[i * rows * cols:(i + 1) * rows * cols]\n",
    "\n",
    "        # for some reason EMNIST is mirrored and rotated\n",
    "        if emnistRotate:\n",
    "            x = image_data[i * rows * cols:(i + 1) * rows * cols]\n",
    "\n",
    "            subs = []\n",
    "            for r in range(rows):\n",
    "                subs.append(x[(rows - r) * cols - cols:(rows - r)*cols])\n",
    "\n",
    "            l = list(zip(*reversed(subs)))\n",
    "            fixed = [item for sublist in l for item in sublist]\n",
    "            images[i][:] = fixed\n",
    "x = []\n",
    "for image in images:\n",
    "    x.append(np.rot90(np.flip(np.array(image).reshape((28,28)), 1), 1))\n",
    "x_train = np.array(x)"
   ]
  },
  {
   "cell_type": "code",
   "execution_count": 18,
   "metadata": {},
   "outputs": [
    {
     "data": {
      "text/plain": [
       "(10000, 28, 28)"
      ]
     },
     "execution_count": 18,
     "metadata": {},
     "output_type": "execute_result"
    }
   ],
   "source": [
    "x_train.shape"
   ]
  }
 ],
 "metadata": {
  "kernelspec": {
   "display_name": "Python 3.9.13 ('scaling-v2-tmp')",
   "language": "python",
   "name": "python3"
  },
  "language_info": {
   "codemirror_mode": {
    "name": "ipython",
    "version": 3
   },
   "file_extension": ".py",
   "mimetype": "text/x-python",
   "name": "python",
   "nbconvert_exporter": "python",
   "pygments_lexer": "ipython3",
   "version": "3.9.13"
  },
  "orig_nbformat": 4,
  "vscode": {
   "interpreter": {
    "hash": "47ef31053d8b728266120e9d84fd013ec3b97028489e5d749b36c7d18b82d09d"
   }
  }
 },
 "nbformat": 4,
 "nbformat_minor": 2
}
