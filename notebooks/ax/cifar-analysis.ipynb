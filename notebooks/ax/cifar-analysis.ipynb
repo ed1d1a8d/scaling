{
 "cells": [
  {
   "cell_type": "markdown",
   "metadata": {},
   "source": [
    "### Load libraries"
   ]
  },
  {
   "cell_type": "code",
   "execution_count": null,
   "metadata": {},
   "outputs": [],
   "source": [
    "import sys\n",
    "\n",
    "import matplotlib.pyplot as plt\n",
    "import numpy as np\n",
    "import pandas as pd\n",
    "import wandb\n",
    "import wandb.sdk"
   ]
  },
  {
   "cell_type": "code",
   "execution_count": null,
   "metadata": {},
   "outputs": [],
   "source": [
    "sys.path.append(\"../..\")\n",
    "from src.utils import runs_to_df"
   ]
  },
  {
   "cell_type": "markdown",
   "metadata": {},
   "source": [
    "### Load data"
   ]
  },
  {
   "cell_type": "code",
   "execution_count": null,
   "metadata": {},
   "outputs": [],
   "source": [
    "api = wandb.Api()\n",
    "runs: list[wandb.sdk.wandb_run.Run] = api.runs(\n",
    "    f\"data-frugal-learning/adv-train\",\n",
    "    filters={\"tags\": {\"$in\": [\"try1.2\", \"try1.2.1\", \"try1.3\"]}},\n",
    ")\n",
    "\n",
    "df_all = runs_to_df(runs)\n",
    "df = df_all[df_all.state == \"finished\"]"
   ]
  },
  {
   "cell_type": "code",
   "execution_count": null,
   "metadata": {},
   "outputs": [],
   "source": [
    "print(sorted(df.n_train.unique()))"
   ]
  },
  {
   "cell_type": "markdown",
   "metadata": {},
   "source": [
    "### CIFAR-5m Plots"
   ]
  },
  {
   "cell_type": "code",
   "execution_count": null,
   "metadata": {},
   "outputs": [],
   "source": [
    "adv_df = df[df.do_adv_training & df.dataset.isna()]"
   ]
  },
  {
   "cell_type": "code",
   "execution_count": null,
   "metadata": {},
   "outputs": [],
   "source": [
    "plt.figure(figsize=(14, 15))\n",
    "\n",
    "plt.subplot(3, 2, 1)\n",
    "for width in adv_df.width.unique():\n",
    "    cdf = adv_df[adv_df.width == width].sort_values(\"n_train\")\n",
    "    plt.plot(cdf.n_train, 1 - cdf.test_acc_adv, label=f\"adv; {width=}\")\n",
    "    plt.plot(cdf.n_train, 1 - cdf.test_acc_nat, label=f\"nat; {width=}\")\n",
    "plt.ylim(0.08, 1)\n",
    "plt.xscale(\"log\")\n",
    "plt.yscale(\"log\")\n",
    "plt.ylabel(\"test err\")\n",
    "plt.legend()\n",
    "\n",
    "plt.subplot(3, 2, 2)\n",
    "for width in adv_df.width.unique():\n",
    "    cdf = adv_df[adv_df.width == width].sort_values(\"n_train\")\n",
    "    plt.plot(cdf.n_train, 1 - cdf.val_acc_adv_max, label=f\"adv; {width=}\")\n",
    "    plt.plot(cdf.n_train, 1 - cdf.val_acc_nat_max, label=f\"nat; {width=}\")\n",
    "plt.ylim(0.08, 1)\n",
    "plt.xscale(\"log\")\n",
    "plt.yscale(\"log\")\n",
    "plt.ylabel(\"val err\")\n",
    "plt.legend();\n",
    "\n",
    "plt.subplot(3, 2, 3)\n",
    "for width in adv_df.width.unique():\n",
    "    cdf = adv_df[adv_df.width == width].sort_values(\"n_train\")\n",
    "    plt.plot(cdf.n_train, cdf.test_acc_adv, label=f\"adv; {width=}\")\n",
    "    plt.plot(cdf.n_train, cdf.test_acc_nat, label=f\"nat; {width=}\")\n",
    "plt.ylim(0, 1)\n",
    "plt.xscale(\"log\")\n",
    "plt.ylabel(\"test acc\")\n",
    "plt.legend()\n",
    "\n",
    "plt.subplot(3, 2, 4)\n",
    "for width in adv_df.width.unique():\n",
    "    cdf = adv_df[adv_df.width == width].sort_values(\"n_train\")\n",
    "    plt.plot(cdf.n_train, cdf.val_acc_adv_max, label=f\"adv; {width=}\")\n",
    "    plt.plot(cdf.n_train, cdf.val_acc_nat_max, label=f\"nat; {width=}\")\n",
    "plt.ylim(0, 1)\n",
    "plt.xscale(\"log\")\n",
    "plt.ylabel(\"val acc\")\n",
    "plt.legend()\n",
    "\n",
    "plt.subplot(3, 2, 5)\n",
    "for width in adv_df.width.unique():\n",
    "    cdf = adv_df[adv_df.width == width].sort_values(\"n_train\")\n",
    "    plt.plot(cdf.n_train, cdf.test_acc_nat - cdf.test_acc_adv, label=f\"{width=}\")\n",
    "plt.ylim(0, 0.4)\n",
    "plt.xscale(\"log\")\n",
    "plt.xlabel(\"n_train\")\n",
    "plt.ylabel(\"test acc diff (nat - adv)\")\n",
    "plt.legend()\n",
    "\n",
    "plt.subplot(3, 2, 6)\n",
    "for width in adv_df.width.unique():\n",
    "    cdf = adv_df[adv_df.width == width].sort_values(\"n_train\")\n",
    "    plt.plot(cdf.n_train, cdf.val_acc_nat_max - cdf.val_acc_adv_max, label=f\"{width=}\")\n",
    "plt.ylim(0, 0.4)\n",
    "plt.xscale(\"log\")\n",
    "plt.xlabel(\"n_train\")\n",
    "plt.ylabel(\"val acc diff (nat - adv)\")\n",
    "plt.legend();\n"
   ]
  },
  {
   "cell_type": "code",
   "execution_count": null,
   "metadata": {},
   "outputs": [],
   "source": [
    "plt.figure(figsize=(10, 12))\n",
    "\n",
    "plt.subplot(2, 1, 1)\n",
    "for width in adv_df.width.unique():\n",
    "    cdf = adv_df[adv_df.width == width].sort_values(\"n_train\")\n",
    "\n",
    "    plt.plot(cdf.n_train, cdf.test_acc_adv, label=f\"test adv; {width=}\")\n",
    "    plt.plot(cdf.n_train, cdf.test_acc_nat, label=f\"test nat; {width=}\")\n",
    "\n",
    "    plt.plot(cdf.n_train, cdf.val_acc_adv_max, label=f\"val adv; {width=}\")\n",
    "    plt.plot(cdf.n_train, cdf.val_acc_nat_max, label=f\"val nat; {width=}\")\n",
    "plt.ylim(0, 1)\n",
    "plt.xscale(\"log\")\n",
    "plt.ylabel(\"acc\")\n",
    "plt.legend()\n",
    "\n",
    "plt.subplot(2, 1, 2)\n",
    "for width in adv_df.width.unique():\n",
    "    cdf = adv_df[adv_df.width == width].sort_values(\"n_train\")\n",
    "    plt.plot(cdf.n_train, cdf.test_acc_nat - cdf.test_acc_adv, label=f\"test {width=}\")\n",
    "    plt.plot(cdf.n_train, cdf.val_acc_nat_max - cdf.val_acc_adv_max, label=f\"val {width=}\")\n",
    "plt.ylim(0, 0.4)\n",
    "plt.xscale(\"log\")\n",
    "plt.xlabel(\"n_train\")\n",
    "plt.ylabel(\"acc diff (nat - adv)\")\n",
    "plt.legend();"
   ]
  },
  {
   "cell_type": "markdown",
   "metadata": {},
   "source": [
    "### CIFAR-10 Plots"
   ]
  },
  {
   "cell_type": "code",
   "execution_count": null,
   "metadata": {},
   "outputs": [],
   "source": [
    "adv_df = df[df.do_adv_training & (df.dataset == \"DatasetT.CIFAR10\")]"
   ]
  },
  {
   "cell_type": "code",
   "execution_count": null,
   "metadata": {},
   "outputs": [],
   "source": [
    "plt.figure(figsize=(14, 15))\n",
    "\n",
    "plt.subplot(3, 2, 1)\n",
    "for width in adv_df.width.unique():\n",
    "    cdf = adv_df[adv_df.width == width].sort_values(\"n_train\")\n",
    "    plt.plot(cdf.n_train, 1 - cdf.test_orig_acc_adv, label=f\"adv; {width=}\")\n",
    "    plt.plot(cdf.n_train, 1 - cdf.test_orig_acc_nat, label=f\"nat; {width=}\")\n",
    "plt.ylim(0.08, 1)\n",
    "plt.xscale(\"log\")\n",
    "plt.yscale(\"log\")\n",
    "plt.ylabel(\"test err\")\n",
    "plt.legend()\n",
    "\n",
    "plt.subplot(3, 2, 2)\n",
    "for width in adv_df.width.unique():\n",
    "    cdf = adv_df[adv_df.width == width].sort_values(\"n_train\")\n",
    "    plt.plot(cdf.n_train, 1 - cdf.val_acc_adv_max, label=f\"adv; {width=}\")\n",
    "    plt.plot(cdf.n_train, 1 - cdf.val_acc_nat_max, label=f\"nat; {width=}\")\n",
    "plt.ylim(0.08, 1)\n",
    "plt.xscale(\"log\")\n",
    "plt.yscale(\"log\")\n",
    "plt.ylabel(\"val err\")\n",
    "plt.legend();\n",
    "\n",
    "plt.subplot(3, 2, 3)\n",
    "for width in adv_df.width.unique():\n",
    "    cdf = adv_df[adv_df.width == width].sort_values(\"n_train\")\n",
    "    plt.plot(cdf.n_train, cdf.test_orig_acc_adv, label=f\"adv; {width=}\")\n",
    "    plt.plot(cdf.n_train, cdf.test_orig_acc_nat, label=f\"nat; {width=}\")\n",
    "plt.ylim(0, 1)\n",
    "plt.xscale(\"log\")\n",
    "plt.ylabel(\"test acc\")\n",
    "plt.legend()\n",
    "\n",
    "plt.subplot(3, 2, 4)\n",
    "for width in adv_df.width.unique():\n",
    "    cdf = adv_df[adv_df.width == width].sort_values(\"n_train\")\n",
    "    plt.plot(cdf.n_train, cdf.val_acc_adv_max, label=f\"adv; {width=}\")\n",
    "    plt.plot(cdf.n_train, cdf.val_acc_nat_max, label=f\"nat; {width=}\")\n",
    "plt.ylim(0, 1)\n",
    "plt.xscale(\"log\")\n",
    "plt.ylabel(\"val acc\")\n",
    "plt.legend()\n",
    "\n",
    "plt.subplot(3, 2, 5)\n",
    "for width in adv_df.width.unique():\n",
    "    cdf = adv_df[adv_df.width == width].sort_values(\"n_train\")\n",
    "    plt.plot(cdf.n_train, cdf.test_orig_acc_nat - cdf.test_orig_acc_adv, label=f\"{width=}\")\n",
    "plt.ylim(0, 0.4)\n",
    "plt.xscale(\"log\")\n",
    "plt.xlabel(\"n_train\")\n",
    "plt.ylabel(\"test acc diff (nat - adv)\")\n",
    "plt.legend()\n",
    "\n",
    "plt.subplot(3, 2, 6)\n",
    "for width in adv_df.width.unique():\n",
    "    cdf = adv_df[adv_df.width == width].sort_values(\"n_train\")\n",
    "    plt.plot(cdf.n_train, cdf.val_acc_nat_max - cdf.val_acc_adv_max, label=f\"{width=}\")\n",
    "plt.ylim(0, 0.4)\n",
    "plt.xscale(\"log\")\n",
    "plt.xlabel(\"n_train\")\n",
    "plt.ylabel(\"val acc diff (nat - adv)\")\n",
    "plt.legend();\n"
   ]
  },
  {
   "cell_type": "markdown",
   "metadata": {},
   "source": [
    "### CIFAR-10 and CIFAR-5m combined"
   ]
  },
  {
   "cell_type": "code",
   "execution_count": null,
   "metadata": {},
   "outputs": [],
   "source": [
    "def plot_zone(xs: pd.Series, ys1: pd.Series, ys2: pd.Series, **kwargs):\n",
    "    plt.fill_between(\n",
    "        xs.to_numpy(),\n",
    "        np.minimum(ys1.to_numpy(), ys2.to_numpy()),\n",
    "        np.maximum(ys1.to_numpy(), ys2.to_numpy()),\n",
    "        **kwargs\n",
    "    )\n",
    "\n",
    "for adv_train in [True, False]:\n",
    "    plt.figure(dpi=200, figsize=(6, 4))\n",
    "    train_type = \"adversarial\" if adv_train else \"natural\"\n",
    "    plt.title(f\"Data-scaling of {train_type} training, wrn-28-{{10,20}}\")\n",
    "\n",
    "    df_c5m = df[(df.do_adv_training == adv_train) & df.dataset.isna()]\n",
    "    df_c10 = df[(df.do_adv_training == adv_train) & (df.dataset == \"DatasetT.CIFAR10\")]\n",
    "\n",
    "    cdf10 = df_c5m[df_c5m.width == 10].sort_values(\"n_train\")\n",
    "    cdf20 = df_c5m[df_c5m.width == 20].sort_values(\"n_train\")\n",
    "    plot_zone(cdf10.n_train, 1 - cdf10.test_acc_adv, 1 - cdf20.test_acc_adv, label=f\"adv-err (cifar5m)\", alpha=0.5)\n",
    "    plot_zone(cdf10.n_train, 1 - cdf10.test_acc_nat, 1 - cdf20.test_acc_nat, label=f\"nat-err (cifar5m)\", alpha=0.5)\n",
    "\n",
    "    cdf10 = df_c10[df_c10.width == 10].sort_values(\"n_train\")\n",
    "    cdf20 = df_c10[df_c10.width == 20].sort_values(\"n_train\")\n",
    "    plot_zone(cdf10.n_train, 1 - cdf10.test_orig_acc_adv, 1 - cdf20.test_orig_acc_adv, label=f\"adv-err (cifar10)\", alpha=0.5)\n",
    "    plot_zone(cdf10.n_train, 1 - cdf10.test_orig_acc_nat, 1 - cdf20.test_orig_acc_nat, label=f\"nat-err (cifar10)\", alpha=0.5)\n",
    "\n",
    "    plt.xscale(\"log\")\n",
    "    plt.yscale(\"log\")\n",
    "\n",
    "    plt.xlabel(\"# of train datapoints\")\n",
    "    plt.ylabel(\"Test error\")\n",
    "    plt.legend(loc=\"upper left\", bbox_to_anchor=(1, 1));\n"
   ]
  },
  {
   "cell_type": "code",
   "execution_count": null,
   "metadata": {},
   "outputs": [],
   "source": [
    "for adv_train in [True, False]:\n",
    "    plt.figure(dpi=200, figsize=(6, 4))\n",
    "    train_type = \"adversarial\" if adv_train else \"natural\"\n",
    "    plt.title(f\"Data-scaling of {train_type} training, wrn-28-{{10,20}}\")\n",
    "\n",
    "    df_c5m = df[(df.do_adv_training == adv_train) & df.dataset.isna()]\n",
    "    df_c10 = df[(df.do_adv_training == adv_train) & (df.dataset == \"DatasetT.CIFAR10\")]\n",
    "\n",
    "    cdf10 = df_c5m[df_c5m.width == 10].sort_values(\"n_train\")\n",
    "    cdf20 = df_c5m[df_c5m.width == 20].sort_values(\"n_train\")\n",
    "    plot_zone(cdf10.n_train, cdf10.test_loss_adv, cdf20.test_loss_adv, label=f\"adv-loss (cifar5m)\", alpha=0.5)\n",
    "    plot_zone(cdf10.n_train, cdf10.test_loss_nat, cdf20.test_loss_nat, label=f\"nat-loss (cifar5m)\", alpha=0.5)\n",
    "\n",
    "    cdf10 = df_c10[df_c10.width == 10].sort_values(\"n_train\")\n",
    "    cdf20 = df_c10[df_c10.width == 20].sort_values(\"n_train\")\n",
    "    plot_zone(cdf10.n_train, cdf10.test_orig_loss_adv, cdf20.test_orig_loss_adv, label=f\"adv-loss (cifar10)\", alpha=0.5)\n",
    "    plot_zone(cdf10.n_train, cdf10.test_orig_loss_nat, cdf20.test_orig_loss_nat, label=f\"nat-loss (cifar10)\", alpha=0.5)\n",
    "\n",
    "    plt.xscale(\"log\")\n",
    "    plt.yscale(\"log\")\n",
    "\n",
    "    plt.xlabel(\"# of train datapoints\")\n",
    "    plt.ylabel(\"Test loss\")\n",
    "    plt.legend(loc=\"upper left\", bbox_to_anchor=(1, 1));\n"
   ]
  },
  {
   "cell_type": "markdown",
   "metadata": {},
   "source": [
    "### Training stats"
   ]
  },
  {
   "cell_type": "code",
   "execution_count": null,
   "metadata": {},
   "outputs": [],
   "source": [
    "ALPHA = 1\n",
    "\n",
    "for adv_train in [True, False]:\n",
    "    plt.figure(dpi=200, figsize=(6, 4))\n",
    "    train_type = \"adversarial\" if adv_train else \"natural\"\n",
    "    plt.title(f\"Data-scaling of {train_type} training, wrn-28-{{20}}\")\n",
    "\n",
    "    df_c5m = df[(df.do_adv_training == adv_train) & df.dataset.isna()]\n",
    "    df_c10 = df[(df.do_adv_training == adv_train) & (df.dataset == \"DatasetT.CIFAR10\")]\n",
    "\n",
    "    cdf20 = df_c5m[df_c5m.width == 20].sort_values(\"n_train\")\n",
    "    plt.plot(cdf20.n_train, 1 - cdf20.test_acc_adv, label=f\"test adv-err (cifar5m)\", alpha=ALPHA)\n",
    "    plt.plot(cdf20.n_train, 1 - cdf20.test_acc_nat, label=f\"test nat-err (cifar5m)\", alpha=ALPHA)\n",
    "\n",
    "    cdf20 = df_c10[df_c10.width == 20].sort_values(\"n_train\")\n",
    "    plt.plot(cdf20.n_train, 1 - cdf20.test_orig_acc_adv, label=f\"test adv-err (cifar10)\", alpha=ALPHA)\n",
    "    plt.plot(cdf20.n_train, 1 - cdf20.test_orig_acc_nat, label=f\"test nat-err (cifar10)\", alpha=ALPHA)\n",
    "\n",
    "    cdf20 = df_c5m[df_c5m.width == 20].sort_values(\"n_train\")\n",
    "    plt.plot(cdf20.n_train, 1 - cdf20.train_acc_adv_max, label=f\"train adv-err (cifar5m)\", alpha=ALPHA, linestyle=\"--\")\n",
    "    plt.plot(cdf20.n_train, 1 - cdf20.train_acc_nat_max, label=f\"train nat-err (cifar5m)\", alpha=ALPHA, linestyle=\"--\")\n",
    "\n",
    "    cdf20 = df_c10[df_c10.width == 20].sort_values(\"n_train\")\n",
    "    plt.plot(cdf20.n_train, 1 - cdf20.train_acc_adv_max, label=f\"train adv-err (cifar10)\", alpha=ALPHA, linestyle=\"--\")\n",
    "    plt.plot(cdf20.n_train, 1 - cdf20.train_acc_nat_max, label=f\"train nat-err (cifar10)\", alpha=ALPHA, linestyle=\"--\")\n",
    "\n",
    "    plt.xscale(\"log\")\n",
    "    plt.yscale(\"symlog\", linthresh=1e-1)\n",
    "\n",
    "    plt.xlabel(\"# of train datapoints\")\n",
    "    plt.ylabel(\"Error\")\n",
    "    plt.legend(loc=\"upper left\", bbox_to_anchor=(1, 1));"
   ]
  },
  {
   "cell_type": "code",
   "execution_count": null,
   "metadata": {},
   "outputs": [],
   "source": [
    "for adv_train in [True, False]:\n",
    "    plt.figure(dpi=200, figsize=(6, 4))\n",
    "    train_type = \"adversarial\" if adv_train else \"natural\"\n",
    "    plt.title(f\"Data-scaling of {train_type} training, wrn-28-{{20}}\")\n",
    "\n",
    "    df_c5m = df[(df.do_adv_training == adv_train) & df.dataset.isna()]\n",
    "    df_c10 = df[(df.do_adv_training == adv_train) & (df.dataset == \"DatasetT.CIFAR10\")]\n",
    "\n",
    "    cdf20 = df_c5m[df_c5m.width == 20].sort_values(\"n_train\")\n",
    "    plt.plot(cdf20.n_train, cdf20.test_loss_adv, label=f\"test adv-loss (cifar5m)\", alpha=ALPHA)\n",
    "    plt.plot(cdf20.n_train, cdf20.test_loss_nat, label=f\"test nat-loss (cifar5m)\", alpha=ALPHA)\n",
    "\n",
    "    cdf20 = df_c10[df_c10.width == 20].sort_values(\"n_train\")\n",
    "    plt.plot(cdf20.n_train, cdf20.test_orig_loss_adv, label=f\"test adv-loss (cifar10)\", alpha=ALPHA)\n",
    "    plt.plot(cdf20.n_train, cdf20.test_orig_loss_nat, label=f\"test nat-loss (cifar10)\", alpha=ALPHA)\n",
    "\n",
    "    cdf20 = df_c5m[df_c5m.width == 20].sort_values(\"n_train\")\n",
    "    plt.plot(cdf20.n_train, cdf20.train_loss_adv_min, label=f\"train adv-loss (cifar5m)\", alpha=ALPHA, linestyle=\"--\")\n",
    "    plt.plot(cdf20.n_train, cdf20.train_loss_nat_min, label=f\"train nat-loss (cifar5m)\", alpha=ALPHA, linestyle=\"--\")\n",
    "\n",
    "    cdf20 = df_c10[df_c10.width == 20].sort_values(\"n_train\")\n",
    "    plt.plot(cdf20.n_train, cdf20.train_loss_adv_min, label=f\"train adv-loss (cifar10)\", alpha=ALPHA, linestyle=\"--\")\n",
    "    plt.plot(cdf20.n_train, cdf20.train_loss_nat_min, label=f\"train nat-loss (cifar10)\", alpha=ALPHA, linestyle=\"--\")\n",
    "\n",
    "    plt.xscale(\"log\")\n",
    "    plt.yscale(\"log\")\n",
    "\n",
    "    plt.xlabel(\"# of train datapoints\")\n",
    "    plt.ylabel(\"Loss\")\n",
    "    plt.legend(loc=\"upper left\", bbox_to_anchor=(1, 1));"
   ]
  }
 ],
 "metadata": {
  "kernelspec": {
   "display_name": "Python 3.9.13 ('scaling-v2')",
   "language": "python",
   "name": "python3"
  },
  "language_info": {
   "codemirror_mode": {
    "name": "ipython",
    "version": 3
   },
   "file_extension": ".py",
   "mimetype": "text/x-python",
   "name": "python",
   "nbconvert_exporter": "python",
   "pygments_lexer": "ipython3",
   "version": "3.9.13"
  },
  "orig_nbformat": 4,
  "vscode": {
   "interpreter": {
    "hash": "c4d11743395684b28769a98b4ddabeeff0307a7a759e49eaefc6ee1943ee50fa"
   }
  }
 },
 "nbformat": 4,
 "nbformat_minor": 2
}
