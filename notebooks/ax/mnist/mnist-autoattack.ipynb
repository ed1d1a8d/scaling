{
 "cells": [
  {
   "cell_type": "markdown",
   "metadata": {},
   "source": [
    "### Load libraries"
   ]
  },
  {
   "cell_type": "code",
   "execution_count": 1,
   "metadata": {},
   "outputs": [],
   "source": [
    "import pathlib\n",
    "import sys\n",
    "\n",
    "import git.repo\n",
    "import numpy as np\n",
    "import torch\n",
    "import torchvision.datasets\n",
    "import wandb\n",
    "import wandb.sdk\n",
    "from torch.utils.data import DataLoader, TensorDataset\n",
    "from tqdm.auto import tqdm\n",
    "\n",
    "GIT_ROOT = pathlib.Path(\n",
    "    str(git.repo.Repo(\".\", search_parent_directories=True).working_tree_dir)\n",
    ")"
   ]
  },
  {
   "cell_type": "code",
   "execution_count": 2,
   "metadata": {},
   "outputs": [],
   "source": [
    "sys.path.append(str(GIT_ROOT))\n",
    "from src.ax.attack.FastAutoAttack import FastAutoAttack\n",
    "from src.ax.attack.FastPGD import FastPGD\n",
    "from src.ax.models import wrn"
   ]
  },
  {
   "cell_type": "markdown",
   "metadata": {},
   "source": [
    "### Load data"
   ]
  },
  {
   "cell_type": "code",
   "execution_count": 3,
   "metadata": {},
   "outputs": [
    {
     "name": "stdout",
     "output_type": "stream",
     "text": [
      "Downloading http://yann.lecun.com/exdb/mnist/train-images-idx3-ubyte.gz\n",
      "Downloading http://yann.lecun.com/exdb/mnist/train-images-idx3-ubyte.gz to /var/tmp/scratch/MNIST/raw/train-images-idx3-ubyte.gz\n"
     ]
    },
    {
     "data": {
      "application/vnd.jupyter.widget-view+json": {
       "model_id": "131de05f46484f56944e4e4319e2948b",
       "version_major": 2,
       "version_minor": 0
      },
      "text/plain": [
       "  0%|          | 0/9912422 [00:00<?, ?it/s]"
      ]
     },
     "metadata": {},
     "output_type": "display_data"
    },
    {
     "name": "stdout",
     "output_type": "stream",
     "text": [
      "Extracting /var/tmp/scratch/MNIST/raw/train-images-idx3-ubyte.gz to /var/tmp/scratch/MNIST/raw\n",
      "\n",
      "Downloading http://yann.lecun.com/exdb/mnist/train-labels-idx1-ubyte.gz\n",
      "Downloading http://yann.lecun.com/exdb/mnist/train-labels-idx1-ubyte.gz to /var/tmp/scratch/MNIST/raw/train-labels-idx1-ubyte.gz\n"
     ]
    },
    {
     "data": {
      "application/vnd.jupyter.widget-view+json": {
       "model_id": "6c869cc0421d4017a51547d8484740cd",
       "version_major": 2,
       "version_minor": 0
      },
      "text/plain": [
       "  0%|          | 0/28881 [00:00<?, ?it/s]"
      ]
     },
     "metadata": {},
     "output_type": "display_data"
    },
    {
     "name": "stdout",
     "output_type": "stream",
     "text": [
      "Extracting /var/tmp/scratch/MNIST/raw/train-labels-idx1-ubyte.gz to /var/tmp/scratch/MNIST/raw\n",
      "\n",
      "Downloading http://yann.lecun.com/exdb/mnist/t10k-images-idx3-ubyte.gz\n",
      "Downloading http://yann.lecun.com/exdb/mnist/t10k-images-idx3-ubyte.gz to /var/tmp/scratch/MNIST/raw/t10k-images-idx3-ubyte.gz\n"
     ]
    },
    {
     "data": {
      "application/vnd.jupyter.widget-view+json": {
       "model_id": "cebbd074756b429bb26a76d60639c643",
       "version_major": 2,
       "version_minor": 0
      },
      "text/plain": [
       "  0%|          | 0/1648877 [00:00<?, ?it/s]"
      ]
     },
     "metadata": {},
     "output_type": "display_data"
    },
    {
     "name": "stdout",
     "output_type": "stream",
     "text": [
      "Extracting /var/tmp/scratch/MNIST/raw/t10k-images-idx3-ubyte.gz to /var/tmp/scratch/MNIST/raw\n",
      "\n",
      "Downloading http://yann.lecun.com/exdb/mnist/t10k-labels-idx1-ubyte.gz\n",
      "Downloading http://yann.lecun.com/exdb/mnist/t10k-labels-idx1-ubyte.gz to /var/tmp/scratch/MNIST/raw/t10k-labels-idx1-ubyte.gz\n"
     ]
    },
    {
     "data": {
      "application/vnd.jupyter.widget-view+json": {
       "model_id": "8b03861ee1d844cb8bdcac6bd840a00b",
       "version_major": 2,
       "version_minor": 0
      },
      "text/plain": [
       "  0%|          | 0/4542 [00:00<?, ?it/s]"
      ]
     },
     "metadata": {},
     "output_type": "display_data"
    },
    {
     "name": "stdout",
     "output_type": "stream",
     "text": [
      "Extracting /var/tmp/scratch/MNIST/raw/t10k-labels-idx1-ubyte.gz to /var/tmp/scratch/MNIST/raw\n",
      "\n"
     ]
    }
   ],
   "source": [
    "mnist_test = torchvision.datasets.MNIST(\n",
    "    root=\"/var/tmp/scratch\",\n",
    "    train=False,\n",
    "    download=True,\n",
    ")"
   ]
  },
  {
   "cell_type": "code",
   "execution_count": 4,
   "metadata": {},
   "outputs": [
    {
     "name": "stdout",
     "output_type": "stream",
     "text": [
      "torch.Size([10000, 1, 28, 28]) torch.Size([10000])\n",
      "torch.float32 torch.int64\n",
      "tensor(0.) tensor(1.)\n",
      "tensor(0) tensor(9)\n"
     ]
    }
   ],
   "source": [
    "xs_test = (mnist_test.data / 255.0).reshape(-1, 1, 28, 28)\n",
    "ys_test  = mnist_test.targets\n",
    "print(xs_test.shape, ys_test.shape)\n",
    "print(xs_test.dtype, ys_test.dtype)\n",
    "print(xs_test.min(), xs_test.max())\n",
    "print(ys_test.min(), ys_test.max())"
   ]
  },
  {
   "cell_type": "markdown",
   "metadata": {},
   "source": [
    "### Load neural net"
   ]
  },
  {
   "cell_type": "code",
   "execution_count": 5,
   "metadata": {},
   "outputs": [
    {
     "name": "stdout",
     "output_type": "stream",
     "text": [
      "Nat (orig) acc: 0.9950999997138976\n",
      "Adv (orig) acc: 0.9739000008583067\n"
     ]
    }
   ],
   "source": [
    "# Run https://wandb.ai/data-frugal-learning/adv-train/runs/134moxtz\n",
    "api = wandb.Api()\n",
    "run: wandb.sdk.wandb_run.Run = api.run(\n",
    "    \"data-frugal-learning/adv-train/134moxtz\"\n",
    ")\n",
    "\n",
    "print(\"Nat (orig) acc:\", run.summary[\"test_orig_acc_nat\"])\n",
    "print(\"Adv (orig) acc:\", run.summary[\"test_orig_acc_adv\"])"
   ]
  },
  {
   "cell_type": "code",
   "execution_count": 6,
   "metadata": {},
   "outputs": [],
   "source": [
    "ckpt_path = (\n",
    "    pathlib.Path(run.config[\"wandb_dir\"])\n",
    "    / \"wandb\"\n",
    "    / \"run-20221006_050356-134moxtz\"\n",
    "    / \"files\"\n",
    "    / \"model.ckpt\"\n",
    ")\n",
    "\n",
    "model = wrn.get_mup_wrn(\n",
    "    depth=run.config[\"depth\"],\n",
    "    width=run.config[\"width\"],\n",
    "    num_classes=10,\n",
    "    mean=(0.5,),\n",
    "    std=(1.0,),\n",
    "    num_input_channels=1,\n",
    ")\n",
    "model = model.to(memory_format=torch.channels_last)  # type: ignore\n",
    "\n",
    "# Load checkpoint\n",
    "model.load_state_dict(torch.load(ckpt_path))\n",
    "model.eval().cuda();"
   ]
  },
  {
   "cell_type": "markdown",
   "metadata": {},
   "source": [
    "### Evaluate natural accuracy (sanity check)"
   ]
  },
  {
   "cell_type": "code",
   "execution_count": 7,
   "metadata": {},
   "outputs": [
    {
     "data": {
      "application/vnd.jupyter.widget-view+json": {
       "model_id": "ecc7963b8f4542958b547acaa18764b2",
       "version_major": 2,
       "version_minor": 0
      },
      "text/plain": [
       "  0%|          | 0/40 [00:00<?, ?it/s]"
      ]
     },
     "metadata": {},
     "output_type": "display_data"
    },
    {
     "name": "stdout",
     "output_type": "stream",
     "text": [
      "Nat (orig) acc: 0.9951\n"
     ]
    }
   ],
   "source": [
    "n_correct = 0\n",
    "with torch.no_grad():\n",
    "    for images, labels in tqdm(\n",
    "        DataLoader(TensorDataset(xs_test, ys_test), batch_size=256)\n",
    "    ):\n",
    "        logits = model(images.cuda())\n",
    "        preds = logits.argmax(dim=-1)\n",
    "        n_correct += (preds == labels.cuda()).sum().item()\n",
    "\n",
    "print(f\"Nat (orig) acc: {n_correct / len(xs_test):.4f}\")"
   ]
  },
  {
   "cell_type": "markdown",
   "metadata": {},
   "source": [
    "### Evaluate autoattack accuracy"
   ]
  },
  {
   "cell_type": "code",
   "execution_count": 8,
   "metadata": {},
   "outputs": [
    {
     "data": {
      "application/vnd.jupyter.widget-view+json": {
       "model_id": "050abb586029498a92427e6faf07514a",
       "version_major": 2,
       "version_minor": 0
      },
      "text/plain": [
       "  0%|          | 0/20 [00:00<?, ?it/s]"
      ]
     },
     "metadata": {},
     "output_type": "display_data"
    },
    {
     "name": "stdout",
     "output_type": "stream",
     "text": [
      "Adv (orig) acc: 0.9576\n"
     ]
    }
   ],
   "source": [
    "attack = FastAutoAttack(model, eps=0.3)\n",
    "n = len(xs_test)\n",
    "\n",
    "n_correct = 0\n",
    "for xs, ys in tqdm(\n",
    "    DataLoader(TensorDataset(xs_test[:n], ys_test[:n]), batch_size=512)\n",
    "):\n",
    "    xs_adv = attack(xs.half().cuda(), ys.cuda())\n",
    "\n",
    "    logits = model(xs_adv)\n",
    "    preds = logits.argmax(dim=-1)\n",
    "    n_correct += (preds == ys.cuda()).sum().item()\n",
    "\n",
    "print(f\"Adv (orig) acc: {n_correct / n:.4f}\")"
   ]
  },
  {
   "cell_type": "markdown",
   "metadata": {},
   "source": [
    "### Evaluate 40 step pgd"
   ]
  },
  {
   "cell_type": "code",
   "execution_count": 12,
   "metadata": {},
   "outputs": [
    {
     "data": {
      "application/vnd.jupyter.widget-view+json": {
       "model_id": "29576756d09f45b089ee79566cec6698",
       "version_major": 2,
       "version_minor": 0
      },
      "text/plain": [
       "  0%|          | 0/20 [00:00<?, ?it/s]"
      ]
     },
     "metadata": {},
     "output_type": "display_data"
    },
    {
     "name": "stdout",
     "output_type": "stream",
     "text": [
      "[0.9726 0.9694 0.9687 0.9677 0.9667 0.966  0.9655 0.9653 0.9653 0.9651]\n"
     ]
    }
   ],
   "source": [
    "attack = FastPGD(\n",
    "    model,\n",
    "    eps=0.3,\n",
    "    alpha=0.3 / 40 * 2.3,\n",
    "    steps=40,\n",
    "    random_start=True,\n",
    ")\n",
    "n_reps = 10\n",
    "\n",
    "n = len(xs_test)\n",
    "\n",
    "n_corrects = np.array([0 for _ in range(n_reps)])\n",
    "for xs, ys in tqdm(\n",
    "    DataLoader(TensorDataset(xs_test[:n], ys_test[:n]), batch_size=512)\n",
    "):\n",
    "    failures = torch.zeros_like(ys, dtype=torch.bool, device=\"cuda\")\n",
    "    for i in range(n_reps):\n",
    "        xs_adv = attack(xs.half().cuda(), ys.cuda())\n",
    "\n",
    "        logits = model(xs_adv)\n",
    "        preds = logits.argmax(dim=-1)\n",
    "        failures = failures | (preds != ys.cuda())\n",
    "\n",
    "        n_corrects[i] += (~failures).sum().item()\n",
    "\n",
    "print(n_corrects / n)\n"
   ]
  }
 ],
 "metadata": {
  "kernelspec": {
   "display_name": "Python 3.9.13 ('scaling-v2-tmp')",
   "language": "python",
   "name": "python3"
  },
  "language_info": {
   "codemirror_mode": {
    "name": "ipython",
    "version": 3
   },
   "file_extension": ".py",
   "mimetype": "text/x-python",
   "name": "python",
   "nbconvert_exporter": "python",
   "pygments_lexer": "ipython3",
   "version": "3.9.13"
  },
  "orig_nbformat": 4,
  "vscode": {
   "interpreter": {
    "hash": "47ef31053d8b728266120e9d84fd013ec3b97028489e5d749b36c7d18b82d09d"
   }
  }
 },
 "nbformat": 4,
 "nbformat_minor": 2
}
