{
 "cells": [
  {
   "cell_type": "markdown",
   "metadata": {},
   "source": [
    "### Load libraries"
   ]
  },
  {
   "cell_type": "code",
   "execution_count": null,
   "metadata": {},
   "outputs": [],
   "source": [
    "import sys\n",
    "\n",
    "import matplotlib.pyplot as plt\n",
    "import numpy as np\n",
    "import pandas as pd\n",
    "import wandb\n",
    "import wandb.sdk"
   ]
  },
  {
   "cell_type": "code",
   "execution_count": null,
   "metadata": {},
   "outputs": [],
   "source": [
    "sys.path.append(\"../..\")\n",
    "from src.utils import runs_to_df"
   ]
  },
  {
   "cell_type": "markdown",
   "metadata": {},
   "source": [
    "### Load data"
   ]
  },
  {
   "cell_type": "code",
   "execution_count": null,
   "metadata": {},
   "outputs": [],
   "source": [
    "api = wandb.Api()\n",
    "runs: list[wandb.sdk.wandb_run.Run] = api.runs(\n",
    "    f\"data-frugal-learning/adv-train\",\n",
    "    filters={\"tags\": {\"$in\": [\"eps-ablation-v1\", \"try1.2\", \"try1.2.1\", \"try1.3\", \"try1.3.3\"]}},\n",
    ")\n",
    "\n",
    "df = runs_to_df(runs)\n",
    "df.loc[df.dataset.isna(), \"dataset\"] = \"DatasetT.CIFAR5m\"\n",
    "df.loc[df.adv_eps_train.isna(), \"adv_eps_train\"] = 8/255"
   ]
  },
  {
   "cell_type": "code",
   "execution_count": null,
   "metadata": {},
   "outputs": [],
   "source": [
    "df.adv_eps_train.unique() * 255"
   ]
  },
  {
   "cell_type": "code",
   "execution_count": null,
   "metadata": {},
   "outputs": [],
   "source": [
    "print(sorted(df.n_train.unique()))"
   ]
  },
  {
   "cell_type": "markdown",
   "metadata": {},
   "source": [
    "### Plots"
   ]
  },
  {
   "cell_type": "code",
   "execution_count": null,
   "metadata": {},
   "outputs": [],
   "source": [
    "COLORS = (\n",
    "    \"black\",\n",
    "    \"tab:blue\",\n",
    "    \"tab:orange\",\n",
    "    \"tab:green\",\n",
    "    \"tab:red\",\n",
    "    \"tab:purple\",\n",
    "    \"tab:brown\",\n",
    "    \"tab:pink\",\n",
    "    \"tab:gray\",\n",
    "    \"tab:olive\",\n",
    "    \"tab:cyan\",\n",
    ")"
   ]
  },
  {
   "cell_type": "markdown",
   "metadata": {},
   "source": [
    "### Test error scaling"
   ]
  },
  {
   "cell_type": "code",
   "execution_count": null,
   "metadata": {},
   "outputs": [],
   "source": [
    "plt.figure(figsize=(8, 8), dpi=200)\n",
    "\n",
    "for eps, color in zip([0] + list(sorted(df.adv_eps_train.unique())), COLORS):\n",
    "    eps255 = round(eps * 255)\n",
    "\n",
    "    if eps == 0:\n",
    "        cdf = df[\n",
    "            (df.width == 10) & (df.dataset == \"DatasetT.CIFAR5m\") & ~df.do_adv_training\n",
    "        ].sort_values(\"n_train\")\n",
    "    else:\n",
    "        cdf = df[\n",
    "            (df.adv_eps_train == eps)\n",
    "            & (df.width == 10)\n",
    "            & (df.dataset == \"DatasetT.CIFAR5m\")\n",
    "            & df.do_adv_training\n",
    "        ].sort_values(\"n_train\")\n",
    "\n",
    "    plt.plot(\n",
    "        cdf.n_train,\n",
    "        1 - cdf.test_acc_adv,\n",
    "        label=f\"$\\\\mathrm{{\\\\epsilon}}_\\\\mathrm{{train}}$ = {eps255} / 255 (adv-err)\",\n",
    "        color=color,\n",
    "    )\n",
    "\n",
    "    plt.plot(\n",
    "        cdf.n_train,\n",
    "        1 - cdf.test_acc_nat,\n",
    "        label=f\"$\\\\mathrm{{\\\\epsilon}}_\\\\mathrm{{train}}$ = {eps255} / 255 (nat-err)\",\n",
    "        color=color,\n",
    "        linestyle=\"--\",\n",
    "    )\n",
    "\n",
    "plt.xscale(\"log\")\n",
    "plt.yscale(\"log\")\n",
    "plt.legend(loc=\"upper left\", bbox_to_anchor=(1, 1));\n",
    "plt.xlabel(\"# of train datapoints\")\n",
    "plt.ylabel(\"Test error\")\n",
    "plt.title(\"Data-scaling of adversarial training (wrn-28-10) ($\\\\mathrm{{\\\\epsilon}}_\\\\mathrm{{test}} = 8 / 255$)\");"
   ]
  },
  {
   "cell_type": "code",
   "execution_count": null,
   "metadata": {},
   "outputs": [],
   "source": [
    "plt.figure(figsize=(6, 4), dpi=200)\n",
    "\n",
    "base_df = df[\n",
    "    (df.adv_eps_train == 8/255)\n",
    "    & (df.width == 10)\n",
    "    & (df.dataset == \"DatasetT.CIFAR5m\")\n",
    "    & df.do_adv_training\n",
    "].sort_values(\"n_train\").reset_index().iloc[7:13].reset_index(drop=True)\n",
    "\n",
    "for eps, color in zip(sorted(df.adv_eps_train.unique()), COLORS[1:]):\n",
    "    eps255 = round(eps * 255)\n",
    "\n",
    "    cdf = df[\n",
    "        (df.adv_eps_train == eps)\n",
    "        & (df.width == 10)\n",
    "        & (df.dataset == \"DatasetT.CIFAR5m\")\n",
    "        & df.do_adv_training\n",
    "    ].sort_values(\"n_train\").reset_index(drop=True)\n",
    "\n",
    "    if eps255 == 8:\n",
    "        cdf = cdf.iloc[7:13].reset_index(drop=True)\n",
    "\n",
    "    assert(all(cdf.n_train == base_df.n_train))\n",
    "\n",
    "    plt.plot(\n",
    "        cdf.n_train,\n",
    "        (1 - cdf.test_acc_adv) / (1 - base_df.test_acc_adv),\n",
    "        label=f\"$\\\\mathrm{{\\\\epsilon}}_\\\\mathrm{{train}}$ = {eps255} / 255 (adv-err)\",\n",
    "        color=color,\n",
    "    )\n",
    "\n",
    "plt.xscale(\"log\")\n",
    "plt.yscale(\"log\")\n",
    "plt.legend(loc=\"upper left\", bbox_to_anchor=(1, 1));\n",
    "plt.xlabel(\"# of train datapoints\")\n",
    "plt.ylabel(\"$\\\\mathrm{err}_\\\\mathrm{test}(\\\\epsilon) \\\\; / \\\\; \\\\mathrm{err}_\\\\mathrm{test}(8 / 255)$\")\n",
    "plt.title(\"Data-scaling of adversarial training (wrn-28-10) ($\\\\mathrm{{\\\\epsilon}}_\\\\mathrm{{test}} = 8 / 255$)\");"
   ]
  },
  {
   "cell_type": "code",
   "execution_count": null,
   "metadata": {},
   "outputs": [],
   "source": [
    "plt.figure(figsize=(4, 4), dpi=200)\n",
    "\n",
    "\n",
    "def get_df(eps):\n",
    "    return df[\n",
    "        (\n",
    "            (~df.do_adv_training)\n",
    "            if eps == 0\n",
    "            else ((df.adv_eps_train == eps) & df.do_adv_training)\n",
    "        )\n",
    "        & (df.width == 10)\n",
    "        & (df.dataset == \"DatasetT.CIFAR5m\")\n",
    "        & (df.n_train == 200_000)\n",
    "    ]\n",
    "\n",
    "\n",
    "eps_trains = np.array([0] + list(sorted(df.adv_eps_train.unique())))\n",
    "\n",
    "plt.plot(\n",
    "    255 * eps_trains, 1 - np.array([get_df(eps).test_acc_nat for eps in eps_trains]),\n",
    "    label=\"adv-err\"\n",
    ")\n",
    "plt.plot(\n",
    "    255 * eps_trains, 1 - np.array([get_df(eps).test_acc_adv for eps in eps_trains]),\n",
    "    label=\"nat-err\"\n",
    ")\n",
    "\n",
    "plt.legend(loc=\"upper left\", bbox_to_anchor=(1, 1))\n",
    "plt.xlabel(\"$255 \\\\times \\\\epsilon_\\\\mathrm{train}$\")\n",
    "plt.ylabel(\"Test error\")\n",
    "plt.title(\"$\\\\epsilon$-scaling of adversarial training (wrn-28-10) ($\\\\mathrm{{\\\\epsilon}}_\\\\mathrm{{test}} = 8 / 255$)\")"
   ]
  },
  {
   "cell_type": "markdown",
   "metadata": {},
   "source": [
    "### Test loss"
   ]
  },
  {
   "cell_type": "code",
   "execution_count": null,
   "metadata": {},
   "outputs": [],
   "source": [
    "plt.figure(figsize=(8, 8), dpi=200)\n",
    "\n",
    "for eps, color in zip([0] + list(sorted(df.adv_eps_train.unique())), COLORS):\n",
    "    eps255 = round(eps * 255)\n",
    "\n",
    "    if eps == 0:\n",
    "        cdf = df[\n",
    "            (df.width == 10) & (df.dataset == \"DatasetT.CIFAR5m\") & ~df.do_adv_training\n",
    "        ].sort_values(\"n_train\")\n",
    "    else:\n",
    "        cdf = df[\n",
    "            (df.adv_eps_train == eps)\n",
    "            & (df.width == 10)\n",
    "            & (df.dataset == \"DatasetT.CIFAR5m\")\n",
    "            & df.do_adv_training\n",
    "        ].sort_values(\"n_train\")\n",
    "\n",
    "    plt.plot(\n",
    "        cdf.n_train,\n",
    "        cdf.test_loss_adv,\n",
    "        label=f\"$\\\\mathrm{{\\\\epsilon}}_\\\\mathrm{{train}}$ = {eps255} / 255 (adv-loss)\",\n",
    "        color=color,\n",
    "    )\n",
    "\n",
    "    plt.plot(\n",
    "        cdf.n_train,\n",
    "        cdf.test_loss_nat,\n",
    "        label=f\"$\\\\mathrm{{\\\\epsilon}}_\\\\mathrm{{train}}$ = {eps255} / 255 (nat-loss)\",\n",
    "        color=color,\n",
    "        linestyle=\"--\",\n",
    "    )\n",
    "\n",
    "plt.xscale(\"log\")\n",
    "plt.yscale(\"log\")\n",
    "plt.legend(loc=\"upper left\", bbox_to_anchor=(1, 1));\n",
    "plt.xlabel(\"# of train datapoints\")\n",
    "plt.ylabel(\"Test loss\")\n",
    "plt.title(\"Data-scaling of adversarial training (wrn-28-10) ($\\\\mathrm{{\\\\epsilon}}_\\\\mathrm{{test}} = 8 / 255$)\");"
   ]
  },
  {
   "cell_type": "code",
   "execution_count": null,
   "metadata": {},
   "outputs": [],
   "source": [
    "plt.figure(figsize=(6, 4), dpi=200)\n",
    "\n",
    "base_df = df[\n",
    "    (df.adv_eps_train == 8/255)\n",
    "    & (df.width == 10)\n",
    "    & (df.dataset == \"DatasetT.CIFAR5m\")\n",
    "    & df.do_adv_training\n",
    "].sort_values(\"n_train\").reset_index().iloc[7:13].reset_index(drop=True)\n",
    "\n",
    "for eps, color in zip(sorted(df.adv_eps_train.unique()), COLORS[1:]):\n",
    "    eps255 = round(eps * 255)\n",
    "\n",
    "    cdf = df[\n",
    "        (df.adv_eps_train == eps)\n",
    "        & (df.width == 10)\n",
    "        & (df.dataset == \"DatasetT.CIFAR5m\")\n",
    "        & df.do_adv_training\n",
    "    ].sort_values(\"n_train\").reset_index(drop=True)\n",
    "\n",
    "    if eps255 == 8:\n",
    "        cdf = cdf.iloc[7:13].reset_index(drop=True)\n",
    "\n",
    "    assert(all(cdf.n_train == base_df.n_train))\n",
    "\n",
    "    plt.plot(\n",
    "        cdf.n_train,\n",
    "        (cdf.test_loss_adv) / (base_df.test_loss_adv),\n",
    "        label=f\"$\\\\mathrm{{\\\\epsilon}}_\\\\mathrm{{train}}$ = {eps255} / 255 (adv-loss)\",\n",
    "        color=color,\n",
    "    )\n",
    "\n",
    "plt.xscale(\"log\")\n",
    "plt.yscale(\"log\")\n",
    "plt.legend(loc=\"upper left\", bbox_to_anchor=(1, 1));\n",
    "plt.xlabel(\"# of train datapoints\")\n",
    "plt.ylabel(\"$\\\\mathrm{\\\\ell}_\\\\mathrm{test}(\\\\epsilon) \\\\; / \\\\; \\\\mathrm{\\\\ell}_\\\\mathrm{test}(8 / 255)$\")\n",
    "plt.title(\"Data-scaling of adversarial training (wrn-28-10) ($\\\\mathrm{{\\\\epsilon}}_\\\\mathrm{{test}} = 8 / 255$)\");"
   ]
  },
  {
   "cell_type": "code",
   "execution_count": null,
   "metadata": {},
   "outputs": [],
   "source": [
    "plt.figure(figsize=(4, 4), dpi=200)\n",
    "\n",
    "\n",
    "def get_df(eps):\n",
    "    return df[\n",
    "        (\n",
    "            (~df.do_adv_training)\n",
    "            if eps == 0\n",
    "            else ((df.adv_eps_train == eps) & df.do_adv_training)\n",
    "        )\n",
    "        & (df.width == 10)\n",
    "        & (df.dataset == \"DatasetT.CIFAR5m\")\n",
    "        & (df.n_train == 200_000)\n",
    "    ]\n",
    "\n",
    "\n",
    "eps_trains = np.array([0] + list(sorted(df.adv_eps_train.unique())))\n",
    "\n",
    "plt.plot(\n",
    "    255 * eps_trains, np.array([get_df(eps).test_loss_adv for eps in eps_trains]),\n",
    "    label=\"adv-loss\"\n",
    ")\n",
    "plt.plot(\n",
    "    255 * eps_trains, np.array([get_df(eps).test_loss_nat for eps in eps_trains]),\n",
    "    label=\"nat-loss\"\n",
    ")\n",
    "\n",
    "plt.yscale(\"log\")\n",
    "plt.legend(loc=\"upper left\", bbox_to_anchor=(1, 1))\n",
    "plt.xlabel(\"$255 \\\\times \\\\epsilon_\\\\mathrm{train}$\")\n",
    "plt.ylabel(\"Test loss\")\n",
    "plt.title(\"$\\\\epsilon$-scaling of adversarial training (wrn-28-10) ($\\\\mathrm{{\\\\epsilon}}_\\\\mathrm{{test}} = 8 / 255$)\")"
   ]
  }
 ],
 "metadata": {
  "kernelspec": {
   "display_name": "Python 3.9.13 ('scaling-v2')",
   "language": "python",
   "name": "python3"
  },
  "language_info": {
   "codemirror_mode": {
    "name": "ipython",
    "version": 3
   },
   "file_extension": ".py",
   "mimetype": "text/x-python",
   "name": "python",
   "nbconvert_exporter": "python",
   "pygments_lexer": "ipython3",
   "version": "3.9.13"
  },
  "orig_nbformat": 4,
  "vscode": {
   "interpreter": {
    "hash": "c4d11743395684b28769a98b4ddabeeff0307a7a759e49eaefc6ee1943ee50fa"
   }
  }
 },
 "nbformat": 4,
 "nbformat_minor": 2
}
