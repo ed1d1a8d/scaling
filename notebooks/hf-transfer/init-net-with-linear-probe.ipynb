{
 "cells": [
  {
   "attachments": {},
   "cell_type": "markdown",
   "metadata": {},
   "source": [
    "This notebook demonstrates how to initialize an embedding network with a trained linear probe."
   ]
  },
  {
   "attachments": {},
   "cell_type": "markdown",
   "metadata": {},
   "source": [
    "### Load libraries"
   ]
  },
  {
   "cell_type": "code",
   "execution_count": 1,
   "metadata": {},
   "outputs": [],
   "source": [
    "%load_ext autoreload\n",
    "%autoreload 2"
   ]
  },
  {
   "cell_type": "code",
   "execution_count": 2,
   "metadata": {},
   "outputs": [],
   "source": [
    "import pathlib\n",
    "import sys\n",
    "\n",
    "import git.repo\n",
    "import matplotlib.pyplot as plt\n",
    "import numpy as np\n",
    "import pandas as pd\n",
    "import torch.utils.data\n",
    "\n",
    "GIT_ROOT = pathlib.Path(\n",
    "    str(git.repo.Repo(\".\", search_parent_directories=True).working_tree_dir)\n",
    ")\n",
    "sys.path.append(str(GIT_ROOT))\n",
    "\n",
    "from src.pretrain import finetune\n",
    "from src.pretrain.datasets.vision import cifar10, imagenette, svhn\n",
    "from src.pretrain.models.vision import laion_clip, msft_beit, openai_clip\n",
    "from src.pretrain.probes import fc_probe"
   ]
  },
  {
   "attachments": {},
   "cell_type": "markdown",
   "metadata": {},
   "source": [
    "### Load network and train dataset"
   ]
  },
  {
   "cell_type": "code",
   "execution_count": 3,
   "metadata": {},
   "outputs": [
    {
     "name": "stdout",
     "output_type": "stream",
     "text": [
      "Files already downloaded and verified\n"
     ]
    }
   ],
   "source": [
    "dataset_cfg = cifar10.CIFAR10()\n",
    "embedder_cfg = openai_clip.OpenaiClipConfig(id=\"openai/ViT-B/16\")\n",
    "finetune_cfg = finetune.Config(\n",
    "    embedder_cfg=embedder_cfg, dataset_cfg=dataset_cfg\n",
    ")\n",
    "\n",
    "embedder = embedder_cfg.get_model().float()\n",
    "ds_train = torch.utils.data.Subset( # type: ignore\n",
    "    dataset_cfg.get_train_ds(embedder.preprocess),\n",
    "    indices=range(5000),  # to make testing faster\n",
    ")\n",
    "model = (\n",
    "    fc_probe.FCProbeConfig(n_layers=1, n_classes=10)\n",
    "    .get_fc_probe(embedder)\n",
    "    .cuda()\n",
    ")"
   ]
  },
  {
   "attachments": {},
   "cell_type": "markdown",
   "metadata": {},
   "source": [
    "### Compute baseline accuracy of model"
   ]
  },
  {
   "cell_type": "code",
   "execution_count": 4,
   "metadata": {},
   "outputs": [
    {
     "data": {
      "application/vnd.jupyter.widget-view+json": {
       "model_id": "753cadcccea348ef80e80aee184b603b",
       "version_major": 2,
       "version_minor": 0
      },
      "text/plain": [
       "  0%|          | 0/10 [00:00<?, ?it/s]"
      ]
     },
     "metadata": {},
     "output_type": "display_data"
    },
    {
     "data": {
      "text/plain": [
       "{'acc': WBMetric(data=0.07639999985098839, summary='max'),\n",
       " 'loss': WBMetric(data=2.3347501899719236, summary='min')}"
      ]
     },
     "execution_count": 4,
     "metadata": {},
     "output_type": "execute_result"
    }
   ],
   "source": [
    "model.eval()\n",
    "test_dict, _ = finetune.evaluate(\n",
    "    model=model,\n",
    "    loader=finetune_cfg.get_loader(ds_train, eval_mode=True),\n",
    "    cfg=finetune_cfg,\n",
    ")\n",
    "test_dict"
   ]
  },
  {
   "attachments": {},
   "cell_type": "markdown",
   "metadata": {},
   "source": [
    "### Modify model to have optimal probe"
   ]
  },
  {
   "cell_type": "code",
   "execution_count": 5,
   "metadata": {},
   "outputs": [
    {
     "data": {
      "application/vnd.jupyter.widget-view+json": {
       "model_id": "5eed2bfac262447dbb36a4c6c75a3529",
       "version_major": 2,
       "version_minor": 0
      },
      "text/plain": [
       "  0%|          | 0/10 [00:00<?, ?it/s]"
      ]
     },
     "metadata": {},
     "output_type": "display_data"
    },
    {
     "name": "stdout",
     "output_type": "stream",
     "text": [
      "Linear probe results:\n",
      "acc: 1.0\n",
      "xent_orig: 0.0011216763\n",
      "xent: -0.0\n"
     ]
    }
   ],
   "source": [
    "finetune.init_model_with_trained_linear_probe(\n",
    "    model=model,\n",
    "    ds=ds_train,\n",
    "    cfg=finetune_cfg,\n",
    "    verbose=True,\n",
    ")"
   ]
  },
  {
   "cell_type": "code",
   "execution_count": 6,
   "metadata": {},
   "outputs": [
    {
     "data": {
      "application/vnd.jupyter.widget-view+json": {
       "model_id": "c54439dbefe64067aaacc1bb4056bbee",
       "version_major": 2,
       "version_minor": 0
      },
      "text/plain": [
       "  0%|          | 0/10 [00:00<?, ?it/s]"
      ]
     },
     "metadata": {},
     "output_type": "display_data"
    },
    {
     "data": {
      "text/plain": [
       "{'acc': WBMetric(data=1.0, summary='max'),\n",
       " 'loss': WBMetric(data=0.0011196479812264442, summary='min')}"
      ]
     },
     "execution_count": 6,
     "metadata": {},
     "output_type": "execute_result"
    }
   ],
   "source": [
    "# Now compute resulting accuracy\n",
    "model.eval()\n",
    "test_dict, _ = finetune.evaluate(\n",
    "    model=model,\n",
    "    loader=finetune_cfg.get_loader(ds_train, eval_mode=True),\n",
    "    cfg=finetune_cfg,\n",
    ")\n",
    "test_dict"
   ]
  }
 ],
 "metadata": {
  "kernelspec": {
   "display_name": "scaling-v2.1",
   "language": "python",
   "name": "python3"
  },
  "language_info": {
   "codemirror_mode": {
    "name": "ipython",
    "version": 3
   },
   "file_extension": ".py",
   "mimetype": "text/x-python",
   "name": "python",
   "nbconvert_exporter": "python",
   "pygments_lexer": "ipython3",
   "version": "3.9.15"
  },
  "orig_nbformat": 4,
  "vscode": {
   "interpreter": {
    "hash": "61177a12be6aa617a44aeed8ca637cdccfad9c0d3627f460074e17b4bc46c625"
   }
  }
 },
 "nbformat": 4,
 "nbformat_minor": 2
}
