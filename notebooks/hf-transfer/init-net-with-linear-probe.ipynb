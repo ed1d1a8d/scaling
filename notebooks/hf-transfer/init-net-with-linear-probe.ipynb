{
 "cells": [
  {
   "attachments": {},
   "cell_type": "markdown",
   "metadata": {},
   "source": [
    "This notebook prototypes the abilitity to initialize an embedding network with a trained linear probe."
   ]
  },
  {
   "attachments": {},
   "cell_type": "markdown",
   "metadata": {},
   "source": [
    "### Load libraries"
   ]
  },
  {
   "cell_type": "code",
   "execution_count": 1,
   "metadata": {},
   "outputs": [],
   "source": [
    "%load_ext autoreload\n",
    "%autoreload 2"
   ]
  },
  {
   "cell_type": "code",
   "execution_count": 2,
   "metadata": {},
   "outputs": [],
   "source": [
    "import pathlib\n",
    "import sys\n",
    "\n",
    "import git.repo\n",
    "import matplotlib.pyplot as plt\n",
    "import numpy as np\n",
    "import pandas as pd\n",
    "import torch\n",
    "from torch import nn\n",
    "\n",
    "GIT_ROOT = pathlib.Path(\n",
    "    str(git.repo.Repo(\".\", search_parent_directories=True).working_tree_dir)\n",
    ")\n",
    "sys.path.append(str(GIT_ROOT))\n",
    "\n",
    "from src.pretrain import finetune, gen_embeddings, probe_embeddings\n",
    "from src.pretrain.datasets.embedding import EmbeddingDataset\n",
    "from src.pretrain.datasets.vision import cifar10, imagenette, svhn\n",
    "from src.pretrain.models.vision import laion_clip, msft_beit, openai_clip\n",
    "from src.pretrain.probes import fc_probe, linear_probe"
   ]
  },
  {
   "attachments": {},
   "cell_type": "markdown",
   "metadata": {},
   "source": [
    "### Construct configs"
   ]
  },
  {
   "cell_type": "code",
   "execution_count": 3,
   "metadata": {},
   "outputs": [],
   "source": [
    "dataset_cfg = cifar10.CIFAR10()\n",
    "embedder_cfg = openai_clip.OpenaiClipConfig(id=\"openai/ViT-B/16\")\n",
    "\n",
    "embedding_cfg = gen_embeddings.Config(\n",
    "    dataset_cfg=dataset_cfg, embedder_cfg=embedder_cfg\n",
    ")\n",
    "probe_cfg = probe_embeddings.Config(\n",
    "    embedder_cfg=embedder_cfg, dataset_cfg=dataset_cfg\n",
    ")\n",
    "finetune_cfg = finetune.Config(\n",
    "    embedder_cfg=embedder_cfg, dataset_cfg=dataset_cfg\n",
    ")"
   ]
  },
  {
   "attachments": {},
   "cell_type": "markdown",
   "metadata": {},
   "source": [
    "### Load network"
   ]
  },
  {
   "cell_type": "code",
   "execution_count": 4,
   "metadata": {},
   "outputs": [],
   "source": [
    "embedder = embedder_cfg.get_model().float()\n",
    "model = fc_probe.FCProbeConfig(n_layers=1, n_classes=10).get_fc_probe(embedder)\n",
    "model.cuda();"
   ]
  },
  {
   "attachments": {},
   "cell_type": "markdown",
   "metadata": {},
   "source": [
    "### Load dataset (raw and embeddings)"
   ]
  },
  {
   "cell_type": "code",
   "execution_count": 5,
   "metadata": {},
   "outputs": [
    {
     "name": "stdout",
     "output_type": "stream",
     "text": [
      "Files already downloaded and verified\n",
      "(50000, 512) (10000, 512) float32\n"
     ]
    }
   ],
   "source": [
    "ds_test = dataset_cfg.get_test_ds(embedder.preprocess)\n",
    "loader_test = finetune_cfg.get_loader(ds_test, eval_mode=True)\n",
    "\n",
    "# Embeddings\n",
    "eds = EmbeddingDataset.load_from_file(embedding_cfg.full_save_path).astype(\n",
    "    np.float32\n",
    ")\n",
    "print(eds.xs_train.shape, eds.xs_test.shape, eds.xs_test.dtype)"
   ]
  },
  {
   "attachments": {},
   "cell_type": "markdown",
   "metadata": {},
   "source": [
    "### Compute baseline accuracy of model"
   ]
  },
  {
   "cell_type": "code",
   "execution_count": 6,
   "metadata": {},
   "outputs": [
    {
     "data": {
      "application/vnd.jupyter.widget-view+json": {
       "model_id": "8c36ad4d19e2403abf163c67800c3b6d",
       "version_major": 2,
       "version_minor": 0
      },
      "text/plain": [
       "  0%|          | 0/20 [00:00<?, ?it/s]"
      ]
     },
     "metadata": {},
     "output_type": "display_data"
    },
    {
     "data": {
      "text/plain": [
       "{'acc': WBMetric(data=0.06460000001192093, summary='max'),\n",
       " 'loss': WBMetric(data=2.3414895526885986, summary='min')}"
      ]
     },
     "execution_count": 6,
     "metadata": {},
     "output_type": "execute_result"
    }
   ],
   "source": [
    "model.eval()\n",
    "test_dict, _ = finetune.evaluate(\n",
    "    model=model,\n",
    "    loader=loader_test,\n",
    "    cfg=finetune_cfg,\n",
    ")\n",
    "test_dict"
   ]
  },
  {
   "attachments": {},
   "cell_type": "markdown",
   "metadata": {},
   "source": [
    "### Compute optimal probe"
   ]
  },
  {
   "cell_type": "code",
   "execution_count": 7,
   "metadata": {},
   "outputs": [],
   "source": [
    "res_dict: dict"
   ]
  },
  {
   "cell_type": "code",
   "execution_count": 8,
   "metadata": {},
   "outputs": [],
   "source": [
    "%%capture\n",
    "# We capture output to hide some annoying warnings\n",
    "res_dict = linear_probe.run_experiment(\n",
    "    ds=eds,\n",
    "    c=100,\n",
    "    use_gpu=True,\n",
    "    return_clf_params=True,\n",
    ")"
   ]
  },
  {
   "cell_type": "code",
   "execution_count": 9,
   "metadata": {},
   "outputs": [
    {
     "data": {
      "text/plain": [
       "(0.945, 0.3735188, 0.31929624)"
      ]
     },
     "execution_count": 9,
     "metadata": {},
     "output_type": "execute_result"
    }
   ],
   "source": [
    "res_dict[\"acc\"], res_dict[\"xent\"], res_dict[\"xent_orig\"]"
   ]
  },
  {
   "attachments": {},
   "cell_type": "markdown",
   "metadata": {},
   "source": [
    "### Modify model to have optimal probe"
   ]
  },
  {
   "cell_type": "code",
   "execution_count": 10,
   "metadata": {},
   "outputs": [],
   "source": [
    "# https://discuss.pytorch.org/t/how-do-i-pass-numpy-array-to-conv2d-weight-for-initialization/56595/3\n",
    "\n",
    "assert np.all(res_dict[\"classes\"] == np.arange(len(res_dict[\"classes\"])))\n",
    "\n",
    "readout_lyr: nn.Linear\n",
    "readout_lyr, = model.probe # type: ignore\n",
    "with torch.no_grad():    \n",
    "    readout_lyr.weight.copy_(torch.from_numpy(res_dict[\"clf_coef\"]).T)\n",
    "    readout_lyr.bias.copy_(torch.from_numpy(res_dict[\"clf_intercept\"]))"
   ]
  },
  {
   "cell_type": "code",
   "execution_count": 11,
   "metadata": {},
   "outputs": [
    {
     "data": {
      "application/vnd.jupyter.widget-view+json": {
       "model_id": "07187d92e3b9409aa7d7273b75fc7991",
       "version_major": 2,
       "version_minor": 0
      },
      "text/plain": [
       "  0%|          | 0/20 [00:00<?, ?it/s]"
      ]
     },
     "metadata": {},
     "output_type": "display_data"
    },
    {
     "data": {
      "text/plain": [
       "{'acc': WBMetric(data=0.9452000002861023, summary='max'),\n",
       " 'loss': WBMetric(data=0.31933134059906004, summary='min')}"
      ]
     },
     "execution_count": 11,
     "metadata": {},
     "output_type": "execute_result"
    }
   ],
   "source": [
    "# Now compute resulting accuracy\n",
    "model.eval()\n",
    "test_dict, _ = finetune.evaluate(\n",
    "    model=model,\n",
    "    loader=loader_test,\n",
    "    cfg=finetune_cfg,\n",
    ")\n",
    "test_dict"
   ]
  }
 ],
 "metadata": {
  "kernelspec": {
   "display_name": "scaling-v2.1",
   "language": "python",
   "name": "python3"
  },
  "language_info": {
   "codemirror_mode": {
    "name": "ipython",
    "version": 3
   },
   "file_extension": ".py",
   "mimetype": "text/x-python",
   "name": "python",
   "nbconvert_exporter": "python",
   "pygments_lexer": "ipython3",
   "version": "3.9.15 | packaged by conda-forge | (main, Nov 22 2022, 15:55:03) \n[GCC 10.4.0]"
  },
  "orig_nbformat": 4,
  "vscode": {
   "interpreter": {
    "hash": "61177a12be6aa617a44aeed8ca637cdccfad9c0d3627f460074e17b4bc46c625"
   }
  }
 },
 "nbformat": 4,
 "nbformat_minor": 2
}
