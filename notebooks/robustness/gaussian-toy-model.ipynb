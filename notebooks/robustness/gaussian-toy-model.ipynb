{
 "cells": [
  {
   "cell_type": "markdown",
   "metadata": {},
   "source": [
    "This notebook checks if the Gaussian toy model in\n",
    "[Adversarially Robust Generalization Requires More Data](https://arxiv.org/abs/1804.11285)\n",
    "exhibits any cliffs."
   ]
  },
  {
   "cell_type": "markdown",
   "metadata": {},
   "source": [
    "### Load libraries "
   ]
  },
  {
   "cell_type": "code",
   "execution_count": 1,
   "metadata": {},
   "outputs": [],
   "source": [
    "import dataclasses\n",
    "import itertools\n",
    "\n",
    "import matplotlib.pyplot as plt\n",
    "import numpy as np\n",
    "import pandas as pd\n",
    "import scipy.stats\n",
    "from tqdm.auto import tqdm\n"
   ]
  },
  {
   "cell_type": "markdown",
   "metadata": {},
   "source": [
    "### Error functions"
   ]
  },
  {
   "cell_type": "code",
   "execution_count": 2,
   "metadata": {},
   "outputs": [
    {
     "data": {
      "text/plain": [
       "array([0.06109101, 0.06132205, 0.06084781, 0.061141  , 0.06114581,\n",
       "       0.06072337, 0.06147022, 0.0606968 , 0.06114161, 0.06139216])"
      ]
     },
     "execution_count": 2,
     "metadata": {},
     "output_type": "execute_result"
    }
   ],
   "source": [
    "def normalized(x: np.ndarray):\n",
    "    return x / np.linalg.norm(x)\n",
    "\n",
    "\n",
    "@dataclasses.dataclass\n",
    "class GaussianConfig:\n",
    "    theta: np.ndarray\n",
    "    sigma: float\n",
    "    eps: float\n",
    "\n",
    "    def __post_init__(self):\n",
    "        assert np.isclose(np.linalg.norm(self.theta), 1)\n",
    "\n",
    "\n",
    "def get_robust_errors(\n",
    "    cfg: GaussianConfig,\n",
    "    n_train: int,\n",
    "    n_trials: int,\n",
    ") -> np.ndarray:\n",
    "    \"\"\"Runs n_trial virtual experiments. Returns robust error for each one.\"\"\"\n",
    "    (d,) = cfg.theta.shape\n",
    "\n",
    "    theta_hats = cfg.theta.reshape(1, d) + np.random.normal(\n",
    "        scale=cfg.sigma / n_train,\n",
    "        size=(n_trials, d),\n",
    "    )\n",
    "\n",
    "    inner_prods = theta_hats @ cfg.theta\n",
    "    l1_norms = np.linalg.norm(theta_hats, ord=1, axis=-1)\n",
    "    l2_norms = np.linalg.norm(theta_hats, ord=2, axis=-1)\n",
    "\n",
    "    zs = (inner_prods - cfg.eps * l1_norms) / (cfg.sigma * l2_norms)\n",
    "    return scipy.stats.norm.cdf(-zs)\n",
    "\n",
    "\n",
    "get_robust_errors(\n",
    "    cfg=GaussianConfig(\n",
    "        theta=normalized(np.random.normal(size=10)),\n",
    "        sigma=0.5,\n",
    "        eps=0.1,\n",
    "    ),\n",
    "    n_train=100,\n",
    "    n_trials=10,\n",
    ")\n"
   ]
  },
  {
   "cell_type": "markdown",
   "metadata": {},
   "source": [
    "### Scaling laws"
   ]
  },
  {
   "cell_type": "code",
   "execution_count": 3,
   "metadata": {},
   "outputs": [],
   "source": [
    "def run_scaling_experiment(\n",
    "    cfg: GaussianConfig,\n",
    "    n_trains: list[int],\n",
    "    n_trials: int = 1,\n",
    ") -> pd.DataFrame:\n",
    "    err_mins = []\n",
    "    err_mids = []\n",
    "    err_maxs = []\n",
    "    for n in tqdm(n_trains):\n",
    "        errs = get_robust_errors(cfg=cfg, n_train=n, n_trials=n_trials)\n",
    "\n",
    "        err_mins.append(np.min(errs))\n",
    "        err_mids.append(np.median(errs))\n",
    "        err_maxs.append(np.max(errs))\n",
    "\n",
    "    return pd.DataFrame(\n",
    "        {\n",
    "            \"n_train\": n_trains,\n",
    "            \"err_min\": err_mins,\n",
    "            \"err_mid\": err_mids,\n",
    "            \"err_max\": err_maxs,\n",
    "        }\n",
    "    )\n"
   ]
  },
  {
   "cell_type": "code",
   "execution_count": 4,
   "metadata": {},
   "outputs": [
    {
     "data": {
      "application/vnd.jupyter.widget-view+json": {
       "model_id": "bb52a114519d4904bba1d7a9da6034eb",
       "version_major": 2,
       "version_minor": 0
      },
      "text/plain": [
       "  0%|          | 0/134 [00:00<?, ?it/s]"
      ]
     },
     "metadata": {},
     "output_type": "display_data"
    },
    {
     "data": {
      "application/vnd.jupyter.widget-view+json": {
       "model_id": "d6705efb535241b59a7c3d50063fe8e8",
       "version_major": 2,
       "version_minor": 0
      },
      "text/plain": [
       "  0%|          | 0/134 [00:00<?, ?it/s]"
      ]
     },
     "metadata": {},
     "output_type": "display_data"
    },
    {
     "data": {
      "application/vnd.jupyter.widget-view+json": {
       "model_id": "e3aecf7c8af940be990ad723516790c2",
       "version_major": 2,
       "version_minor": 0
      },
      "text/plain": [
       "  0%|          | 0/134 [00:00<?, ?it/s]"
      ]
     },
     "metadata": {},
     "output_type": "display_data"
    },
    {
     "data": {
      "application/vnd.jupyter.widget-view+json": {
       "model_id": "b6510e9d10294670b5927167e04a8e96",
       "version_major": 2,
       "version_minor": 0
      },
      "text/plain": [
       "  0%|          | 0/134 [00:00<?, ?it/s]"
      ]
     },
     "metadata": {},
     "output_type": "display_data"
    },
    {
     "data": {
      "application/vnd.jupyter.widget-view+json": {
       "model_id": "73032d76904246e1b01310c10b588ec9",
       "version_major": 2,
       "version_minor": 0
      },
      "text/plain": [
       "  0%|          | 0/134 [00:00<?, ?it/s]"
      ]
     },
     "metadata": {},
     "output_type": "display_data"
    },
    {
     "data": {
      "application/vnd.jupyter.widget-view+json": {
       "model_id": "cef9ab10e3984f499f96e83b8f56e1c2",
       "version_major": 2,
       "version_minor": 0
      },
      "text/plain": [
       "  0%|          | 0/134 [00:00<?, ?it/s]"
      ]
     },
     "metadata": {},
     "output_type": "display_data"
    }
   ],
   "source": [
    "np.random.seed(42)\n",
    "cfg_iso = GaussianConfig(\n",
    "    theta=normalized(np.random.normal(size=1000000)),\n",
    "    sigma=0.1,\n",
    "    eps=0,\n",
    ")\n",
    "\n",
    "DATA = {}\n",
    "for eps in [0, 1e-4, 2e-4, 4e-4, 6e-4, 8e-4]:\n",
    "    DATA[eps] = run_scaling_experiment(\n",
    "        cfg=dataclasses.replace(cfg_iso, eps=eps),\n",
    "        n_trains=list(itertools.chain(\n",
    "            range(1, 50),\n",
    "            range(50, 100, 2),\n",
    "            range(100, 200, 4),\n",
    "            range(200, 400, 10),\n",
    "            range(400, 1000, 100),\n",
    "            range(1000, 10000, 1000),\n",
    "        )),\n",
    "        n_trials=1,\n",
    "    )"
   ]
  },
  {
   "cell_type": "code",
   "execution_count": 6,
   "metadata": {},
   "outputs": [
    {
     "data": {
      "image/png": "[encoded data removed]",
      "text/plain": [
       "<Figure size 432x288 with 1 Axes>"
      ]
     },
     "metadata": {
      "needs_background": "light"
     },
     "output_type": "display_data"
    }
   ],
   "source": [
    "for eps in sorted(DATA.keys()):\n",
    "    df = DATA[eps]\n",
    "    plt.plot(df.n_train, df.err_mid)\n",
    "    plt.fill_between(\n",
    "        df.n_train,\n",
    "        df.err_min,\n",
    "        df.err_max,\n",
    "        alpha=0.5,\n",
    "        label=f\"{eps=}\",\n",
    "    )\n",
    "    \n",
    "plt.axvline(\n",
    "    np.sqrt(cfg_iso.theta.size),\n",
    "    color=\"black\",\n",
    "    linestyle=\"--\",\n",
    "    label=f\"sqrt(d) (d={cfg_iso.theta.size})\"\n",
    ")\n",
    "\n",
    "plt.xscale(\"log\")\n",
    "plt.yscale(\"log\")\n",
    "plt.xlabel(\"# of training samples\")\n",
    "plt.ylabel(\"classification error\")\n",
    "plt.legend();\n"
   ]
  },
  {
   "cell_type": "markdown",
   "metadata": {},
   "source": [
    "### Conclusions\n",
    "\n",
    "The toy model does exhibit a soft \"cliff\",\n",
    "but not as a result of the adversary.\n",
    "In fact, adding an adversary only decreases the slope of the cliff."
   ]
  }
 ],
 "metadata": {
  "interpreter": {
   "hash": "59d9b11f51e4ad7f907419413d7e2a84f4497b879f0d35a54c1f58fc836239d6"
  },
  "kernelspec": {
   "display_name": "Python 3.9.7 ('scaling-tmp')",
   "language": "python",
   "name": "python3"
  },
  "language_info": {
   "codemirror_mode": {
    "name": "ipython",
    "version": 3
   },
   "file_extension": ".py",
   "mimetype": "text/x-python",
   "name": "python",
   "nbconvert_exporter": "python",
   "pygments_lexer": "ipython3",
   "version": "3.9.7"
  },
  "orig_nbformat": 4
 },
 "nbformat": 4,
 "nbformat_minor": 2
}
