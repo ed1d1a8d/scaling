{
 "cells": [
  {
   "cell_type": "markdown",
   "metadata": {},
   "source": [
    "### Load libraries"
   ]
  },
  {
   "cell_type": "code",
   "execution_count": 1,
   "metadata": {},
   "outputs": [],
   "source": [
    "import matplotlib.pyplot as plt\n",
    "import numpy as np\n",
    "import scipy.stats\n",
    "import sklearn.linear_model\n",
    "from tqdm.auto import tqdm"
   ]
  },
  {
   "cell_type": "markdown",
   "metadata": {},
   "source": [
    "### Theoretical setup\n",
    "We assume that we have a ground truth classification function\n",
    "$f^\\star(x) = \\text{sign}(v^\\top x)$.\n",
    "\n",
    "We have upstream training data\n",
    "$(x_1^\\text{up}, y_1^\\text{up}), \\ldots, (x_m^\\text{up}, y_m^\\text{up})$\n",
    "where $y_i^\\text{up} = f^\\star(x_i^\\text{up})$.\n",
    "\n",
    "This upstream data is drawn from some distribution\n",
    "$p_\\mathsf{x}^\\text{up}$.\n",
    "\n",
    "We also have downstream training data\n",
    "$(x_1^\\text{down}, y_1^\\text{down}), \\ldots, (x_n^\\text{down}, y_n^\\text{down})$\n",
    "with again $y_i^\\text{down} = f^\\star(x_i^\\text{down})$.\n",
    "\n",
    "The downstream data is drawn from a potentially different distribution\n",
    "$p_\\mathsf{x}^\\text{down}$.\n",
    "\n",
    "We will learn using the sklearn logistic regression algorithm."
   ]
  },
  {
   "cell_type": "markdown",
   "metadata": {},
   "source": [
    "### Experiment definition"
   ]
  },
  {
   "cell_type": "code",
   "execution_count": 14,
   "metadata": {},
   "outputs": [
    {
     "data": {
      "text/plain": [
       "0.05699922797518223"
      ]
     },
     "execution_count": 14,
     "metadata": {},
     "output_type": "execute_result"
    }
   ],
   "source": [
    "def get_err(\n",
    "    w: np.ndarray,\n",
    "    w_hat: np.ndarray,\n",
    "    mu: np.ndarray,\n",
    "    sigma: np.ndarray,\n",
    ") -> float:\n",
    "    def get_prob(\n",
    "        m1: float,\n",
    "        m2: float,\n",
    "        s11: float,\n",
    "        s12: float,\n",
    "        s22: float,\n",
    "    ) -> float:\n",
    "        \"\"\"\n",
    "        Returns P(A > 0 and B < 0) + P(A < 0 and B > 0)\n",
    "        assuming [A, B] ~ N([m1, m2], [[s11, s12], [s12, s22]])\n",
    "        \"\"\"\n",
    "        # P(A > 0 and B < 0) = P(-A < 0 and B < 0)\n",
    "        prob0: float = scipy.stats.multivariate_normal(\n",
    "            mean=(-m1, m2),\n",
    "            cov=((s11, -s12), (-s12, s22)),  # type: ignore\n",
    "        ).cdf(np.zeros(2))\n",
    "\n",
    "        # P(A < 0 and B > 0) = P(A < 0 and -B < 0)\n",
    "        prob1: float = scipy.stats.multivariate_normal(\n",
    "            mean=(m1, -m2),\n",
    "            cov=((s11, -s12), (-s12, s22)),  # type: ignore\n",
    "        ).cdf(np.zeros(2))\n",
    "\n",
    "        return prob0 + prob1\n",
    "\n",
    "    assert w.shape == w_hat.shape == mu.shape\n",
    "    (d,) = w.shape\n",
    "    assert sigma.shape == (d, d)\n",
    "\n",
    "    m1 = mu @ w\n",
    "    m2 = mu @ w_hat\n",
    "    s11 = w @ (sigma @ w)\n",
    "    s12 = w @ (sigma @ w_hat)\n",
    "    s22 = w_hat @ (sigma @ w_hat)\n",
    "\n",
    "    return get_prob(m1, m2, s11, s12, s22) # type: ignore\n",
    "\n",
    "\n",
    "def run_experiment(\n",
    "    w: np.ndarray,\n",
    "    n_up: int,\n",
    "    n_down: int,\n",
    "    std_up: np.ndarray,\n",
    "    std_down: np.ndarray,\n",
    "    C: float\n",
    ") -> float:\n",
    "    \"\"\"Returns downstream test error.\"\"\"\n",
    "    assert w.shape == std_up.shape == std_down.shape\n",
    "    (d,) = w.shape\n",
    "\n",
    "    xs_train_up = np.random.normal(loc=0, scale=std_up, size=(n_up, d))\n",
    "    xs_train_down = np.random.normal(loc=0, scale=std_down, size=(n_down, d))\n",
    "\n",
    "    xs_train = np.concatenate([xs_train_up, xs_train_down])\n",
    "    ys_train = (xs_train @ w) >= 0\n",
    "\n",
    "    # If ys_train only has one class return error 50%\n",
    "    if np.all(ys_train) or np.all(~ys_train):\n",
    "        return 0.5\n",
    "\n",
    "    clf = sklearn.linear_model.LogisticRegression(\n",
    "        C=C,\n",
    "        fit_intercept=False\n",
    "    )\n",
    "    clf.fit(xs_train, ys_train)    \n",
    "\n",
    "    w_hat: np.ndarray\n",
    "    w_hat, = clf.coef_\n",
    "\n",
    "    test_err_down = get_err(\n",
    "        w=w,\n",
    "        w_hat=w_hat,\n",
    "        mu=np.zeros(d),\n",
    "        sigma=np.diag(std_down ** 2)\n",
    "    )\n",
    "\n",
    "    return test_err_down\n",
    "\n",
    "run_experiment(\n",
    "    w=np.arange(5),\n",
    "    n_up=200,\n",
    "    n_down=0,\n",
    "    std_up = np.ones(5),\n",
    "    std_down = np.ones(5),\n",
    "    C=0.01\n",
    ")"
   ]
  },
  {
   "cell_type": "markdown",
   "metadata": {},
   "source": [
    "### Experiments commence!"
   ]
  },
  {
   "cell_type": "code",
   "execution_count": 75,
   "metadata": {},
   "outputs": [],
   "source": [
    "RESULTS = {}"
   ]
  },
  {
   "cell_type": "code",
   "execution_count": 77,
   "metadata": {},
   "outputs": [
    {
     "data": {
      "text/plain": [
       "0.347510733337007"
      ]
     },
     "execution_count": 77,
     "metadata": {},
     "output_type": "execute_result"
    }
   ],
   "source": [
    "SEED = 41\n",
    "np.random.seed(SEED)\n",
    "\n",
    "C = 0.01\n",
    "D = 100\n",
    "W_OPT = np.random.uniform(size=D)\n",
    "STD_UP = np.random.uniform(size=D) / np.sqrt(D)\n",
    "STD_DOWN = np.random.uniform(size=D) / np.sqrt(D)\n",
    "STD_UP[:5] = 0\n",
    "STD_DOWN[50:] = 0\n",
    "W_OPT[:15] *= 10\n",
    "W_OPT[:5] *= 10\n",
    "\n",
    "N_UP = 10000\n",
    "\n",
    "run_experiment(\n",
    "    w=W_OPT,\n",
    "    n_up=N_UP,\n",
    "    n_down=0,\n",
    "    std_up=STD_UP,\n",
    "    std_down=STD_DOWN,\n",
    "    C=C,\n",
    ")\n"
   ]
  },
  {
   "cell_type": "code",
   "execution_count": 78,
   "metadata": {},
   "outputs": [
    {
     "data": {
      "application/vnd.jupyter.widget-view+json": {
       "model_id": "6cc3ecb4b6684855b000b5cf6b9837c1",
       "version_major": 2,
       "version_minor": 0
      },
      "text/plain": [
       "  0%|          | 0/100 [00:00<?, ?it/s]"
      ]
     },
     "metadata": {},
     "output_type": "display_data"
    }
   ],
   "source": [
    "SEED = 41\n",
    "np.random.seed(SEED)\n",
    "\n",
    "C = 0.01\n",
    "D = 100\n",
    "W_OPT = np.random.uniform(size=D)\n",
    "STD_UP = np.random.uniform(size=D) / np.sqrt(D)\n",
    "STD_DOWN = np.random.uniform(size=D) / np.sqrt(D)\n",
    "STD_UP[:5] = 0\n",
    "STD_DOWN[50:] = 0\n",
    "W_OPT[:15] *= 10\n",
    "W_OPT[:5] *= 10\n",
    "\n",
    "N_UP = 10000\n",
    "\n",
    "n_downs = np.logspace(0, 5, 100, dtype=int)\n",
    "\n",
    "errs_scratch = []\n",
    "errs_tune = []\n",
    "for n_down in tqdm(n_downs):\n",
    "    np.random.seed(SEED)\n",
    "    errs_scratch.append(\n",
    "        run_experiment(\n",
    "            w=W_OPT, n_up=0, n_down=n_down, std_up=STD_UP, std_down=STD_DOWN, C=C\n",
    "        )\n",
    "    )\n",
    "    np.random.seed(SEED)\n",
    "    errs_tune.append(\n",
    "        run_experiment(\n",
    "            w=W_OPT, n_up=N_UP, n_down=n_down, std_up=STD_UP, std_down=STD_DOWN, C=C\n",
    "        )\n",
    "    )\n",
    "\n",
    "errs_scratch = np.array(errs_scratch)\n",
    "errs_tune = np.array(errs_tune)\n",
    "RESULTS[C] = (errs_scratch, errs_tune)"
   ]
  },
  {
   "cell_type": "code",
   "execution_count": 79,
   "metadata": {},
   "outputs": [
    {
     "data": {
      "image/png": "[encoded data removed]",
      "text/plain": [
       "<Figure size 864x288 with 2 Axes>"
      ]
     },
     "metadata": {
      "needs_background": "light"
     },
     "output_type": "display_data"
    }
   ],
   "source": [
    "plt.figure(figsize=(12, 4))\n",
    "plt.subplots_adjust(wspace=0.3)\n",
    "plt.suptitle(f\"{D=} {N_UP=}\")\n",
    "\n",
    "plt.subplot(1, 2, 1)\n",
    "for C in [0.01]:\n",
    "    errs_scratch, errs_tune = RESULTS[C]\n",
    "    plt.plot(n_downs, errs_scratch, label=f\"scratch, {C=}\")\n",
    "    plt.plot(n_downs, errs_tune, label=f\"tune, {C=}\", linestyle=\"--\")\n",
    "\n",
    "plt.xscale(\"log\")\n",
    "plt.yscale(\"log\")\n",
    "plt.xlabel(\"# downstream train samples\")\n",
    "plt.ylabel(\"downstream test error\")\n",
    "plt.legend();\n",
    "\n",
    "plt.subplot(1, 2, 2)\n",
    "for C in [0.01]:\n",
    "    errs_scratch, errs_tune = RESULTS[C]\n",
    "    plt.plot(n_downs, errs_scratch, label=f\"scratch, {C=}\")\n",
    "    plt.plot(N_UP + n_downs, errs_tune, label=f\"tune, {C=}\", linestyle=\"--\")\n",
    "\n",
    "plt.xscale(\"log\")\n",
    "plt.yscale(\"log\")\n",
    "plt.xlabel(\"# total train samples\")\n",
    "plt.ylabel(\"downstream test error\")\n",
    "plt.legend();"
   ]
  },
  {
   "cell_type": "code",
   "execution_count": null,
   "metadata": {},
   "outputs": [],
   "source": []
  }
 ],
 "metadata": {
  "kernelspec": {
   "display_name": "Python 3.9.13 ('scaling-v2')",
   "language": "python",
   "name": "python3"
  },
  "language_info": {
   "codemirror_mode": {
    "name": "ipython",
    "version": 3
   },
   "file_extension": ".py",
   "mimetype": "text/x-python",
   "name": "python",
   "nbconvert_exporter": "python",
   "pygments_lexer": "ipython3",
   "version": "3.9.13"
  },
  "orig_nbformat": 4,
  "vscode": {
   "interpreter": {
    "hash": "c4d11743395684b28769a98b4ddabeeff0307a7a759e49eaefc6ee1943ee50fa"
   }
  }
 },
 "nbformat": 4,
 "nbformat_minor": 2
}
