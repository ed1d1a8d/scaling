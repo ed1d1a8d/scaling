{
 "cells": [
  {
   "attachments": {},
   "cell_type": "markdown",
   "metadata": {},
   "source": [
    "In this notebook, we compare the data-scaling of different learning algorithms on SVHN.\n",
    "\n",
    "The methods we compare are:\n",
    "1. Random guessing\n",
    "2. Training a DNN from scratch. (Bahri et al., Rosenfeld et al.)\n",
    "3. Linear probe on top of a pretrained model. (CLIP, LAION CLIP)\n",
    "4. Finetuning a pretrained model."
   ]
  },
  {
   "attachments": {},
   "cell_type": "markdown",
   "metadata": {},
   "source": [
    "### Load libraries"
   ]
  },
  {
   "cell_type": "code",
   "execution_count": 1,
   "metadata": {},
   "outputs": [],
   "source": [
    "import os\n",
    "import pathlib\n",
    "import sys\n",
    "from typing import Optional, Type\n",
    "\n",
    "import git.repo\n",
    "import matplotlib.pyplot as plt\n",
    "import numpy as np\n",
    "import pandas as pd\n",
    "import plotly.express as px\n",
    "import transformers\n",
    "import wandb\n",
    "import wandb.apis.public\n",
    "from tqdm import tqdm\n",
    "\n",
    "GIT_ROOT = pathlib.Path(\n",
    "    str(git.repo.Repo(\".\", search_parent_directories=True).working_tree_dir)\n",
    ")\n",
    "sys.path.append(str(GIT_ROOT))\n",
    "\n",
    "from src import utils\n",
    "from src.pretrain import gen_embeddings\n",
    "from src.pretrain.datasets.embedding import EmbeddingDataset\n",
    "from src.pretrain.datasets.vision import cifar10\n",
    "from src.pretrain.models import BaseEmbedderConfig, get_embedder_index\n",
    "\n",
    "transformers.logging.set_verbosity_error()"
   ]
  },
  {
   "attachments": {},
   "cell_type": "markdown",
   "metadata": {},
   "source": [
    "### Load wandb data"
   ]
  },
  {
   "cell_type": "code",
   "execution_count": 2,
   "metadata": {},
   "outputs": [
    {
     "data": {
      "text/plain": [
       "19"
      ]
     },
     "execution_count": 2,
     "metadata": {},
     "output_type": "execute_result"
    }
   ],
   "source": [
    "api = wandb.Api(timeout=30)\n",
    "runs: list[wandb.apis.public.Run] = api.runs(\n",
    "    f\"data-frugal-learning/probe-embeddings\",\n",
    "    filters={\n",
    "        \"$and\": [\n",
    "            {\"tags\": {\"$in\": [\"probe-seeds-v1\"]}},\n",
    "            {\"config.dataset_cfg.id\": {\"$eq\": \"svhn\"}},\n",
    "        ]\n",
    "    },\n",
    ")\n",
    "len(runs)"
   ]
  },
  {
   "attachments": {},
   "cell_type": "markdown",
   "metadata": {},
   "source": [
    "### Load transcribed data from papers"
   ]
  },
  {
   "cell_type": "code",
   "execution_count": 11,
   "metadata": {},
   "outputs": [
    {
     "data": {
      "text/html": [
       "<div>\n",
       "<style scoped>\n",
       "    .dataframe tbody tr th:only-of-type {\n",
       "        vertical-align: middle;\n",
       "    }\n",
       "\n",
       "    .dataframe tbody tr th {\n",
       "        vertical-align: top;\n",
       "    }\n",
       "\n",
       "    .dataframe thead th {\n",
       "        text-align: right;\n",
       "    }\n",
       "</style>\n",
       "<table border=\"1\" class=\"dataframe\">\n",
       "  <thead>\n",
       "    <tr style=\"text-align: right;\">\n",
       "      <th></th>\n",
       "      <th>n_train</th>\n",
       "      <th>err</th>\n",
       "    </tr>\n",
       "  </thead>\n",
       "  <tbody>\n",
       "    <tr>\n",
       "      <th>0</th>\n",
       "      <td>1024.000000</td>\n",
       "      <td>0.530702</td>\n",
       "    </tr>\n",
       "    <tr>\n",
       "      <th>1</th>\n",
       "      <td>2048.000000</td>\n",
       "      <td>0.390517</td>\n",
       "    </tr>\n",
       "    <tr>\n",
       "      <th>2</th>\n",
       "      <td>4096.000000</td>\n",
       "      <td>0.310207</td>\n",
       "    </tr>\n",
       "    <tr>\n",
       "      <th>3</th>\n",
       "      <td>8192.000000</td>\n",
       "      <td>0.238986</td>\n",
       "    </tr>\n",
       "    <tr>\n",
       "      <th>4</th>\n",
       "      <td>16384.000000</td>\n",
       "      <td>0.189839</td>\n",
       "    </tr>\n",
       "    <tr>\n",
       "      <th>5</th>\n",
       "      <td>32768.000000</td>\n",
       "      <td>0.167843</td>\n",
       "    </tr>\n",
       "    <tr>\n",
       "      <th>6</th>\n",
       "      <td>65536.000000</td>\n",
       "      <td>0.153005</td>\n",
       "    </tr>\n",
       "    <tr>\n",
       "      <th>7</th>\n",
       "      <td>131072.000000</td>\n",
       "      <td>0.117877</td>\n",
       "    </tr>\n",
       "    <tr>\n",
       "      <th>8</th>\n",
       "      <td>262144.000000</td>\n",
       "      <td>0.090813</td>\n",
       "    </tr>\n",
       "    <tr>\n",
       "      <th>9</th>\n",
       "      <td>524288.000000</td>\n",
       "      <td>0.081114</td>\n",
       "    </tr>\n",
       "    <tr>\n",
       "      <th>10</th>\n",
       "      <td>607309.500975</td>\n",
       "      <td>0.080688</td>\n",
       "    </tr>\n",
       "  </tbody>\n",
       "</table>\n",
       "</div>"
      ],
      "text/plain": [
       "          n_train       err\n",
       "0     1024.000000  0.530702\n",
       "1     2048.000000  0.390517\n",
       "2     4096.000000  0.310207\n",
       "3     8192.000000  0.238986\n",
       "4    16384.000000  0.189839\n",
       "5    32768.000000  0.167843\n",
       "6    65536.000000  0.153005\n",
       "7   131072.000000  0.117877\n",
       "8   262144.000000  0.090813\n",
       "9   524288.000000  0.081114\n",
       "10  607309.500975  0.080688"
      ]
     },
     "execution_count": 11,
     "metadata": {},
     "output_type": "execute_result"
    }
   ],
   "source": [
    "df_bahri = pd.read_csv(GIT_ROOT / \"data/bahri-svhn/wpd-clean.csv\")\n",
    "df_bahri"
   ]
  },
  {
   "attachments": {},
   "cell_type": "markdown",
   "metadata": {},
   "source": [
    "### Generate plots"
   ]
  },
  {
   "cell_type": "code",
   "execution_count": 12,
   "metadata": {},
   "outputs": [],
   "source": [
    "def plot_wandb_df(\n",
    "    df: pd.DataFrame,\n",
    "    query: str,\n",
    "    target: str = \"err\",\n",
    "    ci: float = 0.99,\n",
    "    **kwargs,\n",
    "):\n",
    "    gb = df.query(\n",
    "        \"&\".join(\n",
    "            (\n",
    "                \"dataset_id == 'cifar10'\",\n",
    "                \"cls_start == 0\",\n",
    "                \"cls_end == 10\",\n",
    "                \"(c == 100 | k == 1)\",\n",
    "                # \"embedder_id == 'openai/ViT-L/14'\",\n",
    "                # \"probe == 'linear'\",\n",
    "                # \"per_class == False\",\n",
    "                query,\n",
    "            )\n",
    "        )\n",
    "    ).groupby([\"n_train\"])\n",
    "\n",
    "    ax = gb[target].median().plot(**kwargs)\n",
    "    prev_color = ax.lines[-1].get_color()\n",
    "    plt.fill_between(\n",
    "        gb[target].median().index,\n",
    "        gb[target].quantile(0.5 - ci / 2),\n",
    "        gb[target].quantile(0.5 + ci / 2),\n",
    "        alpha=0.2,\n",
    "        color=prev_color,\n",
    "        edgecolor=\"none\"\n",
    "    )"
   ]
  },
  {
   "cell_type": "code",
   "execution_count": 13,
   "metadata": {},
   "outputs": [
    {
     "data": {
      "image/png": "[encoded data removed]",
      "text/plain": [
       "<Figure size 640x480 with 1 Axes>"
      ]
     },
     "metadata": {},
     "output_type": "display_data"
    }
   ],
   "source": [
    "plt.axhline(\n",
    "    0.9,\n",
    "    color=\"k\",\n",
    "    linestyle=\"--\",\n",
    "    label=\"Random guessing\",\n",
    "    zorder=-10,\n",
    "    alpha=0.5,\n",
    ")\n",
    "\n",
    "plt.plot(\n",
    "    df_bahri.n_train, df_bahri.err, label=\"Bahri et al. (2021) (from-scratch)\"\n",
    ")\n",
    "# plt.plot(\n",
    "#     df_prune_transfer.n_train,\n",
    "#     df_prune_transfer.err,\n",
    "#     label=\"Sorscher et al. (2022) (data pruning + whole-model-finetuning)\",\n",
    "# )\n",
    "# plt.plot(\n",
    "#     df_prune_scratch.n_train,\n",
    "#     df_prune_scratch.err,\n",
    "#     label=\"Pruning paper (from scratch)\",\n",
    "# )\n",
    "\n",
    "for embedder_id in (\n",
    "    # \"openai/ViT-L/14\",\n",
    "    # \"hf/laion/CLIP-ViT-H-14-laion2B-s32B-b79K\",\n",
    "    \"hf/microsoft/beit-large-patch16-224\",\n",
    "):\n",
    "    pass\n",
    "    # plot_wandb_df(\n",
    "    #     df,\n",
    "    #     query=f\"embedder_id == '{embedder_id}' & probe == 'linear' & per_class == False\",\n",
    "    #     label=f\"{embedder_id} linear probe (c=100)\",\n",
    "    # )\n",
    "    # plot_wandb_df(\n",
    "    #     df,\n",
    "    #     query=f\"embedder_id == '{embedder_id}' & probe == 'knn' & per_class == False\",\n",
    "    #     label=f\"{embedder_id} knn probe (k=1)\",\n",
    "    # )\n",
    "\n",
    "# https://paperswithcode.com/sota/image-classification-on-svhn\n",
    "plt.axhline(\n",
    "    0.99 / 100,\n",
    "    color=\"k\",\n",
    "    linestyle=\"--\",\n",
    "    label=\"SOTA (paperswithcode.com 2022-12-30)\",\n",
    "    zorder=-10,\n",
    ")\n",
    "\n",
    "plt.title(f\"CIFAR-10 data scaling\")\n",
    "\n",
    "plt.xscale(\"log\")\n",
    "plt.yscale(\"log\")\n",
    "plt.xlabel(\"Number of training examples\")\n",
    "plt.ylabel(f\"Test error\")\n",
    "\n",
    "# Plot legend underneath plot\n",
    "plt.legend(\n",
    "    loc=\"upper center\",\n",
    "    bbox_to_anchor=(0.5, -0.15),\n",
    "    ncol=1,\n",
    ")\n",
    "plt.show()"
   ]
  },
  {
   "cell_type": "code",
   "execution_count": null,
   "metadata": {},
   "outputs": [],
   "source": []
  }
 ],
 "metadata": {
  "kernelspec": {
   "display_name": "scaling-v2.1",
   "language": "python",
   "name": "python3"
  },
  "language_info": {
   "codemirror_mode": {
    "name": "ipython",
    "version": 3
   },
   "file_extension": ".py",
   "mimetype": "text/x-python",
   "name": "python",
   "nbconvert_exporter": "python",
   "pygments_lexer": "ipython3",
   "version": "3.9.15"
  },
  "orig_nbformat": 4,
  "vscode": {
   "interpreter": {
    "hash": "61177a12be6aa617a44aeed8ca637cdccfad9c0d3627f460074e17b4bc46c625"
   }
  }
 },
 "nbformat": 4,
 "nbformat_minor": 2
}
