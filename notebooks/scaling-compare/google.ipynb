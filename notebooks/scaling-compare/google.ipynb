{
 "cells": [
  {
   "attachments": {},
   "cell_type": "markdown",
   "metadata": {},
   "source": [
    "This notebook analyzes the empirical scaling trends from\n",
    "https://github.com/google-research/google-research/tree/master/revisiting_neural_scaling_laws"
   ]
  },
  {
   "attachments": {},
   "cell_type": "markdown",
   "metadata": {},
   "source": [
    "### Load libraries"
   ]
  },
  {
   "cell_type": "code",
   "execution_count": 1,
   "metadata": {},
   "outputs": [],
   "source": [
    "import pathlib\n",
    "\n",
    "import git.repo\n",
    "import matplotlib.pyplot as plt\n",
    "import numpy as np\n",
    "import pandas as pd\n",
    "\n",
    "GIT_ROOT = pathlib.Path(\n",
    "    str(git.repo.Repo(\".\", search_parent_directories=True).working_tree_dir)\n",
    ")"
   ]
  },
  {
   "attachments": {},
   "cell_type": "markdown",
   "metadata": {},
   "source": [
    "### Load data"
   ]
  },
  {
   "cell_type": "code",
   "execution_count": 11,
   "metadata": {},
   "outputs": [
    {
     "name": "stdout",
     "output_type": "stream",
     "text": [
      "['NMT' 'LM' 'BB']\n",
      "['log_perplexity' 'val_loss' \"('date', '1-shot')\" \"('date', '2-shot')\"\n",
      " \"('ling', '1-shot')\" \"('ling', '2-shot')\" \"('qa', '1-shot')\"\n",
      " \"('qa', '2-shot')\" \"('mult', '1-shot')\" \"('mult', '2-shot')\"\n",
      " \"('unit', '1-shot')\" \"('unit', '2-shot')\"]\n",
      "500000.0 313235865600.0\n"
     ]
    },
    {
     "data": {
      "text/html": [
       "<div>\n",
       "<style scoped>\n",
       "    .dataframe tbody tr th:only-of-type {\n",
       "        vertical-align: middle;\n",
       "    }\n",
       "\n",
       "    .dataframe tbody tr th {\n",
       "        vertical-align: top;\n",
       "    }\n",
       "\n",
       "    .dataframe thead th {\n",
       "        text-align: right;\n",
       "    }\n",
       "</style>\n",
       "<table border=\"1\" class=\"dataframe\">\n",
       "  <thead>\n",
       "    <tr style=\"text-align: right;\">\n",
       "      <th></th>\n",
       "      <th>Domain</th>\n",
       "      <th>Task</th>\n",
       "      <th>Model</th>\n",
       "      <th>Seen Examples</th>\n",
       "      <th>Loss</th>\n",
       "      <th>Training</th>\n",
       "    </tr>\n",
       "  </thead>\n",
       "  <tbody>\n",
       "    <tr>\n",
       "      <th>0</th>\n",
       "      <td>NMT</td>\n",
       "      <td>log_perplexity</td>\n",
       "      <td>6 Enc, 6 Dec</td>\n",
       "      <td>500000.0</td>\n",
       "      <td>0.931175</td>\n",
       "      <td>1</td>\n",
       "    </tr>\n",
       "    <tr>\n",
       "      <th>1</th>\n",
       "      <td>NMT</td>\n",
       "      <td>log_perplexity</td>\n",
       "      <td>6 Enc, 6 Dec</td>\n",
       "      <td>1000000.0</td>\n",
       "      <td>0.743928</td>\n",
       "      <td>1</td>\n",
       "    </tr>\n",
       "    <tr>\n",
       "      <th>2</th>\n",
       "      <td>NMT</td>\n",
       "      <td>log_perplexity</td>\n",
       "      <td>6 Enc, 6 Dec</td>\n",
       "      <td>2000000.0</td>\n",
       "      <td>0.636239</td>\n",
       "      <td>1</td>\n",
       "    </tr>\n",
       "    <tr>\n",
       "      <th>3</th>\n",
       "      <td>NMT</td>\n",
       "      <td>log_perplexity</td>\n",
       "      <td>6 Enc, 6 Dec</td>\n",
       "      <td>4000000.0</td>\n",
       "      <td>0.556788</td>\n",
       "      <td>1</td>\n",
       "    </tr>\n",
       "    <tr>\n",
       "      <th>4</th>\n",
       "      <td>NMT</td>\n",
       "      <td>log_perplexity</td>\n",
       "      <td>6 Enc, 6 Dec</td>\n",
       "      <td>8000000.0</td>\n",
       "      <td>0.482007</td>\n",
       "      <td>1</td>\n",
       "    </tr>\n",
       "  </tbody>\n",
       "</table>\n",
       "</div>"
      ],
      "text/plain": [
       "  Domain            Task         Model  Seen Examples      Loss  Training\n",
       "0    NMT  log_perplexity  6 Enc, 6 Dec       500000.0  0.931175         1\n",
       "1    NMT  log_perplexity  6 Enc, 6 Dec      1000000.0  0.743928         1\n",
       "2    NMT  log_perplexity  6 Enc, 6 Dec      2000000.0  0.636239         1\n",
       "3    NMT  log_perplexity  6 Enc, 6 Dec      4000000.0  0.556788         1\n",
       "4    NMT  log_perplexity  6 Enc, 6 Dec      8000000.0  0.482007         1"
      ]
     },
     "execution_count": 11,
     "metadata": {},
     "output_type": "execute_result"
    }
   ],
   "source": [
    "df_lang = pd.read_csv(GIT_ROOT / \"data\" / \"google-revisiting-2022\" / \"benchmark.lang.csv\")\n",
    "print(df_lang.Domain.unique())\n",
    "print(df_lang.Task.unique())\n",
    "print(df_lang[\"Seen Examples\"].min(), df_lang[\"Seen Examples\"].max())\n",
    "df_lang.head()"
   ]
  },
  {
   "cell_type": "code",
   "execution_count": 12,
   "metadata": {},
   "outputs": [
    {
     "name": "stdout",
     "output_type": "stream",
     "text": [
      "['IC']\n",
      "['bird_5' 'bird_10' 'bird_25' 'c_5' 'c_10' 'c_25' 'cal_5' 'cal_10'\n",
      " 'cal_25' 'inet_5' 'inet_10' 'inet_25']\n",
      "4096000.0 5824512000.0\n"
     ]
    },
    {
     "data": {
      "text/html": [
       "<div>\n",
       "<style scoped>\n",
       "    .dataframe tbody tr th:only-of-type {\n",
       "        vertical-align: middle;\n",
       "    }\n",
       "\n",
       "    .dataframe tbody tr th {\n",
       "        vertical-align: top;\n",
       "    }\n",
       "\n",
       "    .dataframe thead th {\n",
       "        text-align: right;\n",
       "    }\n",
       "</style>\n",
       "<table border=\"1\" class=\"dataframe\">\n",
       "  <thead>\n",
       "    <tr style=\"text-align: right;\">\n",
       "      <th></th>\n",
       "      <th>Domain</th>\n",
       "      <th>Task</th>\n",
       "      <th>Model</th>\n",
       "      <th>Seen Examples</th>\n",
       "      <th>Loss</th>\n",
       "      <th>Training</th>\n",
       "    </tr>\n",
       "  </thead>\n",
       "  <tbody>\n",
       "    <tr>\n",
       "      <th>0</th>\n",
       "      <td>IC</td>\n",
       "      <td>bird_5</td>\n",
       "      <td>MiX/B/16</td>\n",
       "      <td>7700779.0</td>\n",
       "      <td>0.975829</td>\n",
       "      <td>1</td>\n",
       "    </tr>\n",
       "    <tr>\n",
       "      <th>1</th>\n",
       "      <td>IC</td>\n",
       "      <td>bird_5</td>\n",
       "      <td>MiX/B/16</td>\n",
       "      <td>11980004.0</td>\n",
       "      <td>0.957700</td>\n",
       "      <td>1</td>\n",
       "    </tr>\n",
       "    <tr>\n",
       "      <th>2</th>\n",
       "      <td>IC</td>\n",
       "      <td>bird_5</td>\n",
       "      <td>MiX/B/16</td>\n",
       "      <td>15421508.0</td>\n",
       "      <td>0.941644</td>\n",
       "      <td>1</td>\n",
       "    </tr>\n",
       "    <tr>\n",
       "      <th>3</th>\n",
       "      <td>IC</td>\n",
       "      <td>bird_5</td>\n",
       "      <td>MiX/B/16</td>\n",
       "      <td>19851656.0</td>\n",
       "      <td>0.919372</td>\n",
       "      <td>1</td>\n",
       "    </tr>\n",
       "    <tr>\n",
       "      <th>4</th>\n",
       "      <td>IC</td>\n",
       "      <td>bird_5</td>\n",
       "      <td>MiX/B/16</td>\n",
       "      <td>23991045.0</td>\n",
       "      <td>0.902452</td>\n",
       "      <td>1</td>\n",
       "    </tr>\n",
       "  </tbody>\n",
       "</table>\n",
       "</div>"
      ],
      "text/plain": [
       "  Domain    Task     Model  Seen Examples      Loss  Training\n",
       "0     IC  bird_5  MiX/B/16      7700779.0  0.975829         1\n",
       "1     IC  bird_5  MiX/B/16     11980004.0  0.957700         1\n",
       "2     IC  bird_5  MiX/B/16     15421508.0  0.941644         1\n",
       "3     IC  bird_5  MiX/B/16     19851656.0  0.919372         1\n",
       "4     IC  bird_5  MiX/B/16     23991045.0  0.902452         1"
      ]
     },
     "execution_count": 12,
     "metadata": {},
     "output_type": "execute_result"
    }
   ],
   "source": [
    "df_vision = pd.read_csv(GIT_ROOT / \"data\" / \"google-revisiting-2022\" / \"benchmark.vision.csv\")\n",
    "print(df_vision.Domain.unique())\n",
    "print(df_vision.Task.unique())\n",
    "print(df_vision[\"Seen Examples\"].min(), df_vision[\"Seen Examples\"].max())\n",
    "df_vision.head()"
   ]
  },
  {
   "attachments": {},
   "cell_type": "markdown",
   "metadata": {},
   "source": [
    "All the data here is in the large data regime!"
   ]
  }
 ],
 "metadata": {
  "kernelspec": {
   "display_name": "scaling-v2",
   "language": "python",
   "name": "python3"
  },
  "language_info": {
   "codemirror_mode": {
    "name": "ipython",
    "version": 3
   },
   "file_extension": ".py",
   "mimetype": "text/x-python",
   "name": "python",
   "nbconvert_exporter": "python",
   "pygments_lexer": "ipython3",
   "version": "3.9.13"
  },
  "orig_nbformat": 4,
  "vscode": {
   "interpreter": {
    "hash": "c4d11743395684b28769a98b4ddabeeff0307a7a759e49eaefc6ee1943ee50fa"
   }
  }
 },
 "nbformat": 4,
 "nbformat_minor": 2
}
